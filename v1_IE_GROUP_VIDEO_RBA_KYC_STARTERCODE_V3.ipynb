{
  "nbformat": 4,
  "nbformat_minor": 0,
  "metadata": {
    "kernelspec": {
      "display_name": "Python 3",
      "language": "python",
      "name": "python3"
    },
    "language_info": {
      "codemirror_mode": {
        "name": "ipython",
        "version": 3
      },
      "file_extension": ".py",
      "mimetype": "text/x-python",
      "name": "python",
      "nbconvert_exporter": "python",
      "pygments_lexer": "ipython3",
      "version": "3.8.5"
    },
    "colab": {
      "name": "v1_IE_GROUP_VIDEO_RBA_KYC_STARTERCODE_V3.ipynb",
      "provenance": [],
      "include_colab_link": true
    },
    "widgets": {
      "application/vnd.jupyter.widget-state+json": {
        "fe1aae5f6b10441aace60b6e2b6303af": {
          "model_module": "@jupyter-widgets/controls",
          "model_name": "HBoxModel",
          "state": {
            "_view_name": "HBoxView",
            "_dom_classes": [],
            "_model_name": "HBoxModel",
            "_view_module": "@jupyter-widgets/controls",
            "_model_module_version": "1.5.0",
            "_view_count": null,
            "_view_module_version": "1.5.0",
            "box_style": "",
            "layout": "IPY_MODEL_ab6099bab5f4492384ebee5189f6922b",
            "_model_module": "@jupyter-widgets/controls",
            "children": [
              "IPY_MODEL_5fcc0e63b3e54fa58baf612cba235e9e",
              "IPY_MODEL_6166df7606ed4f1aaa473b8184177ce1",
              "IPY_MODEL_84c3761f455741db904b8a6a25fa2e53"
            ]
          }
        },
        "ab6099bab5f4492384ebee5189f6922b": {
          "model_module": "@jupyter-widgets/base",
          "model_name": "LayoutModel",
          "state": {
            "_view_name": "LayoutView",
            "grid_template_rows": null,
            "right": null,
            "justify_content": null,
            "_view_module": "@jupyter-widgets/base",
            "overflow": null,
            "_model_module_version": "1.2.0",
            "_view_count": null,
            "flex_flow": null,
            "width": null,
            "min_width": null,
            "border": null,
            "align_items": null,
            "bottom": null,
            "_model_module": "@jupyter-widgets/base",
            "top": null,
            "grid_column": null,
            "overflow_y": null,
            "overflow_x": null,
            "grid_auto_flow": null,
            "grid_area": null,
            "grid_template_columns": null,
            "flex": null,
            "_model_name": "LayoutModel",
            "justify_items": null,
            "grid_row": null,
            "max_height": null,
            "align_content": null,
            "visibility": null,
            "align_self": null,
            "height": null,
            "min_height": null,
            "padding": null,
            "grid_auto_rows": null,
            "grid_gap": null,
            "max_width": null,
            "order": null,
            "_view_module_version": "1.2.0",
            "grid_template_areas": null,
            "object_position": null,
            "object_fit": null,
            "grid_auto_columns": null,
            "margin": null,
            "display": null,
            "left": null
          }
        },
        "5fcc0e63b3e54fa58baf612cba235e9e": {
          "model_module": "@jupyter-widgets/controls",
          "model_name": "HTMLModel",
          "state": {
            "_view_name": "HTMLView",
            "style": "IPY_MODEL_9cc82b5461014a999785abfa7e58b1e9",
            "_dom_classes": [],
            "description": "",
            "_model_name": "HTMLModel",
            "placeholder": "​",
            "_view_module": "@jupyter-widgets/controls",
            "_model_module_version": "1.5.0",
            "value": "Summarize dataset:  81%",
            "_view_count": null,
            "_view_module_version": "1.5.0",
            "description_tooltip": null,
            "_model_module": "@jupyter-widgets/controls",
            "layout": "IPY_MODEL_26a6c1ada6654eea9d1566f8cdb40e1a"
          }
        },
        "6166df7606ed4f1aaa473b8184177ce1": {
          "model_module": "@jupyter-widgets/controls",
          "model_name": "FloatProgressModel",
          "state": {
            "_view_name": "ProgressView",
            "style": "IPY_MODEL_18e6360716f848dfac7788d2789bc6f6",
            "_dom_classes": [],
            "description": "",
            "_model_name": "FloatProgressModel",
            "bar_style": "danger",
            "max": 36,
            "_view_module": "@jupyter-widgets/controls",
            "_model_module_version": "1.5.0",
            "value": 29,
            "_view_count": null,
            "_view_module_version": "1.5.0",
            "orientation": "horizontal",
            "min": 0,
            "description_tooltip": null,
            "_model_module": "@jupyter-widgets/controls",
            "layout": "IPY_MODEL_b31eef9d2ebe4364bd3517cc0b86f4d9"
          }
        },
        "84c3761f455741db904b8a6a25fa2e53": {
          "model_module": "@jupyter-widgets/controls",
          "model_name": "HTMLModel",
          "state": {
            "_view_name": "HTMLView",
            "style": "IPY_MODEL_f286c2d66f9d44ba853e5c5dbf1858c8",
            "_dom_classes": [],
            "description": "",
            "_model_name": "HTMLModel",
            "placeholder": "​",
            "_view_module": "@jupyter-widgets/controls",
            "_model_module_version": "1.5.0",
            "value": " 29/36 [10:24&lt;00:25,  3.65s/it, Get scatter matrix]",
            "_view_count": null,
            "_view_module_version": "1.5.0",
            "description_tooltip": null,
            "_model_module": "@jupyter-widgets/controls",
            "layout": "IPY_MODEL_34d1639cd4624d4d9bb4e2a6146370dc"
          }
        },
        "9cc82b5461014a999785abfa7e58b1e9": {
          "model_module": "@jupyter-widgets/controls",
          "model_name": "DescriptionStyleModel",
          "state": {
            "_view_name": "StyleView",
            "_model_name": "DescriptionStyleModel",
            "description_width": "",
            "_view_module": "@jupyter-widgets/base",
            "_model_module_version": "1.5.0",
            "_view_count": null,
            "_view_module_version": "1.2.0",
            "_model_module": "@jupyter-widgets/controls"
          }
        },
        "26a6c1ada6654eea9d1566f8cdb40e1a": {
          "model_module": "@jupyter-widgets/base",
          "model_name": "LayoutModel",
          "state": {
            "_view_name": "LayoutView",
            "grid_template_rows": null,
            "right": null,
            "justify_content": null,
            "_view_module": "@jupyter-widgets/base",
            "overflow": null,
            "_model_module_version": "1.2.0",
            "_view_count": null,
            "flex_flow": null,
            "width": null,
            "min_width": null,
            "border": null,
            "align_items": null,
            "bottom": null,
            "_model_module": "@jupyter-widgets/base",
            "top": null,
            "grid_column": null,
            "overflow_y": null,
            "overflow_x": null,
            "grid_auto_flow": null,
            "grid_area": null,
            "grid_template_columns": null,
            "flex": null,
            "_model_name": "LayoutModel",
            "justify_items": null,
            "grid_row": null,
            "max_height": null,
            "align_content": null,
            "visibility": null,
            "align_self": null,
            "height": null,
            "min_height": null,
            "padding": null,
            "grid_auto_rows": null,
            "grid_gap": null,
            "max_width": null,
            "order": null,
            "_view_module_version": "1.2.0",
            "grid_template_areas": null,
            "object_position": null,
            "object_fit": null,
            "grid_auto_columns": null,
            "margin": null,
            "display": null,
            "left": null
          }
        },
        "18e6360716f848dfac7788d2789bc6f6": {
          "model_module": "@jupyter-widgets/controls",
          "model_name": "ProgressStyleModel",
          "state": {
            "_view_name": "StyleView",
            "_model_name": "ProgressStyleModel",
            "description_width": "",
            "_view_module": "@jupyter-widgets/base",
            "_model_module_version": "1.5.0",
            "_view_count": null,
            "_view_module_version": "1.2.0",
            "bar_color": null,
            "_model_module": "@jupyter-widgets/controls"
          }
        },
        "b31eef9d2ebe4364bd3517cc0b86f4d9": {
          "model_module": "@jupyter-widgets/base",
          "model_name": "LayoutModel",
          "state": {
            "_view_name": "LayoutView",
            "grid_template_rows": null,
            "right": null,
            "justify_content": null,
            "_view_module": "@jupyter-widgets/base",
            "overflow": null,
            "_model_module_version": "1.2.0",
            "_view_count": null,
            "flex_flow": null,
            "width": null,
            "min_width": null,
            "border": null,
            "align_items": null,
            "bottom": null,
            "_model_module": "@jupyter-widgets/base",
            "top": null,
            "grid_column": null,
            "overflow_y": null,
            "overflow_x": null,
            "grid_auto_flow": null,
            "grid_area": null,
            "grid_template_columns": null,
            "flex": null,
            "_model_name": "LayoutModel",
            "justify_items": null,
            "grid_row": null,
            "max_height": null,
            "align_content": null,
            "visibility": null,
            "align_self": null,
            "height": null,
            "min_height": null,
            "padding": null,
            "grid_auto_rows": null,
            "grid_gap": null,
            "max_width": null,
            "order": null,
            "_view_module_version": "1.2.0",
            "grid_template_areas": null,
            "object_position": null,
            "object_fit": null,
            "grid_auto_columns": null,
            "margin": null,
            "display": null,
            "left": null
          }
        },
        "f286c2d66f9d44ba853e5c5dbf1858c8": {
          "model_module": "@jupyter-widgets/controls",
          "model_name": "DescriptionStyleModel",
          "state": {
            "_view_name": "StyleView",
            "_model_name": "DescriptionStyleModel",
            "description_width": "",
            "_view_module": "@jupyter-widgets/base",
            "_model_module_version": "1.5.0",
            "_view_count": null,
            "_view_module_version": "1.2.0",
            "_model_module": "@jupyter-widgets/controls"
          }
        },
        "34d1639cd4624d4d9bb4e2a6146370dc": {
          "model_module": "@jupyter-widgets/base",
          "model_name": "LayoutModel",
          "state": {
            "_view_name": "LayoutView",
            "grid_template_rows": null,
            "right": null,
            "justify_content": null,
            "_view_module": "@jupyter-widgets/base",
            "overflow": null,
            "_model_module_version": "1.2.0",
            "_view_count": null,
            "flex_flow": null,
            "width": null,
            "min_width": null,
            "border": null,
            "align_items": null,
            "bottom": null,
            "_model_module": "@jupyter-widgets/base",
            "top": null,
            "grid_column": null,
            "overflow_y": null,
            "overflow_x": null,
            "grid_auto_flow": null,
            "grid_area": null,
            "grid_template_columns": null,
            "flex": null,
            "_model_name": "LayoutModel",
            "justify_items": null,
            "grid_row": null,
            "max_height": null,
            "align_content": null,
            "visibility": null,
            "align_self": null,
            "height": null,
            "min_height": null,
            "padding": null,
            "grid_auto_rows": null,
            "grid_gap": null,
            "max_width": null,
            "order": null,
            "_view_module_version": "1.2.0",
            "grid_template_areas": null,
            "object_position": null,
            "object_fit": null,
            "grid_auto_columns": null,
            "margin": null,
            "display": null,
            "left": null
          }
        }
      }
    }
  },
  "cells": [
    {
      "cell_type": "markdown",
      "metadata": {
        "id": "view-in-github",
        "colab_type": "text"
      },
      "source": [
        "<a href=\"https://colab.research.google.com/github/ipolakovic/EDA_Video/blob/main/v1_IE_GROUP_VIDEO_RBA_KYC_STARTERCODE_V3.ipynb\" target=\"_parent\"><img src=\"https://colab.research.google.com/assets/colab-badge.svg\" alt=\"Open In Colab\"/></a>"
      ]
    },
    {
      "cell_type": "code",
      "metadata": {
        "id": "S7an58-KUbv6"
      },
      "source": [
        ""
      ],
      "execution_count": null,
      "outputs": []
    },
    {
      "cell_type": "markdown",
      "metadata": {
        "id": "AIFYEMnIw96d"
      },
      "source": [
        "<img src=\"ivan_coffee_2.png\" width=100 height=100 align=\"right\">\n",
        "\n",
        "Author: Ivan Polakovic\n",
        "\n",
        "Last revision: 24/February/2021"
      ]
    },
    {
      "cell_type": "code",
      "metadata": {
        "colab": {
          "base_uri": "https://localhost:8080/"
        },
        "id": "KKrnm-ED547X",
        "outputId": "ecbc556a-2cb6-403f-95d4-301fd0ba7e00"
      },
      "source": [
        "!git clone https://github.com/ipolakovic/EDA_Video.git"
      ],
      "execution_count": 15,
      "outputs": [
        {
          "output_type": "stream",
          "text": [
            "Cloning into 'EDA_Video'...\n",
            "remote: Enumerating objects: 10, done.\u001b[K\n",
            "remote: Counting objects: 100% (10/10), done.\u001b[K\n",
            "remote: Compressing objects: 100% (10/10), done.\u001b[K\n",
            "remote: Total 10 (delta 2), reused 0 (delta 0), pack-reused 0\u001b[K\n",
            "Unpacking objects: 100% (10/10), done.\n"
          ],
          "name": "stdout"
        }
      ]
    },
    {
      "cell_type": "code",
      "metadata": {
        "colab": {
          "base_uri": "https://localhost:8080/"
        },
        "id": "kaQuBGXw5jYT",
        "outputId": "2420ed7d-97f8-4b7b-a2d0-90b885683986"
      },
      "source": [
        "from google.colab import drive\n",
        "drive.mount('/content/drive')"
      ],
      "execution_count": 14,
      "outputs": [
        {
          "output_type": "stream",
          "text": [
            "Mounted at /content/drive\n"
          ],
          "name": "stdout"
        }
      ]
    },
    {
      "cell_type": "markdown",
      "metadata": {
        "id": "B-qlYl0pw96h"
      },
      "source": [
        "---"
      ]
    },
    {
      "cell_type": "code",
      "metadata": {
        "colab": {
          "base_uri": "https://localhost:8080/",
          "height": 35
        },
        "id": "b_yRt1_s2HAn",
        "outputId": "cd633fe3-3022-47e2-d984-77a56e3248d3"
      },
      "source": [
        "import os\r\n",
        "os.getcwd()"
      ],
      "execution_count": 1,
      "outputs": [
        {
          "output_type": "execute_result",
          "data": {
            "application/vnd.google.colaboratory.intrinsic+json": {
              "type": "string"
            },
            "text/plain": [
              "'/content'"
            ]
          },
          "metadata": {
            "tags": []
          },
          "execution_count": 1
        }
      ]
    },
    {
      "cell_type": "markdown",
      "metadata": {
        "id": "2ojXfIQSw96i"
      },
      "source": [
        "Welcome to the GROUP VIDEO starter code.\n",
        "\n",
        "Your group task is to record a video of 10 - 15 minutes CLEANING DATA and DEVELOPING 2 MODELS using the RBA_KYC_Accounts_ALL_Ids.xlsx dataset. You should use Pandas, Matplotlib and Scikit Learn (Sklearn) libraries only if possible. Your video should include:\n",
        "\n",
        "* A quick explanation of Pandas, Matplotlib and Sklearn, specially including their histories. (less than a minute)\n",
        "* A quick Exploratory Data Analysis of the data set used.\n",
        "* Using the EDA, explain the problems of data quality in this data set.\n",
        "* Research about data preparation with Python. Propose and implement ways to clean, input missing and prepare the data for modelling. (YOUR VIDEO SHOULD FOCUS IN THIS PART - 70-80% OF THE VIDEO SHOULD BE ABOUT DATA CLEANING AND DATA PREPARATION)\n",
        "* Then, develop one Regression model using rbaValue as target variable.  Remember to assess the model performance using an appropriate measure for regression. \n",
        "* Then, develop one binary Classification model using Risk_Description setting Risk_Description = Low as 0 and else 1 (Medium or High). Remember to assess your model performance using a appropriate measure for classification.\n",
        "\n",
        "ps. please, don't improve the model, you don't need to make good one, simply do a quick one! This exercise is about explaining, in a video lecture, how to prepare the data for modelling , not about making a good model .\n",
        "\n",
        "ps. You can apply any of the steps in the model development seing in the last class, but be coincious of time it may take to do it all, so avoid overcomplicating things.\n",
        "\n",
        "Please find below couple videos from previous years (different data set and different objective) and from which you'll also learn some Python ideas:\n",
        "\n",
        "* 2018 MBD01 Group E Variable Transformation - https://www.youtube.com/watch?v=j_0HQ2UF_L0\n",
        "* 2019 - Risk & Fraud Analytics - Scikit Learn & Lending Club - Group C - https://www.youtube.com/watch?v=oTmHMXsksM8"
      ]
    },
    {
      "cell_type": "code",
      "metadata": {
        "colab": {
          "base_uri": "https://localhost:8080/",
          "height": 367
        },
        "id": "HYPrQHdvYo_L",
        "outputId": "dbfa9e2a-92dc-4c58-a23e-ac15275531ef"
      },
      "source": [
        "# Import Dependencies\r\n",
        "%matplotlib inline\r\n",
        "\r\n",
        "# Start Python Imports\r\n",
        "import math, time, random, datetime\r\n",
        "# Visualization \r\n",
        "import matplotlib.pyplot as plt\r\n",
        "import missingno\r\n",
        "import seaborn as sns\r\n",
        "plt.style.use('seaborn-whitegrid')\r\n",
        "\r\n",
        "# Preprocessing\r\n",
        "from sklearn.preprocessing import OneHotEncoder, LabelEncoder, label_binarize\r\n",
        "# Machine learning\r\n",
        "from sklearn import model_selection, tree, preprocessing, metrics, linear_model\r\n",
        "from sklearn.model_selection import train_test_split\r\n",
        "from sklearn.svm import LinearSVC\r\n",
        "from sklearn.ensemble import GradientBoostingClassifier\r\n",
        "from sklearn.ensemble import GradientBoostingRegressor\r\n",
        "from sklearn.neighbors import KNeighborsClassifier\r\n",
        "from sklearn.naive_bayes import GaussianNB\r\n",
        "from sklearn.linear_model import LinearRegression, LogisticRegression, SGDClassifier\r\n",
        "from sklearn.tree import DecisionTreeClassifier\r\n",
        "from catboost import CatBoostClassifier, Pool, cv\r\n",
        "from scipy import stats\r\n",
        "from sklearn.preprocessing import LabelEncoder\r\n",
        "from sklearn.model_selection import KFold, cross_val_score\r\n",
        "from sklearn.linear_model import Ridge, SGDRegressor, ElasticNetCV, Lasso\r\n",
        "from sklearn.metrics import mean_squared_error, SCORERS\r\n",
        "from sklearn.kernel_ridge import KernelRidge\r\n",
        "from sklearn.impute import SimpleImputer\r\n",
        "from sklearn.preprocessing import PolynomialFeatures, MinMaxScaler\r\n",
        "from sklearn.model_selection import GridSearchCV\r\n",
        "from xgboost.sklearn import XGBRegressor\r\n",
        "from tqdm.notebook import tqdm"
      ],
      "execution_count": 10,
      "outputs": [
        {
          "output_type": "error",
          "ename": "ModuleNotFoundError",
          "evalue": "ignored",
          "traceback": [
            "\u001b[0;31m---------------------------------------------------------------------------\u001b[0m",
            "\u001b[0;31mModuleNotFoundError\u001b[0m                       Traceback (most recent call last)",
            "\u001b[0;32m<ipython-input-10-38787a4c5011>\u001b[0m in \u001b[0;36m<module>\u001b[0;34m()\u001b[0m\n\u001b[1;32m     22\u001b[0m \u001b[0;32mfrom\u001b[0m \u001b[0msklearn\u001b[0m\u001b[0;34m.\u001b[0m\u001b[0mlinear_model\u001b[0m \u001b[0;32mimport\u001b[0m \u001b[0mLinearRegression\u001b[0m\u001b[0;34m,\u001b[0m \u001b[0mLogisticRegression\u001b[0m\u001b[0;34m,\u001b[0m \u001b[0mSGDClassifier\u001b[0m\u001b[0;34m\u001b[0m\u001b[0;34m\u001b[0m\u001b[0m\n\u001b[1;32m     23\u001b[0m \u001b[0;32mfrom\u001b[0m \u001b[0msklearn\u001b[0m\u001b[0;34m.\u001b[0m\u001b[0mtree\u001b[0m \u001b[0;32mimport\u001b[0m \u001b[0mDecisionTreeClassifier\u001b[0m\u001b[0;34m\u001b[0m\u001b[0;34m\u001b[0m\u001b[0m\n\u001b[0;32m---> 24\u001b[0;31m \u001b[0;32mfrom\u001b[0m \u001b[0mcatboost\u001b[0m \u001b[0;32mimport\u001b[0m \u001b[0mCatBoostClassifier\u001b[0m\u001b[0;34m,\u001b[0m \u001b[0mPool\u001b[0m\u001b[0;34m,\u001b[0m \u001b[0mcv\u001b[0m\u001b[0;34m\u001b[0m\u001b[0;34m\u001b[0m\u001b[0m\n\u001b[0m\u001b[1;32m     25\u001b[0m \u001b[0;32mfrom\u001b[0m \u001b[0mscipy\u001b[0m \u001b[0;32mimport\u001b[0m \u001b[0mstats\u001b[0m\u001b[0;34m\u001b[0m\u001b[0;34m\u001b[0m\u001b[0m\n\u001b[1;32m     26\u001b[0m \u001b[0;32mfrom\u001b[0m \u001b[0msklearn\u001b[0m\u001b[0;34m.\u001b[0m\u001b[0mpreprocessing\u001b[0m \u001b[0;32mimport\u001b[0m \u001b[0mLabelEncoder\u001b[0m\u001b[0;34m\u001b[0m\u001b[0;34m\u001b[0m\u001b[0m\n",
            "\u001b[0;31mModuleNotFoundError\u001b[0m: No module named 'catboost'",
            "",
            "\u001b[0;31m---------------------------------------------------------------------------\u001b[0;32m\nNOTE: If your import is failing due to a missing package, you can\nmanually install dependencies using either !pip or !apt.\n\nTo view examples of installing some common dependencies, click the\n\"Open Examples\" button below.\n\u001b[0;31m---------------------------------------------------------------------------\u001b[0m\n"
          ]
        }
      ]
    },
    {
      "cell_type": "markdown",
      "metadata": {
        "id": "WbWfixUBw96k"
      },
      "source": [
        "---"
      ]
    },
    {
      "cell_type": "markdown",
      "metadata": {
        "id": "R-yjj7xMw96m"
      },
      "source": [
        "### Importing the database: RBA_KYC_Accounts_ALL_Ids.xlsx"
      ]
    },
    {
      "cell_type": "code",
      "metadata": {
        "id": "ixpBSbc8w96m"
      },
      "source": [
        "import pandas as pd\n",
        "df = pd.read_excel(\"/content/drive/My Drive/Python_Group_Assignment/RBA_KYC_Accounts_ALL_Ids.xlsx\")"
      ],
      "execution_count": 1,
      "outputs": []
    },
    {
      "cell_type": "code",
      "metadata": {
        "id": "CO5Z7RCFwY1r"
      },
      "source": [
        "metadata = pd.read_excel(\"/content/drive/My Drive/Python_Group_Assignment/RBA Metadata.xlsx\")"
      ],
      "execution_count": 43,
      "outputs": []
    },
    {
      "cell_type": "code",
      "metadata": {
        "colab": {
          "base_uri": "https://localhost:8080/",
          "height": 204
        },
        "id": "ZcC9w9CWwt42",
        "outputId": "2a916f5a-898e-493f-ee89-4fc7a0d4b761"
      },
      "source": [
        "metadata.head()"
      ],
      "execution_count": 45,
      "outputs": [
        {
          "output_type": "execute_result",
          "data": {
            "text/html": [
              "<div>\n",
              "<style scoped>\n",
              "    .dataframe tbody tr th:only-of-type {\n",
              "        vertical-align: middle;\n",
              "    }\n",
              "\n",
              "    .dataframe tbody tr th {\n",
              "        vertical-align: top;\n",
              "    }\n",
              "\n",
              "    .dataframe thead th {\n",
              "        text-align: right;\n",
              "    }\n",
              "</style>\n",
              "<table border=\"1\" class=\"dataframe\">\n",
              "  <thead>\n",
              "    <tr style=\"text-align: right;\">\n",
              "      <th></th>\n",
              "      <th>Code</th>\n",
              "      <th>Value</th>\n",
              "      <th>Description</th>\n",
              "    </tr>\n",
              "  </thead>\n",
              "  <tbody>\n",
              "    <tr>\n",
              "      <th>0</th>\n",
              "      <td>RBA_PROF_High</td>\n",
              "      <td>12</td>\n",
              "      <td>رئيس مجلس ادارة</td>\n",
              "    </tr>\n",
              "    <tr>\n",
              "      <th>1</th>\n",
              "      <td>RBA_PROF_High</td>\n",
              "      <td>13</td>\n",
              "      <td>نائب رئيس مجلس ادارة</td>\n",
              "    </tr>\n",
              "    <tr>\n",
              "      <th>2</th>\n",
              "      <td>RBA_PROF_High</td>\n",
              "      <td>14</td>\n",
              "      <td>عضو مجلس ادارة</td>\n",
              "    </tr>\n",
              "    <tr>\n",
              "      <th>3</th>\n",
              "      <td>RBA_PROF_High</td>\n",
              "      <td>15</td>\n",
              "      <td>مدير عام</td>\n",
              "    </tr>\n",
              "    <tr>\n",
              "      <th>4</th>\n",
              "      <td>RBA_PROF_High</td>\n",
              "      <td>16</td>\n",
              "      <td>نائب مدير عام</td>\n",
              "    </tr>\n",
              "  </tbody>\n",
              "</table>\n",
              "</div>"
            ],
            "text/plain": [
              "            Code Value           Description\n",
              "0  RBA_PROF_High    12       رئيس مجلس ادارة\n",
              "1  RBA_PROF_High    13  نائب رئيس مجلس ادارة\n",
              "2  RBA_PROF_High    14        عضو مجلس ادارة\n",
              "3  RBA_PROF_High    15              مدير عام\n",
              "4  RBA_PROF_High    16         نائب مدير عام"
            ]
          },
          "metadata": {
            "tags": []
          },
          "execution_count": 45
        }
      ]
    },
    {
      "cell_type": "code",
      "metadata": {
        "id": "Ao9qxJdc9Dua"
      },
      "source": [
        "df_c = df.copy()"
      ],
      "execution_count": 2,
      "outputs": []
    },
    {
      "cell_type": "code",
      "metadata": {
        "id": "P5SSFw6Uw96n"
      },
      "source": [
        "df['Risk_Description'] = df['rba_grade_desc'] # here we just change the name of the column.. no idea why\n",
        "df.drop(['rba_grade_desc'], axis = 1, inplace = True) "
      ],
      "execution_count": 2,
      "outputs": []
    },
    {
      "cell_type": "markdown",
      "metadata": {
        "id": "qnEpGgG_w96n"
      },
      "source": [
        "## Checking some quick statistics"
      ]
    },
    {
      "cell_type": "code",
      "metadata": {
        "colab": {
          "base_uri": "https://localhost:8080/",
          "height": 224
        },
        "id": "wvhMwBK497nW",
        "outputId": "4ab5f9b1-6c8b-45ee-d16e-e88eb2ad3bbd"
      },
      "source": [
        "df.head()"
      ],
      "execution_count": 26,
      "outputs": [
        {
          "output_type": "execute_result",
          "data": {
            "text/html": [
              "<div>\n",
              "<style scoped>\n",
              "    .dataframe tbody tr th:only-of-type {\n",
              "        vertical-align: middle;\n",
              "    }\n",
              "\n",
              "    .dataframe tbody tr th {\n",
              "        vertical-align: top;\n",
              "    }\n",
              "\n",
              "    .dataframe thead th {\n",
              "        text-align: right;\n",
              "    }\n",
              "</style>\n",
              "<table border=\"1\" class=\"dataframe\">\n",
              "  <thead>\n",
              "    <tr style=\"text-align: right;\">\n",
              "      <th></th>\n",
              "      <th>org_code</th>\n",
              "      <th>branchCode</th>\n",
              "      <th>customerId</th>\n",
              "      <th>fullaccount</th>\n",
              "      <th>customerType</th>\n",
              "      <th>creationDate</th>\n",
              "      <th>onboarding</th>\n",
              "      <th>residentStatus</th>\n",
              "      <th>residentCountry</th>\n",
              "      <th>nationalityOriginal</th>\n",
              "      <th>extraNationality</th>\n",
              "      <th>dateOfBirth</th>\n",
              "      <th>age_in_year</th>\n",
              "      <th>birthCountry</th>\n",
              "      <th>birthPlace</th>\n",
              "      <th>profession</th>\n",
              "      <th>companyType</th>\n",
              "      <th>giinCode</th>\n",
              "      <th>lastUpdate</th>\n",
              "      <th>status</th>\n",
              "      <th>ledgerCode</th>\n",
              "      <th>accountCurrency</th>\n",
              "      <th>jointAccount</th>\n",
              "      <th>IsBlackListed</th>\n",
              "      <th>CUS_CLASS</th>\n",
              "      <th>ECO_SEC</th>\n",
              "      <th>TYPE_OF_DEP</th>\n",
              "      <th>GENDER</th>\n",
              "      <th>LEGAL_STA_CODE</th>\n",
              "      <th>legal_Stat_desc</th>\n",
              "      <th>avg_last_10_days</th>\n",
              "      <th>avg_last_30_days</th>\n",
              "      <th>avg_last_90_days</th>\n",
              "      <th>number_of_cash_dep_90_days</th>\n",
              "      <th>avg_cash_deposit_90_days</th>\n",
              "      <th>number_of_deposit_90_days</th>\n",
              "      <th>avg_of_dep_90_days</th>\n",
              "      <th>number_of_cash_wd_90_days</th>\n",
              "      <th>avg_of_cash_wd_90_days</th>\n",
              "      <th>number_of_wd_90_days</th>\n",
              "      <th>avg_of_wd_90_days</th>\n",
              "      <th>date_of_assessment</th>\n",
              "      <th>rbaGradeAbrv</th>\n",
              "      <th>score_card</th>\n",
              "      <th>score_card_Desc</th>\n",
              "      <th>rbaValue</th>\n",
              "      <th>Risk_Description</th>\n",
              "    </tr>\n",
              "  </thead>\n",
              "  <tbody>\n",
              "    <tr>\n",
              "      <th>0</th>\n",
              "      <td>1</td>\n",
              "      <td>201</td>\n",
              "      <td>20100400550000072</td>\n",
              "      <td>020100400550015817000</td>\n",
              "      <td>2</td>\n",
              "      <td>2015-04-05</td>\n",
              "      <td>N</td>\n",
              "      <td>1</td>\n",
              "      <td>JO</td>\n",
              "      <td>JO</td>\n",
              "      <td>NaN</td>\n",
              "      <td>NaN</td>\n",
              "      <td>NaN</td>\n",
              "      <td>NaN</td>\n",
              "      <td>NaN</td>\n",
              "      <td>NaN</td>\n",
              "      <td>35.0</td>\n",
              "      <td>NaN</td>\n",
              "      <td>NaN</td>\n",
              "      <td>Active</td>\n",
              "      <td>5817</td>\n",
              "      <td>JOD</td>\n",
              "      <td>0</td>\n",
              "      <td>0</td>\n",
              "      <td>4</td>\n",
              "      <td>46</td>\n",
              "      <td>35</td>\n",
              "      <td>NaN</td>\n",
              "      <td>2.0</td>\n",
              "      <td>NaN</td>\n",
              "      <td>8610000.00</td>\n",
              "      <td>2170000.00</td>\n",
              "      <td>23333.33</td>\n",
              "      <td>0</td>\n",
              "      <td>0.0</td>\n",
              "      <td>0</td>\n",
              "      <td>0.0</td>\n",
              "      <td>0</td>\n",
              "      <td>0.0</td>\n",
              "      <td>0</td>\n",
              "      <td>0.0</td>\n",
              "      <td>2019-01-24</td>\n",
              "      <td>L</td>\n",
              "      <td>E-Existing</td>\n",
              "      <td>NaN</td>\n",
              "      <td>13.20</td>\n",
              "      <td>Low</td>\n",
              "    </tr>\n",
              "    <tr>\n",
              "      <th>1</th>\n",
              "      <td>1</td>\n",
              "      <td>202</td>\n",
              "      <td>20200207860000638</td>\n",
              "      <td>020200207860011330000</td>\n",
              "      <td>1</td>\n",
              "      <td>2013-09-17</td>\n",
              "      <td>N</td>\n",
              "      <td>1</td>\n",
              "      <td>JO</td>\n",
              "      <td>JO</td>\n",
              "      <td>NaN</td>\n",
              "      <td>1989-06-30</td>\n",
              "      <td>30.0</td>\n",
              "      <td>NaN</td>\n",
              "      <td>????</td>\n",
              "      <td>27.0</td>\n",
              "      <td>NaN</td>\n",
              "      <td>NaN</td>\n",
              "      <td>NaN</td>\n",
              "      <td>Active</td>\n",
              "      <td>1330</td>\n",
              "      <td>JOD</td>\n",
              "      <td>0</td>\n",
              "      <td>0</td>\n",
              "      <td>2</td>\n",
              "      <td>90</td>\n",
              "      <td>23</td>\n",
              "      <td>2.0</td>\n",
              "      <td>1.0</td>\n",
              "      <td>NaN</td>\n",
              "      <td>0.00</td>\n",
              "      <td>0.00</td>\n",
              "      <td>0.00</td>\n",
              "      <td>0</td>\n",
              "      <td>0.0</td>\n",
              "      <td>0</td>\n",
              "      <td>0.0</td>\n",
              "      <td>0</td>\n",
              "      <td>0.0</td>\n",
              "      <td>0</td>\n",
              "      <td>0.0</td>\n",
              "      <td>2019-01-24</td>\n",
              "      <td>L</td>\n",
              "      <td>I-Existing</td>\n",
              "      <td>NaN</td>\n",
              "      <td>16.93</td>\n",
              "      <td>Low</td>\n",
              "    </tr>\n",
              "    <tr>\n",
              "      <th>2</th>\n",
              "      <td>1</td>\n",
              "      <td>202</td>\n",
              "      <td>20200207860000638</td>\n",
              "      <td>020200207860011389002</td>\n",
              "      <td>1</td>\n",
              "      <td>2013-09-17</td>\n",
              "      <td>N</td>\n",
              "      <td>1</td>\n",
              "      <td>JO</td>\n",
              "      <td>JO</td>\n",
              "      <td>NaN</td>\n",
              "      <td>1989-06-30</td>\n",
              "      <td>30.0</td>\n",
              "      <td>NaN</td>\n",
              "      <td>????</td>\n",
              "      <td>27.0</td>\n",
              "      <td>NaN</td>\n",
              "      <td>NaN</td>\n",
              "      <td>NaN</td>\n",
              "      <td>Active</td>\n",
              "      <td>1389</td>\n",
              "      <td>JOD</td>\n",
              "      <td>0</td>\n",
              "      <td>0</td>\n",
              "      <td>2</td>\n",
              "      <td>90</td>\n",
              "      <td>23</td>\n",
              "      <td>2.0</td>\n",
              "      <td>1.0</td>\n",
              "      <td>NaN</td>\n",
              "      <td>-137562.72</td>\n",
              "      <td>-34672.52</td>\n",
              "      <td>-369.81</td>\n",
              "      <td>0</td>\n",
              "      <td>0.0</td>\n",
              "      <td>0</td>\n",
              "      <td>0.0</td>\n",
              "      <td>0</td>\n",
              "      <td>0.0</td>\n",
              "      <td>0</td>\n",
              "      <td>0.0</td>\n",
              "      <td>2019-01-24</td>\n",
              "      <td>L</td>\n",
              "      <td>I-Existing</td>\n",
              "      <td>NaN</td>\n",
              "      <td>16.93</td>\n",
              "      <td>Low</td>\n",
              "    </tr>\n",
              "    <tr>\n",
              "      <th>3</th>\n",
              "      <td>1</td>\n",
              "      <td>202</td>\n",
              "      <td>20200207860000638</td>\n",
              "      <td>020200207860010060000</td>\n",
              "      <td>1</td>\n",
              "      <td>2013-09-17</td>\n",
              "      <td>N</td>\n",
              "      <td>1</td>\n",
              "      <td>JO</td>\n",
              "      <td>JO</td>\n",
              "      <td>NaN</td>\n",
              "      <td>1989-06-30</td>\n",
              "      <td>30.0</td>\n",
              "      <td>NaN</td>\n",
              "      <td>????</td>\n",
              "      <td>27.0</td>\n",
              "      <td>NaN</td>\n",
              "      <td>NaN</td>\n",
              "      <td>NaN</td>\n",
              "      <td>Active</td>\n",
              "      <td>60</td>\n",
              "      <td>JOD</td>\n",
              "      <td>0</td>\n",
              "      <td>0</td>\n",
              "      <td>2</td>\n",
              "      <td>90</td>\n",
              "      <td>23</td>\n",
              "      <td>2.0</td>\n",
              "      <td>1.0</td>\n",
              "      <td>NaN</td>\n",
              "      <td>2079.79</td>\n",
              "      <td>526.87</td>\n",
              "      <td>6.68</td>\n",
              "      <td>4</td>\n",
              "      <td>-550.0</td>\n",
              "      <td>4</td>\n",
              "      <td>-550.0</td>\n",
              "      <td>1</td>\n",
              "      <td>50.0</td>\n",
              "      <td>1</td>\n",
              "      <td>50.0</td>\n",
              "      <td>2019-01-24</td>\n",
              "      <td>L</td>\n",
              "      <td>I-Existing</td>\n",
              "      <td>NaN</td>\n",
              "      <td>16.93</td>\n",
              "      <td>Low</td>\n",
              "    </tr>\n",
              "    <tr>\n",
              "      <th>4</th>\n",
              "      <td>1</td>\n",
              "      <td>202</td>\n",
              "      <td>20200207860000638</td>\n",
              "      <td>020200207860010010000</td>\n",
              "      <td>1</td>\n",
              "      <td>2013-09-17</td>\n",
              "      <td>N</td>\n",
              "      <td>1</td>\n",
              "      <td>JO</td>\n",
              "      <td>JO</td>\n",
              "      <td>NaN</td>\n",
              "      <td>1989-06-30</td>\n",
              "      <td>30.0</td>\n",
              "      <td>NaN</td>\n",
              "      <td>????</td>\n",
              "      <td>27.0</td>\n",
              "      <td>NaN</td>\n",
              "      <td>NaN</td>\n",
              "      <td>NaN</td>\n",
              "      <td>Active</td>\n",
              "      <td>10</td>\n",
              "      <td>JOD</td>\n",
              "      <td>0</td>\n",
              "      <td>0</td>\n",
              "      <td>2</td>\n",
              "      <td>90</td>\n",
              "      <td>23</td>\n",
              "      <td>2.0</td>\n",
              "      <td>1.0</td>\n",
              "      <td>NaN</td>\n",
              "      <td>444.00</td>\n",
              "      <td>120.50</td>\n",
              "      <td>0.95</td>\n",
              "      <td>4</td>\n",
              "      <td>-540.0</td>\n",
              "      <td>4</td>\n",
              "      <td>-540.0</td>\n",
              "      <td>1</td>\n",
              "      <td>56.0</td>\n",
              "      <td>1</td>\n",
              "      <td>56.0</td>\n",
              "      <td>2019-01-24</td>\n",
              "      <td>L</td>\n",
              "      <td>I-Existing</td>\n",
              "      <td>NaN</td>\n",
              "      <td>16.93</td>\n",
              "      <td>Low</td>\n",
              "    </tr>\n",
              "  </tbody>\n",
              "</table>\n",
              "</div>"
            ],
            "text/plain": [
              "   org_code  branchCode  ...  rbaValue Risk_Description\n",
              "0         1         201  ...     13.20              Low\n",
              "1         1         202  ...     16.93              Low\n",
              "2         1         202  ...     16.93              Low\n",
              "3         1         202  ...     16.93              Low\n",
              "4         1         202  ...     16.93              Low\n",
              "\n",
              "[5 rows x 47 columns]"
            ]
          },
          "metadata": {
            "tags": []
          },
          "execution_count": 26
        }
      ]
    },
    {
      "cell_type": "code",
      "metadata": {
        "id": "pHMIeC5Qw96o",
        "colab": {
          "base_uri": "https://localhost:8080/",
          "height": 317
        },
        "outputId": "72257a5c-7b8a-4530-af54-6b513f9bfc70"
      },
      "source": [
        "df.describe()"
      ],
      "execution_count": 5,
      "outputs": [
        {
          "output_type": "execute_result",
          "data": {
            "text/html": [
              "<div>\n",
              "<style scoped>\n",
              "    .dataframe tbody tr th:only-of-type {\n",
              "        vertical-align: middle;\n",
              "    }\n",
              "\n",
              "    .dataframe tbody tr th {\n",
              "        vertical-align: top;\n",
              "    }\n",
              "\n",
              "    .dataframe thead th {\n",
              "        text-align: right;\n",
              "    }\n",
              "</style>\n",
              "<table border=\"1\" class=\"dataframe\">\n",
              "  <thead>\n",
              "    <tr style=\"text-align: right;\">\n",
              "      <th></th>\n",
              "      <th>org_code</th>\n",
              "      <th>branchCode</th>\n",
              "      <th>customerId</th>\n",
              "      <th>customerType</th>\n",
              "      <th>residentStatus</th>\n",
              "      <th>age_in_year</th>\n",
              "      <th>birthCountry</th>\n",
              "      <th>profession</th>\n",
              "      <th>companyType</th>\n",
              "      <th>lastUpdate</th>\n",
              "      <th>ledgerCode</th>\n",
              "      <th>jointAccount</th>\n",
              "      <th>IsBlackListed</th>\n",
              "      <th>CUS_CLASS</th>\n",
              "      <th>ECO_SEC</th>\n",
              "      <th>TYPE_OF_DEP</th>\n",
              "      <th>GENDER</th>\n",
              "      <th>LEGAL_STA_CODE</th>\n",
              "      <th>legal_Stat_desc</th>\n",
              "      <th>avg_last_10_days</th>\n",
              "      <th>avg_last_30_days</th>\n",
              "      <th>avg_last_90_days</th>\n",
              "      <th>number_of_cash_dep_90_days</th>\n",
              "      <th>avg_cash_deposit_90_days</th>\n",
              "      <th>number_of_deposit_90_days</th>\n",
              "      <th>avg_of_dep_90_days</th>\n",
              "      <th>number_of_cash_wd_90_days</th>\n",
              "      <th>avg_of_cash_wd_90_days</th>\n",
              "      <th>number_of_wd_90_days</th>\n",
              "      <th>avg_of_wd_90_days</th>\n",
              "      <th>score_card_Desc</th>\n",
              "      <th>rbaValue</th>\n",
              "    </tr>\n",
              "  </thead>\n",
              "  <tbody>\n",
              "    <tr>\n",
              "      <th>count</th>\n",
              "      <td>224868.0</td>\n",
              "      <td>224868.000000</td>\n",
              "      <td>2.248680e+05</td>\n",
              "      <td>224868.000000</td>\n",
              "      <td>224868.000000</td>\n",
              "      <td>220153.000000</td>\n",
              "      <td>0.0</td>\n",
              "      <td>79748.000000</td>\n",
              "      <td>114574.000000</td>\n",
              "      <td>0.0</td>\n",
              "      <td>224868.000000</td>\n",
              "      <td>224868.000000</td>\n",
              "      <td>224868.0</td>\n",
              "      <td>224868.000000</td>\n",
              "      <td>224868.000000</td>\n",
              "      <td>224868.000000</td>\n",
              "      <td>104357.000000</td>\n",
              "      <td>222252.000000</td>\n",
              "      <td>0.0</td>\n",
              "      <td>2.248680e+05</td>\n",
              "      <td>2.248680e+05</td>\n",
              "      <td>224868.000000</td>\n",
              "      <td>224868.000000</td>\n",
              "      <td>2.248680e+05</td>\n",
              "      <td>224868.000000</td>\n",
              "      <td>2.248680e+05</td>\n",
              "      <td>224868.000000</td>\n",
              "      <td>2.248680e+05</td>\n",
              "      <td>224868.000000</td>\n",
              "      <td>2.248680e+05</td>\n",
              "      <td>0.0</td>\n",
              "      <td>224868.000000</td>\n",
              "    </tr>\n",
              "    <tr>\n",
              "      <th>mean</th>\n",
              "      <td>1.0</td>\n",
              "      <td>448.451323</td>\n",
              "      <td>4.394503e+16</td>\n",
              "      <td>1.114418</td>\n",
              "      <td>1.021221</td>\n",
              "      <td>41.310575</td>\n",
              "      <td>NaN</td>\n",
              "      <td>18.309487</td>\n",
              "      <td>49.857577</td>\n",
              "      <td>NaN</td>\n",
              "      <td>1059.328757</td>\n",
              "      <td>0.021653</td>\n",
              "      <td>0.0</td>\n",
              "      <td>3.765231</td>\n",
              "      <td>89.388632</td>\n",
              "      <td>35.509014</td>\n",
              "      <td>1.250975</td>\n",
              "      <td>1.193564</td>\n",
              "      <td>NaN</td>\n",
              "      <td>7.832261e+03</td>\n",
              "      <td>1.988950e+03</td>\n",
              "      <td>18.871381</td>\n",
              "      <td>0.491422</td>\n",
              "      <td>-1.113435e+03</td>\n",
              "      <td>1.131437</td>\n",
              "      <td>-3.540383e+03</td>\n",
              "      <td>0.254305</td>\n",
              "      <td>4.763851e+02</td>\n",
              "      <td>0.868518</td>\n",
              "      <td>2.450953e+03</td>\n",
              "      <td>NaN</td>\n",
              "      <td>17.624194</td>\n",
              "    </tr>\n",
              "    <tr>\n",
              "      <th>std</th>\n",
              "      <td>0.0</td>\n",
              "      <td>228.193308</td>\n",
              "      <td>2.349321e+16</td>\n",
              "      <td>0.318319</td>\n",
              "      <td>0.144122</td>\n",
              "      <td>16.000536</td>\n",
              "      <td>NaN</td>\n",
              "      <td>6.586481</td>\n",
              "      <td>6.736115</td>\n",
              "      <td>NaN</td>\n",
              "      <td>1280.875258</td>\n",
              "      <td>0.145547</td>\n",
              "      <td>0.0</td>\n",
              "      <td>4.305015</td>\n",
              "      <td>29.406849</td>\n",
              "      <td>15.491855</td>\n",
              "      <td>0.433576</td>\n",
              "      <td>0.528191</td>\n",
              "      <td>NaN</td>\n",
              "      <td>1.325116e+06</td>\n",
              "      <td>3.344322e+05</td>\n",
              "      <td>3685.041168</td>\n",
              "      <td>5.335240</td>\n",
              "      <td>3.028084e+04</td>\n",
              "      <td>19.713739</td>\n",
              "      <td>9.151602e+04</td>\n",
              "      <td>1.175586</td>\n",
              "      <td>2.028110e+04</td>\n",
              "      <td>12.373992</td>\n",
              "      <td>5.819818e+04</td>\n",
              "      <td>NaN</td>\n",
              "      <td>8.368345</td>\n",
              "    </tr>\n",
              "    <tr>\n",
              "      <th>min</th>\n",
              "      <td>1.0</td>\n",
              "      <td>201.000000</td>\n",
              "      <td>2.020028e+09</td>\n",
              "      <td>1.000000</td>\n",
              "      <td>1.000000</td>\n",
              "      <td>1.000000</td>\n",
              "      <td>NaN</td>\n",
              "      <td>1.000000</td>\n",
              "      <td>1.000000</td>\n",
              "      <td>NaN</td>\n",
              "      <td>10.000000</td>\n",
              "      <td>0.000000</td>\n",
              "      <td>0.0</td>\n",
              "      <td>0.000000</td>\n",
              "      <td>0.000000</td>\n",
              "      <td>0.000000</td>\n",
              "      <td>1.000000</td>\n",
              "      <td>1.000000</td>\n",
              "      <td>NaN</td>\n",
              "      <td>-1.791005e+08</td>\n",
              "      <td>-4.513426e+07</td>\n",
              "      <td>-485686.730000</td>\n",
              "      <td>0.000000</td>\n",
              "      <td>-5.482044e+06</td>\n",
              "      <td>0.000000</td>\n",
              "      <td>-1.654371e+07</td>\n",
              "      <td>0.000000</td>\n",
              "      <td>0.000000e+00</td>\n",
              "      <td>0.000000</td>\n",
              "      <td>0.000000e+00</td>\n",
              "      <td>NaN</td>\n",
              "      <td>4.080000</td>\n",
              "    </tr>\n",
              "    <tr>\n",
              "      <th>25%</th>\n",
              "      <td>1.0</td>\n",
              "      <td>208.000000</td>\n",
              "      <td>2.070207e+16</td>\n",
              "      <td>1.000000</td>\n",
              "      <td>1.000000</td>\n",
              "      <td>31.000000</td>\n",
              "      <td>NaN</td>\n",
              "      <td>20.000000</td>\n",
              "      <td>51.000000</td>\n",
              "      <td>NaN</td>\n",
              "      <td>20.000000</td>\n",
              "      <td>0.000000</td>\n",
              "      <td>0.0</td>\n",
              "      <td>2.000000</td>\n",
              "      <td>90.000000</td>\n",
              "      <td>20.000000</td>\n",
              "      <td>1.000000</td>\n",
              "      <td>1.000000</td>\n",
              "      <td>NaN</td>\n",
              "      <td>0.000000e+00</td>\n",
              "      <td>0.000000e+00</td>\n",
              "      <td>0.000000</td>\n",
              "      <td>0.000000</td>\n",
              "      <td>0.000000e+00</td>\n",
              "      <td>0.000000</td>\n",
              "      <td>0.000000e+00</td>\n",
              "      <td>0.000000</td>\n",
              "      <td>0.000000e+00</td>\n",
              "      <td>0.000000</td>\n",
              "      <td>0.000000e+00</td>\n",
              "      <td>NaN</td>\n",
              "      <td>13.330000</td>\n",
              "    </tr>\n",
              "    <tr>\n",
              "      <th>50%</th>\n",
              "      <td>1.0</td>\n",
              "      <td>401.000000</td>\n",
              "      <td>4.011205e+16</td>\n",
              "      <td>1.000000</td>\n",
              "      <td>1.000000</td>\n",
              "      <td>41.000000</td>\n",
              "      <td>NaN</td>\n",
              "      <td>20.000000</td>\n",
              "      <td>51.000000</td>\n",
              "      <td>NaN</td>\n",
              "      <td>1302.000000</td>\n",
              "      <td>0.000000</td>\n",
              "      <td>0.0</td>\n",
              "      <td>2.000000</td>\n",
              "      <td>90.000000</td>\n",
              "      <td>35.000000</td>\n",
              "      <td>1.000000</td>\n",
              "      <td>1.000000</td>\n",
              "      <td>NaN</td>\n",
              "      <td>0.000000e+00</td>\n",
              "      <td>0.000000e+00</td>\n",
              "      <td>0.000000</td>\n",
              "      <td>0.000000</td>\n",
              "      <td>0.000000e+00</td>\n",
              "      <td>0.000000</td>\n",
              "      <td>0.000000e+00</td>\n",
              "      <td>0.000000</td>\n",
              "      <td>0.000000e+00</td>\n",
              "      <td>0.000000</td>\n",
              "      <td>0.000000e+00</td>\n",
              "      <td>NaN</td>\n",
              "      <td>16.530000</td>\n",
              "    </tr>\n",
              "    <tr>\n",
              "      <th>75%</th>\n",
              "      <td>1.0</td>\n",
              "      <td>701.000000</td>\n",
              "      <td>7.012410e+16</td>\n",
              "      <td>1.000000</td>\n",
              "      <td>1.000000</td>\n",
              "      <td>52.000000</td>\n",
              "      <td>NaN</td>\n",
              "      <td>21.000000</td>\n",
              "      <td>51.000000</td>\n",
              "      <td>NaN</td>\n",
              "      <td>1396.000000</td>\n",
              "      <td>0.000000</td>\n",
              "      <td>0.0</td>\n",
              "      <td>2.000000</td>\n",
              "      <td>90.000000</td>\n",
              "      <td>51.000000</td>\n",
              "      <td>2.000000</td>\n",
              "      <td>1.000000</td>\n",
              "      <td>NaN</td>\n",
              "      <td>6.914525e+02</td>\n",
              "      <td>1.826150e+02</td>\n",
              "      <td>1.100000</td>\n",
              "      <td>0.000000</td>\n",
              "      <td>0.000000e+00</td>\n",
              "      <td>0.000000</td>\n",
              "      <td>0.000000e+00</td>\n",
              "      <td>0.000000</td>\n",
              "      <td>0.000000e+00</td>\n",
              "      <td>0.000000</td>\n",
              "      <td>0.000000e+00</td>\n",
              "      <td>NaN</td>\n",
              "      <td>21.330000</td>\n",
              "    </tr>\n",
              "    <tr>\n",
              "      <th>max</th>\n",
              "      <td>1.0</td>\n",
              "      <td>805.000000</td>\n",
              "      <td>8.052929e+16</td>\n",
              "      <td>2.000000</td>\n",
              "      <td>2.000000</td>\n",
              "      <td>119.000000</td>\n",
              "      <td>NaN</td>\n",
              "      <td>39.000000</td>\n",
              "      <td>100.000000</td>\n",
              "      <td>NaN</td>\n",
              "      <td>8700.000000</td>\n",
              "      <td>1.000000</td>\n",
              "      <td>0.0</td>\n",
              "      <td>51.000000</td>\n",
              "      <td>392.000000</td>\n",
              "      <td>100.000000</td>\n",
              "      <td>2.000000</td>\n",
              "      <td>4.000000</td>\n",
              "      <td>NaN</td>\n",
              "      <td>1.531514e+08</td>\n",
              "      <td>3.859913e+07</td>\n",
              "      <td>415044.440000</td>\n",
              "      <td>1267.000000</td>\n",
              "      <td>0.000000e+00</td>\n",
              "      <td>3292.000000</td>\n",
              "      <td>5.867291e+05</td>\n",
              "      <td>78.000000</td>\n",
              "      <td>8.394000e+06</td>\n",
              "      <td>2858.000000</td>\n",
              "      <td>9.942530e+06</td>\n",
              "      <td>NaN</td>\n",
              "      <td>100.000000</td>\n",
              "    </tr>\n",
              "  </tbody>\n",
              "</table>\n",
              "</div>"
            ],
            "text/plain": [
              "       org_code     branchCode  ...  score_card_Desc       rbaValue\n",
              "count  224868.0  224868.000000  ...              0.0  224868.000000\n",
              "mean        1.0     448.451323  ...              NaN      17.624194\n",
              "std         0.0     228.193308  ...              NaN       8.368345\n",
              "min         1.0     201.000000  ...              NaN       4.080000\n",
              "25%         1.0     208.000000  ...              NaN      13.330000\n",
              "50%         1.0     401.000000  ...              NaN      16.530000\n",
              "75%         1.0     701.000000  ...              NaN      21.330000\n",
              "max         1.0     805.000000  ...              NaN     100.000000\n",
              "\n",
              "[8 rows x 32 columns]"
            ]
          },
          "metadata": {
            "tags": []
          },
          "execution_count": 5
        }
      ]
    },
    {
      "cell_type": "code",
      "metadata": {
        "colab": {
          "base_uri": "https://localhost:8080/"
        },
        "id": "ivd7Twrk3ebo",
        "outputId": "8466794e-2105-432b-ebb9-3fe27f976b0a"
      },
      "source": [
        "df.info()"
      ],
      "execution_count": 89,
      "outputs": [
        {
          "output_type": "stream",
          "text": [
            "<class 'pandas.core.frame.DataFrame'>\n",
            "RangeIndex: 224868 entries, 0 to 224867\n",
            "Data columns (total 43 columns):\n",
            " #   Column                      Non-Null Count   Dtype          \n",
            "---  ------                      --------------   -----          \n",
            " 0   org_code                    224868 non-null  int64          \n",
            " 1   branchCode                  224868 non-null  int64          \n",
            " 2   customerId                  224868 non-null  int64          \n",
            " 3   fullaccount                 224868 non-null  object         \n",
            " 4   customerType                224868 non-null  int64          \n",
            " 5   creationDate                224868 non-null  object         \n",
            " 6   onboarding                  224868 non-null  object         \n",
            " 7   residentStatus              224868 non-null  int64          \n",
            " 8   residentCountry             224272 non-null  object         \n",
            " 9   nationalityOriginal         221429 non-null  object         \n",
            " 10  extraNationality            1793 non-null    object         \n",
            " 11  dateOfBirth                 220153 non-null  datetime64[ns] \n",
            " 12  age_in_year                 220153 non-null  float64        \n",
            " 13  birthPlace                  203026 non-null  object         \n",
            " 14  profession                  79748 non-null   float64        \n",
            " 15  companyType                 114574 non-null  float64        \n",
            " 16  status                      224868 non-null  object         \n",
            " 17  ledgerCode                  224868 non-null  int64          \n",
            " 18  accountCurrency             224868 non-null  object         \n",
            " 19  jointAccount                224868 non-null  int64          \n",
            " 20  IsBlackListed               224868 non-null  int64          \n",
            " 21  CUS_CLASS                   224868 non-null  int64          \n",
            " 22  ECO_SEC                     224868 non-null  int64          \n",
            " 23  TYPE_OF_DEP                 224868 non-null  int64          \n",
            " 24  GENDER                      104357 non-null  float64        \n",
            " 25  LEGAL_STA_CODE              222252 non-null  float64        \n",
            " 26  avg_last_10_days            224868 non-null  float64        \n",
            " 27  avg_last_30_days            224868 non-null  float64        \n",
            " 28  avg_last_90_days            224868 non-null  float64        \n",
            " 29  number_of_cash_dep_90_days  224868 non-null  int64          \n",
            " 30  avg_cash_deposit_90_days    224868 non-null  float64        \n",
            " 31  number_of_deposit_90_days   224868 non-null  int64          \n",
            " 32  avg_of_dep_90_days          224868 non-null  float64        \n",
            " 33  number_of_cash_wd_90_days   224868 non-null  int64          \n",
            " 34  avg_of_cash_wd_90_days      224868 non-null  float64        \n",
            " 35  number_of_wd_90_days        224868 non-null  int64          \n",
            " 36  avg_of_wd_90_days           224868 non-null  float64        \n",
            " 37  date_of_assessment          224868 non-null  object         \n",
            " 38  rbaGradeAbrv                224868 non-null  object         \n",
            " 39  score_card                  224868 non-null  object         \n",
            " 40  rbaValue                    224868 non-null  float64        \n",
            " 41  Risk_Description            224868 non-null  object         \n",
            " 42  creationDate_indays         224868 non-null  timedelta64[ns]\n",
            "dtypes: datetime64[ns](1), float64(13), int64(15), object(13), timedelta64[ns](1)\n",
            "memory usage: 73.8+ MB\n"
          ],
          "name": "stdout"
        }
      ]
    },
    {
      "cell_type": "markdown",
      "metadata": {
        "id": "qN1FNBS-w96o"
      },
      "source": [
        "## Creating the variable creationDate_indays"
      ]
    },
    {
      "cell_type": "code",
      "metadata": {
        "id": "Jb7HZR6qw96p",
        "colab": {
          "base_uri": "https://localhost:8080/"
        },
        "outputId": "a4feb8fd-72b2-47cb-89e0-77b7c87f6249"
      },
      "source": [
        "# why do we do this?\n",
        "df['creationDate_indays'] = df['creationDate'].astype('datetime64[ns]').max()-df['creationDate'].astype('datetime64[ns]') \n",
        "df['creationDate_indays'].head()"
      ],
      "execution_count": 3,
      "outputs": [
        {
          "output_type": "execute_result",
          "data": {
            "text/plain": [
              "0   1295 days\n",
              "1   1860 days\n",
              "2   1860 days\n",
              "3   1860 days\n",
              "4   1860 days\n",
              "Name: creationDate_indays, dtype: timedelta64[ns]"
            ]
          },
          "metadata": {
            "tags": []
          },
          "execution_count": 3
        }
      ]
    },
    {
      "cell_type": "markdown",
      "metadata": {
        "id": "vHYKTWaAw96p"
      },
      "source": [
        "## Creating the variable date of birth\r\n",
        "\r\n",
        "## why is he doing this? i get all 0s"
      ]
    },
    {
      "cell_type": "code",
      "metadata": {
        "id": "pnstqjcAw96q"
      },
      "source": [
        "def f(end):\n",
        "    global max_date\n",
        "    try:\n",
        "        r = relativedelta(max_date, end) \n",
        "        return(r.years)\n",
        "    except:\n",
        "        return(0)\n",
        "\n",
        "    # r = relativedelta(pd.to_datetime('now'), end) \n",
        "    # return '{} years {} days'.format(r.years, r.days)"
      ],
      "execution_count": 44,
      "outputs": []
    },
    {
      "cell_type": "code",
      "metadata": {
        "id": "N_a4XAM9w96q",
        "colab": {
          "base_uri": "https://localhost:8080/"
        },
        "outputId": "b60479ab-bda8-4ca0-93ed-e4158313996a"
      },
      "source": [
        "max_date = df['dateOfBirth'].astype('datetime64[ns]').max()\n",
        "df['age'] = df['dateOfBirth'].astype('datetime64[ns]').apply(f)\n",
        "df['age'].head()"
      ],
      "execution_count": 41,
      "outputs": [
        {
          "output_type": "execute_result",
          "data": {
            "text/plain": [
              "0    0\n",
              "1    0\n",
              "2    0\n",
              "3    0\n",
              "4    0\n",
              "Name: age, dtype: int64"
            ]
          },
          "metadata": {
            "tags": []
          },
          "execution_count": 41
        }
      ]
    },
    {
      "cell_type": "code",
      "metadata": {
        "colab": {
          "base_uri": "https://localhost:8080/"
        },
        "id": "sy61cTEyExII",
        "outputId": "3e10d49a-23c1-4fb8-8207-750d3083f545"
      },
      "source": [
        "\r\n",
        "df['age'].value_counts()"
      ],
      "execution_count": 42,
      "outputs": [
        {
          "output_type": "execute_result",
          "data": {
            "text/plain": [
              "0    224868\n",
              "Name: age, dtype: int64"
            ]
          },
          "metadata": {
            "tags": []
          },
          "execution_count": 42
        }
      ]
    },
    {
      "cell_type": "markdown",
      "metadata": {
        "id": "CYrpyARGHaHa"
      },
      "source": [
        "## Profile Report"
      ]
    },
    {
      "cell_type": "code",
      "metadata": {
        "id": "4LEXjOISKS5g"
      },
      "source": [
        "!pip install pandas_profiling\r\n"
      ],
      "execution_count": null,
      "outputs": []
    },
    {
      "cell_type": "code",
      "metadata": {
        "colab": {
          "base_uri": "https://localhost:8080/",
          "height": 406,
          "referenced_widgets": [
            "fe1aae5f6b10441aace60b6e2b6303af",
            "ab6099bab5f4492384ebee5189f6922b",
            "5fcc0e63b3e54fa58baf612cba235e9e",
            "6166df7606ed4f1aaa473b8184177ce1",
            "84c3761f455741db904b8a6a25fa2e53",
            "9cc82b5461014a999785abfa7e58b1e9",
            "26a6c1ada6654eea9d1566f8cdb40e1a",
            "18e6360716f848dfac7788d2789bc6f6",
            "b31eef9d2ebe4364bd3517cc0b86f4d9",
            "f286c2d66f9d44ba853e5c5dbf1858c8",
            "34d1639cd4624d4d9bb4e2a6146370dc"
          ]
        },
        "id": "uXaQmjk8HNzg",
        "outputId": "12cb5dcd-0bab-4ee2-c95f-fb510609cbf1"
      },
      "source": [
        "from pandas_profiling import ProfileReport\r\n",
        "report = ProfileReport(df.iloc[:, 0:23], minimal=False)\r\n",
        "report"
      ],
      "execution_count": 12,
      "outputs": [
        {
          "output_type": "display_data",
          "data": {
            "application/vnd.jupyter.widget-view+json": {
              "model_id": "fe1aae5f6b10441aace60b6e2b6303af",
              "version_minor": 0,
              "version_major": 2
            },
            "text/plain": [
              "Summarize dataset:   0%|          | 0/36 [00:00<?, ?it/s]"
            ]
          },
          "metadata": {
            "tags": []
          }
        },
        {
          "output_type": "error",
          "ename": "KeyboardInterrupt",
          "evalue": "ignored",
          "traceback": [
            "\u001b[0;31m---------------------------------------------------------------------------\u001b[0m",
            "\u001b[0;31mKeyboardInterrupt\u001b[0m                         Traceback (most recent call last)",
            "\u001b[0;32m<ipython-input-12-3e03afc8b6da>\u001b[0m in \u001b[0;36m<module>\u001b[0;34m()\u001b[0m\n\u001b[1;32m      1\u001b[0m \u001b[0;32mfrom\u001b[0m \u001b[0mpandas_profiling\u001b[0m \u001b[0;32mimport\u001b[0m \u001b[0mProfileReport\u001b[0m\u001b[0;34m\u001b[0m\u001b[0;34m\u001b[0m\u001b[0m\n\u001b[1;32m      2\u001b[0m \u001b[0mreport\u001b[0m \u001b[0;34m=\u001b[0m \u001b[0mProfileReport\u001b[0m\u001b[0;34m(\u001b[0m\u001b[0mdf\u001b[0m\u001b[0;34m.\u001b[0m\u001b[0miloc\u001b[0m\u001b[0;34m[\u001b[0m\u001b[0;34m:\u001b[0m\u001b[0;34m,\u001b[0m \u001b[0;36m0\u001b[0m\u001b[0;34m:\u001b[0m\u001b[0;36m23\u001b[0m\u001b[0;34m]\u001b[0m\u001b[0;34m,\u001b[0m \u001b[0mminimal\u001b[0m\u001b[0;34m=\u001b[0m\u001b[0;32mFalse\u001b[0m\u001b[0;34m)\u001b[0m\u001b[0;34m\u001b[0m\u001b[0;34m\u001b[0m\u001b[0m\n\u001b[0;32m----> 3\u001b[0;31m \u001b[0mreport\u001b[0m\u001b[0;34m\u001b[0m\u001b[0;34m\u001b[0m\u001b[0m\n\u001b[0m",
            "\u001b[0;32m/usr/local/lib/python3.7/dist-packages/IPython/core/displayhook.py\u001b[0m in \u001b[0;36m__call__\u001b[0;34m(self, result)\u001b[0m\n\u001b[1;32m    244\u001b[0m             \u001b[0mself\u001b[0m\u001b[0;34m.\u001b[0m\u001b[0mstart_displayhook\u001b[0m\u001b[0;34m(\u001b[0m\u001b[0;34m)\u001b[0m\u001b[0;34m\u001b[0m\u001b[0;34m\u001b[0m\u001b[0m\n\u001b[1;32m    245\u001b[0m             \u001b[0mself\u001b[0m\u001b[0;34m.\u001b[0m\u001b[0mwrite_output_prompt\u001b[0m\u001b[0;34m(\u001b[0m\u001b[0;34m)\u001b[0m\u001b[0;34m\u001b[0m\u001b[0;34m\u001b[0m\u001b[0m\n\u001b[0;32m--> 246\u001b[0;31m             \u001b[0mformat_dict\u001b[0m\u001b[0;34m,\u001b[0m \u001b[0mmd_dict\u001b[0m \u001b[0;34m=\u001b[0m \u001b[0mself\u001b[0m\u001b[0;34m.\u001b[0m\u001b[0mcompute_format_data\u001b[0m\u001b[0;34m(\u001b[0m\u001b[0mresult\u001b[0m\u001b[0;34m)\u001b[0m\u001b[0;34m\u001b[0m\u001b[0;34m\u001b[0m\u001b[0m\n\u001b[0m\u001b[1;32m    247\u001b[0m             \u001b[0mself\u001b[0m\u001b[0;34m.\u001b[0m\u001b[0mupdate_user_ns\u001b[0m\u001b[0;34m(\u001b[0m\u001b[0mresult\u001b[0m\u001b[0;34m)\u001b[0m\u001b[0;34m\u001b[0m\u001b[0;34m\u001b[0m\u001b[0m\n\u001b[1;32m    248\u001b[0m             \u001b[0mself\u001b[0m\u001b[0;34m.\u001b[0m\u001b[0mfill_exec_result\u001b[0m\u001b[0;34m(\u001b[0m\u001b[0mresult\u001b[0m\u001b[0;34m)\u001b[0m\u001b[0;34m\u001b[0m\u001b[0;34m\u001b[0m\u001b[0m\n",
            "\u001b[0;32m/usr/local/lib/python3.7/dist-packages/IPython/core/displayhook.py\u001b[0m in \u001b[0;36mcompute_format_data\u001b[0;34m(self, result)\u001b[0m\n\u001b[1;32m    148\u001b[0m \u001b[0;34m\u001b[0m\u001b[0m\n\u001b[1;32m    149\u001b[0m         \"\"\"\n\u001b[0;32m--> 150\u001b[0;31m         \u001b[0;32mreturn\u001b[0m \u001b[0mself\u001b[0m\u001b[0;34m.\u001b[0m\u001b[0mshell\u001b[0m\u001b[0;34m.\u001b[0m\u001b[0mdisplay_formatter\u001b[0m\u001b[0;34m.\u001b[0m\u001b[0mformat\u001b[0m\u001b[0;34m(\u001b[0m\u001b[0mresult\u001b[0m\u001b[0;34m)\u001b[0m\u001b[0;34m\u001b[0m\u001b[0;34m\u001b[0m\u001b[0m\n\u001b[0m\u001b[1;32m    151\u001b[0m \u001b[0;34m\u001b[0m\u001b[0m\n\u001b[1;32m    152\u001b[0m     \u001b[0;31m# This can be set to True by the write_output_prompt method in a subclass\u001b[0m\u001b[0;34m\u001b[0m\u001b[0;34m\u001b[0m\u001b[0;34m\u001b[0m\u001b[0m\n",
            "\u001b[0;32m/usr/local/lib/python3.7/dist-packages/IPython/core/formatters.py\u001b[0m in \u001b[0;36mformat\u001b[0;34m(self, obj, include, exclude)\u001b[0m\n\u001b[1;32m    171\u001b[0m             \u001b[0mmd\u001b[0m \u001b[0;34m=\u001b[0m \u001b[0;32mNone\u001b[0m\u001b[0;34m\u001b[0m\u001b[0;34m\u001b[0m\u001b[0m\n\u001b[1;32m    172\u001b[0m             \u001b[0;32mtry\u001b[0m\u001b[0;34m:\u001b[0m\u001b[0;34m\u001b[0m\u001b[0;34m\u001b[0m\u001b[0m\n\u001b[0;32m--> 173\u001b[0;31m                 \u001b[0mdata\u001b[0m \u001b[0;34m=\u001b[0m \u001b[0mformatter\u001b[0m\u001b[0;34m(\u001b[0m\u001b[0mobj\u001b[0m\u001b[0;34m)\u001b[0m\u001b[0;34m\u001b[0m\u001b[0;34m\u001b[0m\u001b[0m\n\u001b[0m\u001b[1;32m    174\u001b[0m             \u001b[0;32mexcept\u001b[0m\u001b[0;34m:\u001b[0m\u001b[0;34m\u001b[0m\u001b[0;34m\u001b[0m\u001b[0m\n\u001b[1;32m    175\u001b[0m                 \u001b[0;31m# FIXME: log the exception\u001b[0m\u001b[0;34m\u001b[0m\u001b[0;34m\u001b[0m\u001b[0;34m\u001b[0m\u001b[0m\n",
            "\u001b[0;32m<decorator-gen-9>\u001b[0m in \u001b[0;36m__call__\u001b[0;34m(self, obj)\u001b[0m\n",
            "\u001b[0;32m/usr/local/lib/python3.7/dist-packages/IPython/core/formatters.py\u001b[0m in \u001b[0;36mcatch_format_error\u001b[0;34m(method, self, *args, **kwargs)\u001b[0m\n\u001b[1;32m    215\u001b[0m     \u001b[0;34m\"\"\"show traceback on failed format call\"\"\"\u001b[0m\u001b[0;34m\u001b[0m\u001b[0;34m\u001b[0m\u001b[0m\n\u001b[1;32m    216\u001b[0m     \u001b[0;32mtry\u001b[0m\u001b[0;34m:\u001b[0m\u001b[0;34m\u001b[0m\u001b[0;34m\u001b[0m\u001b[0m\n\u001b[0;32m--> 217\u001b[0;31m         \u001b[0mr\u001b[0m \u001b[0;34m=\u001b[0m \u001b[0mmethod\u001b[0m\u001b[0;34m(\u001b[0m\u001b[0mself\u001b[0m\u001b[0;34m,\u001b[0m \u001b[0;34m*\u001b[0m\u001b[0margs\u001b[0m\u001b[0;34m,\u001b[0m \u001b[0;34m**\u001b[0m\u001b[0mkwargs\u001b[0m\u001b[0;34m)\u001b[0m\u001b[0;34m\u001b[0m\u001b[0;34m\u001b[0m\u001b[0m\n\u001b[0m\u001b[1;32m    218\u001b[0m     \u001b[0;32mexcept\u001b[0m \u001b[0mNotImplementedError\u001b[0m\u001b[0;34m:\u001b[0m\u001b[0;34m\u001b[0m\u001b[0;34m\u001b[0m\u001b[0m\n\u001b[1;32m    219\u001b[0m         \u001b[0;31m# don't warn on NotImplementedErrors\u001b[0m\u001b[0;34m\u001b[0m\u001b[0;34m\u001b[0m\u001b[0;34m\u001b[0m\u001b[0m\n",
            "\u001b[0;32m/usr/local/lib/python3.7/dist-packages/IPython/core/formatters.py\u001b[0m in \u001b[0;36m__call__\u001b[0;34m(self, obj)\u001b[0m\n\u001b[1;32m    336\u001b[0m             \u001b[0mmethod\u001b[0m \u001b[0;34m=\u001b[0m \u001b[0mget_real_method\u001b[0m\u001b[0;34m(\u001b[0m\u001b[0mobj\u001b[0m\u001b[0;34m,\u001b[0m \u001b[0mself\u001b[0m\u001b[0;34m.\u001b[0m\u001b[0mprint_method\u001b[0m\u001b[0;34m)\u001b[0m\u001b[0;34m\u001b[0m\u001b[0;34m\u001b[0m\u001b[0m\n\u001b[1;32m    337\u001b[0m             \u001b[0;32mif\u001b[0m \u001b[0mmethod\u001b[0m \u001b[0;32mis\u001b[0m \u001b[0;32mnot\u001b[0m \u001b[0;32mNone\u001b[0m\u001b[0;34m:\u001b[0m\u001b[0;34m\u001b[0m\u001b[0;34m\u001b[0m\u001b[0m\n\u001b[0;32m--> 338\u001b[0;31m                 \u001b[0;32mreturn\u001b[0m \u001b[0mmethod\u001b[0m\u001b[0;34m(\u001b[0m\u001b[0;34m)\u001b[0m\u001b[0;34m\u001b[0m\u001b[0;34m\u001b[0m\u001b[0m\n\u001b[0m\u001b[1;32m    339\u001b[0m             \u001b[0;32mreturn\u001b[0m \u001b[0;32mNone\u001b[0m\u001b[0;34m\u001b[0m\u001b[0;34m\u001b[0m\u001b[0m\n\u001b[1;32m    340\u001b[0m         \u001b[0;32melse\u001b[0m\u001b[0;34m:\u001b[0m\u001b[0;34m\u001b[0m\u001b[0;34m\u001b[0m\u001b[0m\n",
            "\u001b[0;32m/usr/local/lib/python3.7/dist-packages/pandas_profiling/profile_report.py\u001b[0m in \u001b[0;36m_repr_html_\u001b[0;34m(self)\u001b[0m\n\u001b[1;32m    434\u001b[0m     \u001b[0;32mdef\u001b[0m \u001b[0m_repr_html_\u001b[0m\u001b[0;34m(\u001b[0m\u001b[0mself\u001b[0m\u001b[0;34m)\u001b[0m\u001b[0;34m:\u001b[0m\u001b[0;34m\u001b[0m\u001b[0;34m\u001b[0m\u001b[0m\n\u001b[1;32m    435\u001b[0m         \u001b[0;34m\"\"\"The ipython notebook widgets user interface gets called by the jupyter notebook.\"\"\"\u001b[0m\u001b[0;34m\u001b[0m\u001b[0;34m\u001b[0m\u001b[0m\n\u001b[0;32m--> 436\u001b[0;31m         \u001b[0mself\u001b[0m\u001b[0;34m.\u001b[0m\u001b[0mto_notebook_iframe\u001b[0m\u001b[0;34m(\u001b[0m\u001b[0;34m)\u001b[0m\u001b[0;34m\u001b[0m\u001b[0;34m\u001b[0m\u001b[0m\n\u001b[0m\u001b[1;32m    437\u001b[0m \u001b[0;34m\u001b[0m\u001b[0m\n\u001b[1;32m    438\u001b[0m     \u001b[0;32mdef\u001b[0m \u001b[0m__repr__\u001b[0m\u001b[0;34m(\u001b[0m\u001b[0mself\u001b[0m\u001b[0;34m)\u001b[0m\u001b[0;34m:\u001b[0m\u001b[0;34m\u001b[0m\u001b[0;34m\u001b[0m\u001b[0m\n",
            "\u001b[0;32m/usr/local/lib/python3.7/dist-packages/pandas_profiling/profile_report.py\u001b[0m in \u001b[0;36mto_notebook_iframe\u001b[0;34m(self)\u001b[0m\n\u001b[1;32m    414\u001b[0m         \u001b[0;32mwith\u001b[0m \u001b[0mwarnings\u001b[0m\u001b[0;34m.\u001b[0m\u001b[0mcatch_warnings\u001b[0m\u001b[0;34m(\u001b[0m\u001b[0;34m)\u001b[0m\u001b[0;34m:\u001b[0m\u001b[0;34m\u001b[0m\u001b[0;34m\u001b[0m\u001b[0m\n\u001b[1;32m    415\u001b[0m             \u001b[0mwarnings\u001b[0m\u001b[0;34m.\u001b[0m\u001b[0msimplefilter\u001b[0m\u001b[0;34m(\u001b[0m\u001b[0;34m\"ignore\"\u001b[0m\u001b[0;34m)\u001b[0m\u001b[0;34m\u001b[0m\u001b[0;34m\u001b[0m\u001b[0m\n\u001b[0;32m--> 416\u001b[0;31m             \u001b[0mdisplay\u001b[0m\u001b[0;34m(\u001b[0m\u001b[0mget_notebook_iframe\u001b[0m\u001b[0;34m(\u001b[0m\u001b[0mself\u001b[0m\u001b[0;34m)\u001b[0m\u001b[0;34m)\u001b[0m\u001b[0;34m\u001b[0m\u001b[0;34m\u001b[0m\u001b[0m\n\u001b[0m\u001b[1;32m    417\u001b[0m \u001b[0;34m\u001b[0m\u001b[0m\n\u001b[1;32m    418\u001b[0m     \u001b[0;32mdef\u001b[0m \u001b[0mto_widgets\u001b[0m\u001b[0;34m(\u001b[0m\u001b[0mself\u001b[0m\u001b[0;34m)\u001b[0m\u001b[0;34m:\u001b[0m\u001b[0;34m\u001b[0m\u001b[0;34m\u001b[0m\u001b[0m\n",
            "\u001b[0;32m/usr/local/lib/python3.7/dist-packages/pandas_profiling/report/presentation/flavours/widget/notebook.py\u001b[0m in \u001b[0;36mget_notebook_iframe\u001b[0;34m(profile)\u001b[0m\n\u001b[1;32m     63\u001b[0m         \u001b[0moutput\u001b[0m \u001b[0;34m=\u001b[0m \u001b[0mget_notebook_iframe_src\u001b[0m\u001b[0;34m(\u001b[0m\u001b[0mprofile\u001b[0m\u001b[0;34m)\u001b[0m\u001b[0;34m\u001b[0m\u001b[0;34m\u001b[0m\u001b[0m\n\u001b[1;32m     64\u001b[0m     \u001b[0;32melif\u001b[0m \u001b[0mattribute\u001b[0m \u001b[0;34m==\u001b[0m \u001b[0;34m\"srcdoc\"\u001b[0m\u001b[0;34m:\u001b[0m\u001b[0;34m\u001b[0m\u001b[0;34m\u001b[0m\u001b[0m\n\u001b[0;32m---> 65\u001b[0;31m         \u001b[0moutput\u001b[0m \u001b[0;34m=\u001b[0m \u001b[0mget_notebook_iframe_srcdoc\u001b[0m\u001b[0;34m(\u001b[0m\u001b[0mprofile\u001b[0m\u001b[0;34m)\u001b[0m\u001b[0;34m\u001b[0m\u001b[0;34m\u001b[0m\u001b[0m\n\u001b[0m\u001b[1;32m     66\u001b[0m     \u001b[0;32melse\u001b[0m\u001b[0;34m:\u001b[0m\u001b[0;34m\u001b[0m\u001b[0;34m\u001b[0m\u001b[0m\n\u001b[1;32m     67\u001b[0m         raise ValueError(\n",
            "\u001b[0;32m/usr/local/lib/python3.7/dist-packages/pandas_profiling/report/presentation/flavours/widget/notebook.py\u001b[0m in \u001b[0;36mget_notebook_iframe_srcdoc\u001b[0;34m(profile)\u001b[0m\n\u001b[1;32m     21\u001b[0m     \u001b[0mwidth\u001b[0m \u001b[0;34m=\u001b[0m \u001b[0mconfig\u001b[0m\u001b[0;34m[\u001b[0m\u001b[0;34m\"notebook\"\u001b[0m\u001b[0;34m]\u001b[0m\u001b[0;34m[\u001b[0m\u001b[0;34m\"iframe\"\u001b[0m\u001b[0;34m]\u001b[0m\u001b[0;34m[\u001b[0m\u001b[0;34m\"width\"\u001b[0m\u001b[0;34m]\u001b[0m\u001b[0;34m.\u001b[0m\u001b[0mget\u001b[0m\u001b[0;34m(\u001b[0m\u001b[0mstr\u001b[0m\u001b[0;34m)\u001b[0m\u001b[0;34m\u001b[0m\u001b[0;34m\u001b[0m\u001b[0m\n\u001b[1;32m     22\u001b[0m     \u001b[0mheight\u001b[0m \u001b[0;34m=\u001b[0m \u001b[0mconfig\u001b[0m\u001b[0;34m[\u001b[0m\u001b[0;34m\"notebook\"\u001b[0m\u001b[0;34m]\u001b[0m\u001b[0;34m[\u001b[0m\u001b[0;34m\"iframe\"\u001b[0m\u001b[0;34m]\u001b[0m\u001b[0;34m[\u001b[0m\u001b[0;34m\"height\"\u001b[0m\u001b[0;34m]\u001b[0m\u001b[0;34m.\u001b[0m\u001b[0mget\u001b[0m\u001b[0;34m(\u001b[0m\u001b[0mstr\u001b[0m\u001b[0;34m)\u001b[0m\u001b[0;34m\u001b[0m\u001b[0;34m\u001b[0m\u001b[0m\n\u001b[0;32m---> 23\u001b[0;31m     \u001b[0msrc\u001b[0m \u001b[0;34m=\u001b[0m \u001b[0mhtml\u001b[0m\u001b[0;34m.\u001b[0m\u001b[0mescape\u001b[0m\u001b[0;34m(\u001b[0m\u001b[0mprofile\u001b[0m\u001b[0;34m.\u001b[0m\u001b[0mto_html\u001b[0m\u001b[0;34m(\u001b[0m\u001b[0;34m)\u001b[0m\u001b[0;34m)\u001b[0m\u001b[0;34m\u001b[0m\u001b[0;34m\u001b[0m\u001b[0m\n\u001b[0m\u001b[1;32m     24\u001b[0m \u001b[0;34m\u001b[0m\u001b[0m\n\u001b[1;32m     25\u001b[0m     \u001b[0miframe\u001b[0m \u001b[0;34m=\u001b[0m \u001b[0;34mf'<iframe width=\"{width}\" height=\"{height}\" srcdoc=\"{src}\" frameborder=\"0\" allowfullscreen></iframe>'\u001b[0m\u001b[0;34m\u001b[0m\u001b[0;34m\u001b[0m\u001b[0m\n",
            "\u001b[0;32m/usr/local/lib/python3.7/dist-packages/pandas_profiling/profile_report.py\u001b[0m in \u001b[0;36mto_html\u001b[0;34m(self)\u001b[0m\n\u001b[1;32m    384\u001b[0m \u001b[0;34m\u001b[0m\u001b[0m\n\u001b[1;32m    385\u001b[0m         \"\"\"\n\u001b[0;32m--> 386\u001b[0;31m         \u001b[0;32mreturn\u001b[0m \u001b[0mself\u001b[0m\u001b[0;34m.\u001b[0m\u001b[0mhtml\u001b[0m\u001b[0;34m\u001b[0m\u001b[0;34m\u001b[0m\u001b[0m\n\u001b[0m\u001b[1;32m    387\u001b[0m \u001b[0;34m\u001b[0m\u001b[0m\n\u001b[1;32m    388\u001b[0m     \u001b[0;32mdef\u001b[0m \u001b[0mto_json\u001b[0m\u001b[0;34m(\u001b[0m\u001b[0mself\u001b[0m\u001b[0;34m)\u001b[0m \u001b[0;34m->\u001b[0m \u001b[0mstr\u001b[0m\u001b[0;34m:\u001b[0m\u001b[0;34m\u001b[0m\u001b[0;34m\u001b[0m\u001b[0m\n",
            "\u001b[0;32m/usr/local/lib/python3.7/dist-packages/pandas_profiling/profile_report.py\u001b[0m in \u001b[0;36mhtml\u001b[0;34m(self)\u001b[0m\n\u001b[1;32m    199\u001b[0m     \u001b[0;32mdef\u001b[0m \u001b[0mhtml\u001b[0m\u001b[0;34m(\u001b[0m\u001b[0mself\u001b[0m\u001b[0;34m)\u001b[0m\u001b[0;34m:\u001b[0m\u001b[0;34m\u001b[0m\u001b[0;34m\u001b[0m\u001b[0m\n\u001b[1;32m    200\u001b[0m         \u001b[0;32mif\u001b[0m \u001b[0mself\u001b[0m\u001b[0;34m.\u001b[0m\u001b[0m_html\u001b[0m \u001b[0;32mis\u001b[0m \u001b[0;32mNone\u001b[0m\u001b[0;34m:\u001b[0m\u001b[0;34m\u001b[0m\u001b[0;34m\u001b[0m\u001b[0m\n\u001b[0;32m--> 201\u001b[0;31m             \u001b[0mself\u001b[0m\u001b[0;34m.\u001b[0m\u001b[0m_html\u001b[0m \u001b[0;34m=\u001b[0m \u001b[0mself\u001b[0m\u001b[0;34m.\u001b[0m\u001b[0m_render_html\u001b[0m\u001b[0;34m(\u001b[0m\u001b[0;34m)\u001b[0m\u001b[0;34m\u001b[0m\u001b[0;34m\u001b[0m\u001b[0m\n\u001b[0m\u001b[1;32m    202\u001b[0m         \u001b[0;32mreturn\u001b[0m \u001b[0mself\u001b[0m\u001b[0;34m.\u001b[0m\u001b[0m_html\u001b[0m\u001b[0;34m\u001b[0m\u001b[0;34m\u001b[0m\u001b[0m\n\u001b[1;32m    203\u001b[0m \u001b[0;34m\u001b[0m\u001b[0m\n",
            "\u001b[0;32m/usr/local/lib/python3.7/dist-packages/pandas_profiling/profile_report.py\u001b[0m in \u001b[0;36m_render_html\u001b[0;34m(self)\u001b[0m\n\u001b[1;32m    306\u001b[0m         \u001b[0;32mfrom\u001b[0m \u001b[0mpandas_profiling\u001b[0m\u001b[0;34m.\u001b[0m\u001b[0mreport\u001b[0m\u001b[0;34m.\u001b[0m\u001b[0mpresentation\u001b[0m\u001b[0;34m.\u001b[0m\u001b[0mflavours\u001b[0m \u001b[0;32mimport\u001b[0m \u001b[0mHTMLReport\u001b[0m\u001b[0;34m\u001b[0m\u001b[0;34m\u001b[0m\u001b[0m\n\u001b[1;32m    307\u001b[0m \u001b[0;34m\u001b[0m\u001b[0m\n\u001b[0;32m--> 308\u001b[0;31m         \u001b[0mreport\u001b[0m \u001b[0;34m=\u001b[0m \u001b[0mself\u001b[0m\u001b[0;34m.\u001b[0m\u001b[0mreport\u001b[0m\u001b[0;34m\u001b[0m\u001b[0;34m\u001b[0m\u001b[0m\n\u001b[0m\u001b[1;32m    309\u001b[0m \u001b[0;34m\u001b[0m\u001b[0m\n\u001b[1;32m    310\u001b[0m         \u001b[0mdisable_progress_bar\u001b[0m \u001b[0;34m=\u001b[0m \u001b[0;32mnot\u001b[0m \u001b[0mconfig\u001b[0m\u001b[0;34m[\u001b[0m\u001b[0;34m\"progress_bar\"\u001b[0m\u001b[0;34m]\u001b[0m\u001b[0;34m.\u001b[0m\u001b[0mget\u001b[0m\u001b[0;34m(\u001b[0m\u001b[0mbool\u001b[0m\u001b[0;34m)\u001b[0m\u001b[0;34m\u001b[0m\u001b[0;34m\u001b[0m\u001b[0m\n",
            "\u001b[0;32m/usr/local/lib/python3.7/dist-packages/pandas_profiling/profile_report.py\u001b[0m in \u001b[0;36mreport\u001b[0;34m(self)\u001b[0m\n\u001b[1;32m    193\u001b[0m     \u001b[0;32mdef\u001b[0m \u001b[0mreport\u001b[0m\u001b[0;34m(\u001b[0m\u001b[0mself\u001b[0m\u001b[0;34m)\u001b[0m\u001b[0;34m:\u001b[0m\u001b[0;34m\u001b[0m\u001b[0;34m\u001b[0m\u001b[0m\n\u001b[1;32m    194\u001b[0m         \u001b[0;32mif\u001b[0m \u001b[0mself\u001b[0m\u001b[0;34m.\u001b[0m\u001b[0m_report\u001b[0m \u001b[0;32mis\u001b[0m \u001b[0;32mNone\u001b[0m\u001b[0;34m:\u001b[0m\u001b[0;34m\u001b[0m\u001b[0;34m\u001b[0m\u001b[0m\n\u001b[0;32m--> 195\u001b[0;31m             \u001b[0mself\u001b[0m\u001b[0;34m.\u001b[0m\u001b[0m_report\u001b[0m \u001b[0;34m=\u001b[0m \u001b[0mget_report_structure\u001b[0m\u001b[0;34m(\u001b[0m\u001b[0mself\u001b[0m\u001b[0;34m.\u001b[0m\u001b[0mdescription_set\u001b[0m\u001b[0;34m)\u001b[0m\u001b[0;34m\u001b[0m\u001b[0;34m\u001b[0m\u001b[0m\n\u001b[0m\u001b[1;32m    196\u001b[0m         \u001b[0;32mreturn\u001b[0m \u001b[0mself\u001b[0m\u001b[0;34m.\u001b[0m\u001b[0m_report\u001b[0m\u001b[0;34m\u001b[0m\u001b[0;34m\u001b[0m\u001b[0m\n\u001b[1;32m    197\u001b[0m \u001b[0;34m\u001b[0m\u001b[0m\n",
            "\u001b[0;32m/usr/local/lib/python3.7/dist-packages/pandas_profiling/profile_report.py\u001b[0m in \u001b[0;36mdescription_set\u001b[0;34m(self)\u001b[0m\n\u001b[1;32m    173\u001b[0m         \u001b[0;32mif\u001b[0m \u001b[0mself\u001b[0m\u001b[0;34m.\u001b[0m\u001b[0m_description_set\u001b[0m \u001b[0;32mis\u001b[0m \u001b[0;32mNone\u001b[0m\u001b[0;34m:\u001b[0m\u001b[0;34m\u001b[0m\u001b[0;34m\u001b[0m\u001b[0m\n\u001b[1;32m    174\u001b[0m             self._description_set = describe_df(\n\u001b[0;32m--> 175\u001b[0;31m                 \u001b[0mself\u001b[0m\u001b[0;34m.\u001b[0m\u001b[0mtitle\u001b[0m\u001b[0;34m,\u001b[0m \u001b[0mself\u001b[0m\u001b[0;34m.\u001b[0m\u001b[0mdf\u001b[0m\u001b[0;34m,\u001b[0m \u001b[0mself\u001b[0m\u001b[0;34m.\u001b[0m\u001b[0msummarizer\u001b[0m\u001b[0;34m,\u001b[0m \u001b[0mself\u001b[0m\u001b[0;34m.\u001b[0m\u001b[0mtypeset\u001b[0m\u001b[0;34m,\u001b[0m \u001b[0mself\u001b[0m\u001b[0;34m.\u001b[0m\u001b[0m_sample\u001b[0m\u001b[0;34m\u001b[0m\u001b[0;34m\u001b[0m\u001b[0m\n\u001b[0m\u001b[1;32m    176\u001b[0m             )\n\u001b[1;32m    177\u001b[0m         \u001b[0;32mreturn\u001b[0m \u001b[0mself\u001b[0m\u001b[0;34m.\u001b[0m\u001b[0m_description_set\u001b[0m\u001b[0;34m\u001b[0m\u001b[0;34m\u001b[0m\u001b[0m\n",
            "\u001b[0;32m/usr/local/lib/python3.7/dist-packages/pandas_profiling/model/describe.py\u001b[0m in \u001b[0;36mdescribe\u001b[0;34m(title, df, summarizer, typeset, sample)\u001b[0m\n\u001b[1;32m    105\u001b[0m         \u001b[0;31m# Scatter matrix\u001b[0m\u001b[0;34m\u001b[0m\u001b[0;34m\u001b[0m\u001b[0;34m\u001b[0m\u001b[0m\n\u001b[1;32m    106\u001b[0m         \u001b[0mpbar\u001b[0m\u001b[0;34m.\u001b[0m\u001b[0mset_postfix_str\u001b[0m\u001b[0;34m(\u001b[0m\u001b[0;34m\"Get scatter matrix\"\u001b[0m\u001b[0;34m)\u001b[0m\u001b[0;34m\u001b[0m\u001b[0;34m\u001b[0m\u001b[0m\n\u001b[0;32m--> 107\u001b[0;31m         \u001b[0mscatter_matrix\u001b[0m \u001b[0;34m=\u001b[0m \u001b[0mget_scatter_matrix\u001b[0m\u001b[0;34m(\u001b[0m\u001b[0mdf\u001b[0m\u001b[0;34m,\u001b[0m \u001b[0minterval_columns\u001b[0m\u001b[0;34m)\u001b[0m\u001b[0;34m\u001b[0m\u001b[0;34m\u001b[0m\u001b[0m\n\u001b[0m\u001b[1;32m    108\u001b[0m         \u001b[0mpbar\u001b[0m\u001b[0;34m.\u001b[0m\u001b[0mupdate\u001b[0m\u001b[0;34m(\u001b[0m\u001b[0;34m)\u001b[0m\u001b[0;34m\u001b[0m\u001b[0;34m\u001b[0m\u001b[0m\n\u001b[1;32m    109\u001b[0m \u001b[0;34m\u001b[0m\u001b[0m\n",
            "\u001b[0;32m/usr/local/lib/python3.7/dist-packages/pandas_profiling/model/summary.py\u001b[0m in \u001b[0;36mget_scatter_matrix\u001b[0;34m(df, continuous_variables)\u001b[0m\n\u001b[1;32m    289\u001b[0m                     \u001b[0mdf_temp\u001b[0m \u001b[0;34m=\u001b[0m \u001b[0mdf\u001b[0m\u001b[0;34m[\u001b[0m\u001b[0;34m[\u001b[0m\u001b[0mx\u001b[0m\u001b[0;34m,\u001b[0m \u001b[0my\u001b[0m\u001b[0;34m]\u001b[0m\u001b[0;34m]\u001b[0m\u001b[0;34m.\u001b[0m\u001b[0mdropna\u001b[0m\u001b[0;34m(\u001b[0m\u001b[0;34m)\u001b[0m\u001b[0;34m\u001b[0m\u001b[0;34m\u001b[0m\u001b[0m\n\u001b[1;32m    290\u001b[0m                     scatter_matrix[x][y] = scatter_pairwise(\n\u001b[0;32m--> 291\u001b[0;31m                         \u001b[0mdf_temp\u001b[0m\u001b[0;34m[\u001b[0m\u001b[0mx\u001b[0m\u001b[0;34m]\u001b[0m\u001b[0;34m,\u001b[0m \u001b[0mdf_temp\u001b[0m\u001b[0;34m[\u001b[0m\u001b[0my\u001b[0m\u001b[0;34m]\u001b[0m\u001b[0;34m,\u001b[0m \u001b[0mx\u001b[0m\u001b[0;34m,\u001b[0m \u001b[0my\u001b[0m\u001b[0;34m\u001b[0m\u001b[0;34m\u001b[0m\u001b[0m\n\u001b[0m\u001b[1;32m    292\u001b[0m                     )\n\u001b[1;32m    293\u001b[0m     \u001b[0;32melse\u001b[0m\u001b[0;34m:\u001b[0m\u001b[0;34m\u001b[0m\u001b[0;34m\u001b[0m\u001b[0m\n",
            "\u001b[0;32m/usr/lib/python3.7/contextlib.py\u001b[0m in \u001b[0;36minner\u001b[0;34m(*args, **kwds)\u001b[0m\n\u001b[1;32m     72\u001b[0m         \u001b[0;32mdef\u001b[0m \u001b[0minner\u001b[0m\u001b[0;34m(\u001b[0m\u001b[0;34m*\u001b[0m\u001b[0margs\u001b[0m\u001b[0;34m,\u001b[0m \u001b[0;34m**\u001b[0m\u001b[0mkwds\u001b[0m\u001b[0;34m)\u001b[0m\u001b[0;34m:\u001b[0m\u001b[0;34m\u001b[0m\u001b[0;34m\u001b[0m\u001b[0m\n\u001b[1;32m     73\u001b[0m             \u001b[0;32mwith\u001b[0m \u001b[0mself\u001b[0m\u001b[0;34m.\u001b[0m\u001b[0m_recreate_cm\u001b[0m\u001b[0;34m(\u001b[0m\u001b[0;34m)\u001b[0m\u001b[0;34m:\u001b[0m\u001b[0;34m\u001b[0m\u001b[0;34m\u001b[0m\u001b[0m\n\u001b[0;32m---> 74\u001b[0;31m                 \u001b[0;32mreturn\u001b[0m \u001b[0mfunc\u001b[0m\u001b[0;34m(\u001b[0m\u001b[0;34m*\u001b[0m\u001b[0margs\u001b[0m\u001b[0;34m,\u001b[0m \u001b[0;34m**\u001b[0m\u001b[0mkwds\u001b[0m\u001b[0;34m)\u001b[0m\u001b[0;34m\u001b[0m\u001b[0;34m\u001b[0m\u001b[0m\n\u001b[0m\u001b[1;32m     75\u001b[0m         \u001b[0;32mreturn\u001b[0m \u001b[0minner\u001b[0m\u001b[0;34m\u001b[0m\u001b[0;34m\u001b[0m\u001b[0m\n\u001b[1;32m     76\u001b[0m \u001b[0;34m\u001b[0m\u001b[0m\n",
            "\u001b[0;32m/usr/local/lib/python3.7/dist-packages/pandas_profiling/visualisation/plot.py\u001b[0m in \u001b[0;36mscatter_pairwise\u001b[0;34m(series1, series2, x_label, y_label)\u001b[0m\n\u001b[1;32m    275\u001b[0m     \u001b[0;32melse\u001b[0m\u001b[0;34m:\u001b[0m\u001b[0;34m\u001b[0m\u001b[0;34m\u001b[0m\u001b[0m\n\u001b[1;32m    276\u001b[0m         \u001b[0mplt\u001b[0m\u001b[0;34m.\u001b[0m\u001b[0mscatter\u001b[0m\u001b[0;34m(\u001b[0m\u001b[0mseries1\u001b[0m\u001b[0;34m,\u001b[0m \u001b[0mseries2\u001b[0m\u001b[0;34m,\u001b[0m \u001b[0mcolor\u001b[0m\u001b[0;34m=\u001b[0m\u001b[0mcolor\u001b[0m\u001b[0;34m)\u001b[0m\u001b[0;34m\u001b[0m\u001b[0;34m\u001b[0m\u001b[0m\n\u001b[0;32m--> 277\u001b[0;31m     \u001b[0;32mreturn\u001b[0m \u001b[0mplot_360_n0sc0pe\u001b[0m\u001b[0;34m(\u001b[0m\u001b[0mplt\u001b[0m\u001b[0;34m)\u001b[0m\u001b[0;34m\u001b[0m\u001b[0;34m\u001b[0m\u001b[0m\n\u001b[0m\u001b[1;32m    278\u001b[0m \u001b[0;34m\u001b[0m\u001b[0m\n\u001b[1;32m    279\u001b[0m \u001b[0;34m\u001b[0m\u001b[0m\n",
            "\u001b[0;32m/usr/local/lib/python3.7/dist-packages/pandas_profiling/visualisation/utils.py\u001b[0m in \u001b[0;36mplot_360_n0sc0pe\u001b[0;34m(plt, image_format, attempts)\u001b[0m\n\u001b[1;32m     66\u001b[0m             \u001b[0;32mif\u001b[0m \u001b[0mimage_format\u001b[0m \u001b[0;34m==\u001b[0m \u001b[0;34m\"svg\"\u001b[0m\u001b[0;34m:\u001b[0m\u001b[0;34m\u001b[0m\u001b[0;34m\u001b[0m\u001b[0m\n\u001b[1;32m     67\u001b[0m                 \u001b[0mimage_str\u001b[0m \u001b[0;34m=\u001b[0m \u001b[0mStringIO\u001b[0m\u001b[0;34m(\u001b[0m\u001b[0;34m)\u001b[0m\u001b[0;34m\u001b[0m\u001b[0;34m\u001b[0m\u001b[0m\n\u001b[0;32m---> 68\u001b[0;31m                 \u001b[0mplt\u001b[0m\u001b[0;34m.\u001b[0m\u001b[0msavefig\u001b[0m\u001b[0;34m(\u001b[0m\u001b[0mimage_str\u001b[0m\u001b[0;34m,\u001b[0m \u001b[0mformat\u001b[0m\u001b[0;34m=\u001b[0m\u001b[0mimage_format\u001b[0m\u001b[0;34m)\u001b[0m\u001b[0;34m\u001b[0m\u001b[0;34m\u001b[0m\u001b[0m\n\u001b[0m\u001b[1;32m     69\u001b[0m                 \u001b[0mimage_str\u001b[0m\u001b[0;34m.\u001b[0m\u001b[0mseek\u001b[0m\u001b[0;34m(\u001b[0m\u001b[0;36m0\u001b[0m\u001b[0;34m)\u001b[0m\u001b[0;34m\u001b[0m\u001b[0;34m\u001b[0m\u001b[0m\n\u001b[1;32m     70\u001b[0m                 \u001b[0mresult_string\u001b[0m \u001b[0;34m=\u001b[0m \u001b[0mimage_str\u001b[0m\u001b[0;34m.\u001b[0m\u001b[0mgetvalue\u001b[0m\u001b[0;34m(\u001b[0m\u001b[0;34m)\u001b[0m\u001b[0;34m\u001b[0m\u001b[0;34m\u001b[0m\u001b[0m\n",
            "\u001b[0;32m/usr/local/lib/python3.7/dist-packages/matplotlib/pyplot.py\u001b[0m in \u001b[0;36msavefig\u001b[0;34m(*args, **kwargs)\u001b[0m\n\u001b[1;32m    721\u001b[0m \u001b[0;32mdef\u001b[0m \u001b[0msavefig\u001b[0m\u001b[0;34m(\u001b[0m\u001b[0;34m*\u001b[0m\u001b[0margs\u001b[0m\u001b[0;34m,\u001b[0m \u001b[0;34m**\u001b[0m\u001b[0mkwargs\u001b[0m\u001b[0;34m)\u001b[0m\u001b[0;34m:\u001b[0m\u001b[0;34m\u001b[0m\u001b[0;34m\u001b[0m\u001b[0m\n\u001b[1;32m    722\u001b[0m     \u001b[0mfig\u001b[0m \u001b[0;34m=\u001b[0m \u001b[0mgcf\u001b[0m\u001b[0;34m(\u001b[0m\u001b[0;34m)\u001b[0m\u001b[0;34m\u001b[0m\u001b[0;34m\u001b[0m\u001b[0m\n\u001b[0;32m--> 723\u001b[0;31m     \u001b[0mres\u001b[0m \u001b[0;34m=\u001b[0m \u001b[0mfig\u001b[0m\u001b[0;34m.\u001b[0m\u001b[0msavefig\u001b[0m\u001b[0;34m(\u001b[0m\u001b[0;34m*\u001b[0m\u001b[0margs\u001b[0m\u001b[0;34m,\u001b[0m \u001b[0;34m**\u001b[0m\u001b[0mkwargs\u001b[0m\u001b[0;34m)\u001b[0m\u001b[0;34m\u001b[0m\u001b[0;34m\u001b[0m\u001b[0m\n\u001b[0m\u001b[1;32m    724\u001b[0m     \u001b[0mfig\u001b[0m\u001b[0;34m.\u001b[0m\u001b[0mcanvas\u001b[0m\u001b[0;34m.\u001b[0m\u001b[0mdraw_idle\u001b[0m\u001b[0;34m(\u001b[0m\u001b[0;34m)\u001b[0m   \u001b[0;31m# need this if 'transparent=True' to reset colors\u001b[0m\u001b[0;34m\u001b[0m\u001b[0;34m\u001b[0m\u001b[0m\n\u001b[1;32m    725\u001b[0m     \u001b[0;32mreturn\u001b[0m \u001b[0mres\u001b[0m\u001b[0;34m\u001b[0m\u001b[0;34m\u001b[0m\u001b[0m\n",
            "\u001b[0;32m/usr/local/lib/python3.7/dist-packages/matplotlib/figure.py\u001b[0m in \u001b[0;36msavefig\u001b[0;34m(self, fname, transparent, **kwargs)\u001b[0m\n\u001b[1;32m   2201\u001b[0m             \u001b[0mself\u001b[0m\u001b[0;34m.\u001b[0m\u001b[0mpatch\u001b[0m\u001b[0;34m.\u001b[0m\u001b[0mset_visible\u001b[0m\u001b[0;34m(\u001b[0m\u001b[0mframeon\u001b[0m\u001b[0;34m)\u001b[0m\u001b[0;34m\u001b[0m\u001b[0;34m\u001b[0m\u001b[0m\n\u001b[1;32m   2202\u001b[0m \u001b[0;34m\u001b[0m\u001b[0m\n\u001b[0;32m-> 2203\u001b[0;31m         \u001b[0mself\u001b[0m\u001b[0;34m.\u001b[0m\u001b[0mcanvas\u001b[0m\u001b[0;34m.\u001b[0m\u001b[0mprint_figure\u001b[0m\u001b[0;34m(\u001b[0m\u001b[0mfname\u001b[0m\u001b[0;34m,\u001b[0m \u001b[0;34m**\u001b[0m\u001b[0mkwargs\u001b[0m\u001b[0;34m)\u001b[0m\u001b[0;34m\u001b[0m\u001b[0;34m\u001b[0m\u001b[0m\n\u001b[0m\u001b[1;32m   2204\u001b[0m \u001b[0;34m\u001b[0m\u001b[0m\n\u001b[1;32m   2205\u001b[0m         \u001b[0;32mif\u001b[0m \u001b[0mframeon\u001b[0m\u001b[0;34m:\u001b[0m\u001b[0;34m\u001b[0m\u001b[0;34m\u001b[0m\u001b[0m\n",
            "\u001b[0;32m/usr/local/lib/python3.7/dist-packages/matplotlib/backend_bases.py\u001b[0m in \u001b[0;36mprint_figure\u001b[0;34m(self, filename, dpi, facecolor, edgecolor, orientation, format, bbox_inches, **kwargs)\u001b[0m\n\u001b[1;32m   2124\u001b[0m                     \u001b[0morientation\u001b[0m\u001b[0;34m=\u001b[0m\u001b[0morientation\u001b[0m\u001b[0;34m,\u001b[0m\u001b[0;34m\u001b[0m\u001b[0;34m\u001b[0m\u001b[0m\n\u001b[1;32m   2125\u001b[0m                     \u001b[0mbbox_inches_restore\u001b[0m\u001b[0;34m=\u001b[0m\u001b[0m_bbox_inches_restore\u001b[0m\u001b[0;34m,\u001b[0m\u001b[0;34m\u001b[0m\u001b[0;34m\u001b[0m\u001b[0m\n\u001b[0;32m-> 2126\u001b[0;31m                     **kwargs)\n\u001b[0m\u001b[1;32m   2127\u001b[0m             \u001b[0;32mfinally\u001b[0m\u001b[0;34m:\u001b[0m\u001b[0;34m\u001b[0m\u001b[0;34m\u001b[0m\u001b[0m\n\u001b[1;32m   2128\u001b[0m                 \u001b[0;32mif\u001b[0m \u001b[0mbbox_inches\u001b[0m \u001b[0;32mand\u001b[0m \u001b[0mrestore_bbox\u001b[0m\u001b[0;34m:\u001b[0m\u001b[0;34m\u001b[0m\u001b[0;34m\u001b[0m\u001b[0m\n",
            "\u001b[0;32m/usr/local/lib/python3.7/dist-packages/matplotlib/backends/backend_svg.py\u001b[0m in \u001b[0;36mprint_svg\u001b[0;34m(self, filename, *args, **kwargs)\u001b[0m\n\u001b[1;32m   1194\u001b[0m                 \u001b[0mdetach\u001b[0m \u001b[0;34m=\u001b[0m \u001b[0;32mTrue\u001b[0m\u001b[0;34m\u001b[0m\u001b[0;34m\u001b[0m\u001b[0m\n\u001b[1;32m   1195\u001b[0m \u001b[0;34m\u001b[0m\u001b[0m\n\u001b[0;32m-> 1196\u001b[0;31m             \u001b[0mresult\u001b[0m \u001b[0;34m=\u001b[0m \u001b[0mself\u001b[0m\u001b[0;34m.\u001b[0m\u001b[0m_print_svg\u001b[0m\u001b[0;34m(\u001b[0m\u001b[0mfilename\u001b[0m\u001b[0;34m,\u001b[0m \u001b[0mfh\u001b[0m\u001b[0;34m,\u001b[0m \u001b[0;34m**\u001b[0m\u001b[0mkwargs\u001b[0m\u001b[0;34m)\u001b[0m\u001b[0;34m\u001b[0m\u001b[0;34m\u001b[0m\u001b[0m\n\u001b[0m\u001b[1;32m   1197\u001b[0m \u001b[0;34m\u001b[0m\u001b[0m\n\u001b[1;32m   1198\u001b[0m             \u001b[0;31m# Detach underlying stream from wrapper so that it remains open in\u001b[0m\u001b[0;34m\u001b[0m\u001b[0;34m\u001b[0m\u001b[0;34m\u001b[0m\u001b[0m\n",
            "\u001b[0;32m/usr/local/lib/python3.7/dist-packages/matplotlib/backends/backend_svg.py\u001b[0m in \u001b[0;36m_print_svg\u001b[0;34m(self, filename, fh, dpi, bbox_inches_restore, **kwargs)\u001b[0m\n\u001b[1;32m   1219\u001b[0m             bbox_inches_restore=bbox_inches_restore)\n\u001b[1;32m   1220\u001b[0m \u001b[0;34m\u001b[0m\u001b[0m\n\u001b[0;32m-> 1221\u001b[0;31m         \u001b[0mself\u001b[0m\u001b[0;34m.\u001b[0m\u001b[0mfigure\u001b[0m\u001b[0;34m.\u001b[0m\u001b[0mdraw\u001b[0m\u001b[0;34m(\u001b[0m\u001b[0mrenderer\u001b[0m\u001b[0;34m)\u001b[0m\u001b[0;34m\u001b[0m\u001b[0;34m\u001b[0m\u001b[0m\n\u001b[0m\u001b[1;32m   1222\u001b[0m         \u001b[0mrenderer\u001b[0m\u001b[0;34m.\u001b[0m\u001b[0mfinalize\u001b[0m\u001b[0;34m(\u001b[0m\u001b[0;34m)\u001b[0m\u001b[0;34m\u001b[0m\u001b[0;34m\u001b[0m\u001b[0m\n\u001b[1;32m   1223\u001b[0m \u001b[0;34m\u001b[0m\u001b[0m\n",
            "\u001b[0;32m/usr/local/lib/python3.7/dist-packages/matplotlib/artist.py\u001b[0m in \u001b[0;36mdraw_wrapper\u001b[0;34m(artist, renderer, *args, **kwargs)\u001b[0m\n\u001b[1;32m     36\u001b[0m                 \u001b[0mrenderer\u001b[0m\u001b[0;34m.\u001b[0m\u001b[0mstart_filter\u001b[0m\u001b[0;34m(\u001b[0m\u001b[0;34m)\u001b[0m\u001b[0;34m\u001b[0m\u001b[0;34m\u001b[0m\u001b[0m\n\u001b[1;32m     37\u001b[0m \u001b[0;34m\u001b[0m\u001b[0m\n\u001b[0;32m---> 38\u001b[0;31m             \u001b[0;32mreturn\u001b[0m \u001b[0mdraw\u001b[0m\u001b[0;34m(\u001b[0m\u001b[0martist\u001b[0m\u001b[0;34m,\u001b[0m \u001b[0mrenderer\u001b[0m\u001b[0;34m,\u001b[0m \u001b[0;34m*\u001b[0m\u001b[0margs\u001b[0m\u001b[0;34m,\u001b[0m \u001b[0;34m**\u001b[0m\u001b[0mkwargs\u001b[0m\u001b[0;34m)\u001b[0m\u001b[0;34m\u001b[0m\u001b[0;34m\u001b[0m\u001b[0m\n\u001b[0m\u001b[1;32m     39\u001b[0m         \u001b[0;32mfinally\u001b[0m\u001b[0;34m:\u001b[0m\u001b[0;34m\u001b[0m\u001b[0;34m\u001b[0m\u001b[0m\n\u001b[1;32m     40\u001b[0m             \u001b[0;32mif\u001b[0m \u001b[0martist\u001b[0m\u001b[0;34m.\u001b[0m\u001b[0mget_agg_filter\u001b[0m\u001b[0;34m(\u001b[0m\u001b[0;34m)\u001b[0m \u001b[0;32mis\u001b[0m \u001b[0;32mnot\u001b[0m \u001b[0;32mNone\u001b[0m\u001b[0;34m:\u001b[0m\u001b[0;34m\u001b[0m\u001b[0;34m\u001b[0m\u001b[0m\n",
            "\u001b[0;32m/usr/local/lib/python3.7/dist-packages/matplotlib/figure.py\u001b[0m in \u001b[0;36mdraw\u001b[0;34m(self, renderer)\u001b[0m\n\u001b[1;32m   1734\u001b[0m             \u001b[0mself\u001b[0m\u001b[0;34m.\u001b[0m\u001b[0mpatch\u001b[0m\u001b[0;34m.\u001b[0m\u001b[0mdraw\u001b[0m\u001b[0;34m(\u001b[0m\u001b[0mrenderer\u001b[0m\u001b[0;34m)\u001b[0m\u001b[0;34m\u001b[0m\u001b[0;34m\u001b[0m\u001b[0m\n\u001b[1;32m   1735\u001b[0m             mimage._draw_list_compositing_images(\n\u001b[0;32m-> 1736\u001b[0;31m                 renderer, self, artists, self.suppressComposite)\n\u001b[0m\u001b[1;32m   1737\u001b[0m \u001b[0;34m\u001b[0m\u001b[0m\n\u001b[1;32m   1738\u001b[0m             \u001b[0mrenderer\u001b[0m\u001b[0;34m.\u001b[0m\u001b[0mclose_group\u001b[0m\u001b[0;34m(\u001b[0m\u001b[0;34m'figure'\u001b[0m\u001b[0;34m)\u001b[0m\u001b[0;34m\u001b[0m\u001b[0;34m\u001b[0m\u001b[0m\n",
            "\u001b[0;32m/usr/local/lib/python3.7/dist-packages/matplotlib/image.py\u001b[0m in \u001b[0;36m_draw_list_compositing_images\u001b[0;34m(renderer, parent, artists, suppress_composite)\u001b[0m\n\u001b[1;32m    135\u001b[0m     \u001b[0;32mif\u001b[0m \u001b[0mnot_composite\u001b[0m \u001b[0;32mor\u001b[0m \u001b[0;32mnot\u001b[0m \u001b[0mhas_images\u001b[0m\u001b[0;34m:\u001b[0m\u001b[0;34m\u001b[0m\u001b[0;34m\u001b[0m\u001b[0m\n\u001b[1;32m    136\u001b[0m         \u001b[0;32mfor\u001b[0m \u001b[0ma\u001b[0m \u001b[0;32min\u001b[0m \u001b[0martists\u001b[0m\u001b[0;34m:\u001b[0m\u001b[0;34m\u001b[0m\u001b[0;34m\u001b[0m\u001b[0m\n\u001b[0;32m--> 137\u001b[0;31m             \u001b[0ma\u001b[0m\u001b[0;34m.\u001b[0m\u001b[0mdraw\u001b[0m\u001b[0;34m(\u001b[0m\u001b[0mrenderer\u001b[0m\u001b[0;34m)\u001b[0m\u001b[0;34m\u001b[0m\u001b[0;34m\u001b[0m\u001b[0m\n\u001b[0m\u001b[1;32m    138\u001b[0m     \u001b[0;32melse\u001b[0m\u001b[0;34m:\u001b[0m\u001b[0;34m\u001b[0m\u001b[0;34m\u001b[0m\u001b[0m\n\u001b[1;32m    139\u001b[0m         \u001b[0;31m# Composite any adjacent images together\u001b[0m\u001b[0;34m\u001b[0m\u001b[0;34m\u001b[0m\u001b[0;34m\u001b[0m\u001b[0m\n",
            "\u001b[0;32m/usr/local/lib/python3.7/dist-packages/matplotlib/artist.py\u001b[0m in \u001b[0;36mdraw_wrapper\u001b[0;34m(artist, renderer, *args, **kwargs)\u001b[0m\n\u001b[1;32m     36\u001b[0m                 \u001b[0mrenderer\u001b[0m\u001b[0;34m.\u001b[0m\u001b[0mstart_filter\u001b[0m\u001b[0;34m(\u001b[0m\u001b[0;34m)\u001b[0m\u001b[0;34m\u001b[0m\u001b[0;34m\u001b[0m\u001b[0m\n\u001b[1;32m     37\u001b[0m \u001b[0;34m\u001b[0m\u001b[0m\n\u001b[0;32m---> 38\u001b[0;31m             \u001b[0;32mreturn\u001b[0m \u001b[0mdraw\u001b[0m\u001b[0;34m(\u001b[0m\u001b[0martist\u001b[0m\u001b[0;34m,\u001b[0m \u001b[0mrenderer\u001b[0m\u001b[0;34m,\u001b[0m \u001b[0;34m*\u001b[0m\u001b[0margs\u001b[0m\u001b[0;34m,\u001b[0m \u001b[0;34m**\u001b[0m\u001b[0mkwargs\u001b[0m\u001b[0;34m)\u001b[0m\u001b[0;34m\u001b[0m\u001b[0;34m\u001b[0m\u001b[0m\n\u001b[0m\u001b[1;32m     39\u001b[0m         \u001b[0;32mfinally\u001b[0m\u001b[0;34m:\u001b[0m\u001b[0;34m\u001b[0m\u001b[0;34m\u001b[0m\u001b[0m\n\u001b[1;32m     40\u001b[0m             \u001b[0;32mif\u001b[0m \u001b[0martist\u001b[0m\u001b[0;34m.\u001b[0m\u001b[0mget_agg_filter\u001b[0m\u001b[0;34m(\u001b[0m\u001b[0;34m)\u001b[0m \u001b[0;32mis\u001b[0m \u001b[0;32mnot\u001b[0m \u001b[0;32mNone\u001b[0m\u001b[0;34m:\u001b[0m\u001b[0;34m\u001b[0m\u001b[0;34m\u001b[0m\u001b[0m\n",
            "\u001b[0;32m/usr/local/lib/python3.7/dist-packages/matplotlib/axes/_base.py\u001b[0m in \u001b[0;36mdraw\u001b[0;34m(self, renderer, inframe)\u001b[0m\n\u001b[1;32m   2588\u001b[0m                 \u001b[0martists\u001b[0m\u001b[0;34m.\u001b[0m\u001b[0mremove\u001b[0m\u001b[0;34m(\u001b[0m\u001b[0mspine\u001b[0m\u001b[0;34m)\u001b[0m\u001b[0;34m\u001b[0m\u001b[0;34m\u001b[0m\u001b[0m\n\u001b[1;32m   2589\u001b[0m \u001b[0;34m\u001b[0m\u001b[0m\n\u001b[0;32m-> 2590\u001b[0;31m         \u001b[0mself\u001b[0m\u001b[0;34m.\u001b[0m\u001b[0m_update_title_position\u001b[0m\u001b[0;34m(\u001b[0m\u001b[0mrenderer\u001b[0m\u001b[0;34m)\u001b[0m\u001b[0;34m\u001b[0m\u001b[0;34m\u001b[0m\u001b[0m\n\u001b[0m\u001b[1;32m   2591\u001b[0m \u001b[0;34m\u001b[0m\u001b[0m\n\u001b[1;32m   2592\u001b[0m         \u001b[0;32mif\u001b[0m \u001b[0;32mnot\u001b[0m \u001b[0mself\u001b[0m\u001b[0;34m.\u001b[0m\u001b[0maxison\u001b[0m \u001b[0;32mor\u001b[0m \u001b[0minframe\u001b[0m\u001b[0;34m:\u001b[0m\u001b[0;34m\u001b[0m\u001b[0;34m\u001b[0m\u001b[0m\n",
            "\u001b[0;32m/usr/local/lib/python3.7/dist-packages/matplotlib/axes/_base.py\u001b[0m in \u001b[0;36m_update_title_position\u001b[0;34m(self, renderer)\u001b[0m\n\u001b[1;32m   2531\u001b[0m                 if (ax.xaxis.get_ticks_position() in ['top', 'unknown']\n\u001b[1;32m   2532\u001b[0m                         or ax.xaxis.get_label_position() == 'top'):\n\u001b[0;32m-> 2533\u001b[0;31m                     \u001b[0mbb\u001b[0m \u001b[0;34m=\u001b[0m \u001b[0max\u001b[0m\u001b[0;34m.\u001b[0m\u001b[0mxaxis\u001b[0m\u001b[0;34m.\u001b[0m\u001b[0mget_tightbbox\u001b[0m\u001b[0;34m(\u001b[0m\u001b[0mrenderer\u001b[0m\u001b[0;34m)\u001b[0m\u001b[0;34m\u001b[0m\u001b[0;34m\u001b[0m\u001b[0m\n\u001b[0m\u001b[1;32m   2534\u001b[0m                 \u001b[0;32melse\u001b[0m\u001b[0;34m:\u001b[0m\u001b[0;34m\u001b[0m\u001b[0;34m\u001b[0m\u001b[0m\n\u001b[1;32m   2535\u001b[0m                     \u001b[0mbb\u001b[0m \u001b[0;34m=\u001b[0m \u001b[0max\u001b[0m\u001b[0;34m.\u001b[0m\u001b[0mget_window_extent\u001b[0m\u001b[0;34m(\u001b[0m\u001b[0mrenderer\u001b[0m\u001b[0;34m)\u001b[0m\u001b[0;34m\u001b[0m\u001b[0;34m\u001b[0m\u001b[0m\n",
            "\u001b[0;32m/usr/local/lib/python3.7/dist-packages/matplotlib/axis.py\u001b[0m in \u001b[0;36mget_tightbbox\u001b[0;34m(self, renderer)\u001b[0m\n\u001b[1;32m   1184\u001b[0m             \u001b[0;32mreturn\u001b[0m\u001b[0;34m\u001b[0m\u001b[0;34m\u001b[0m\u001b[0m\n\u001b[1;32m   1185\u001b[0m \u001b[0;34m\u001b[0m\u001b[0m\n\u001b[0;32m-> 1186\u001b[0;31m         \u001b[0mticks_to_draw\u001b[0m \u001b[0;34m=\u001b[0m \u001b[0mself\u001b[0m\u001b[0;34m.\u001b[0m\u001b[0m_update_ticks\u001b[0m\u001b[0;34m(\u001b[0m\u001b[0;34m)\u001b[0m\u001b[0;34m\u001b[0m\u001b[0;34m\u001b[0m\u001b[0m\n\u001b[0m\u001b[1;32m   1187\u001b[0m \u001b[0;34m\u001b[0m\u001b[0m\n\u001b[1;32m   1188\u001b[0m         \u001b[0mself\u001b[0m\u001b[0;34m.\u001b[0m\u001b[0m_update_label_position\u001b[0m\u001b[0;34m(\u001b[0m\u001b[0mrenderer\u001b[0m\u001b[0;34m)\u001b[0m\u001b[0;34m\u001b[0m\u001b[0;34m\u001b[0m\u001b[0m\n",
            "\u001b[0;32m/usr/local/lib/python3.7/dist-packages/matplotlib/axis.py\u001b[0m in \u001b[0;36m_update_ticks\u001b[0;34m(self)\u001b[0m\n\u001b[1;32m   1103\u001b[0m         \u001b[0mmajor_locs\u001b[0m \u001b[0;34m=\u001b[0m \u001b[0mself\u001b[0m\u001b[0;34m.\u001b[0m\u001b[0mget_majorticklocs\u001b[0m\u001b[0;34m(\u001b[0m\u001b[0;34m)\u001b[0m\u001b[0;34m\u001b[0m\u001b[0;34m\u001b[0m\u001b[0m\n\u001b[1;32m   1104\u001b[0m         \u001b[0mmajor_labels\u001b[0m \u001b[0;34m=\u001b[0m \u001b[0mself\u001b[0m\u001b[0;34m.\u001b[0m\u001b[0mmajor\u001b[0m\u001b[0;34m.\u001b[0m\u001b[0mformatter\u001b[0m\u001b[0;34m.\u001b[0m\u001b[0mformat_ticks\u001b[0m\u001b[0;34m(\u001b[0m\u001b[0mmajor_locs\u001b[0m\u001b[0;34m)\u001b[0m\u001b[0;34m\u001b[0m\u001b[0;34m\u001b[0m\u001b[0m\n\u001b[0;32m-> 1105\u001b[0;31m         \u001b[0mmajor_ticks\u001b[0m \u001b[0;34m=\u001b[0m \u001b[0mself\u001b[0m\u001b[0;34m.\u001b[0m\u001b[0mget_major_ticks\u001b[0m\u001b[0;34m(\u001b[0m\u001b[0mlen\u001b[0m\u001b[0;34m(\u001b[0m\u001b[0mmajor_locs\u001b[0m\u001b[0;34m)\u001b[0m\u001b[0;34m)\u001b[0m\u001b[0;34m\u001b[0m\u001b[0;34m\u001b[0m\u001b[0m\n\u001b[0m\u001b[1;32m   1106\u001b[0m         \u001b[0mself\u001b[0m\u001b[0;34m.\u001b[0m\u001b[0mmajor\u001b[0m\u001b[0;34m.\u001b[0m\u001b[0mformatter\u001b[0m\u001b[0;34m.\u001b[0m\u001b[0mset_locs\u001b[0m\u001b[0;34m(\u001b[0m\u001b[0mmajor_locs\u001b[0m\u001b[0;34m)\u001b[0m\u001b[0;34m\u001b[0m\u001b[0;34m\u001b[0m\u001b[0m\n\u001b[1;32m   1107\u001b[0m         \u001b[0;32mfor\u001b[0m \u001b[0mtick\u001b[0m\u001b[0;34m,\u001b[0m \u001b[0mloc\u001b[0m\u001b[0;34m,\u001b[0m \u001b[0mlabel\u001b[0m \u001b[0;32min\u001b[0m \u001b[0mzip\u001b[0m\u001b[0;34m(\u001b[0m\u001b[0mmajor_ticks\u001b[0m\u001b[0;34m,\u001b[0m \u001b[0mmajor_locs\u001b[0m\u001b[0;34m,\u001b[0m \u001b[0mmajor_labels\u001b[0m\u001b[0;34m)\u001b[0m\u001b[0;34m:\u001b[0m\u001b[0;34m\u001b[0m\u001b[0;34m\u001b[0m\u001b[0m\n",
            "\u001b[0;32m/usr/local/lib/python3.7/dist-packages/matplotlib/axis.py\u001b[0m in \u001b[0;36mget_major_ticks\u001b[0;34m(self, numticks)\u001b[0m\n\u001b[1;32m   1433\u001b[0m         \u001b[0;32mwhile\u001b[0m \u001b[0mlen\u001b[0m\u001b[0;34m(\u001b[0m\u001b[0mself\u001b[0m\u001b[0;34m.\u001b[0m\u001b[0mmajorTicks\u001b[0m\u001b[0;34m)\u001b[0m \u001b[0;34m<\u001b[0m \u001b[0mnumticks\u001b[0m\u001b[0;34m:\u001b[0m\u001b[0;34m\u001b[0m\u001b[0;34m\u001b[0m\u001b[0m\n\u001b[1;32m   1434\u001b[0m             \u001b[0;31m# Update the new tick label properties from the old.\u001b[0m\u001b[0;34m\u001b[0m\u001b[0;34m\u001b[0m\u001b[0;34m\u001b[0m\u001b[0m\n\u001b[0;32m-> 1435\u001b[0;31m             \u001b[0mtick\u001b[0m \u001b[0;34m=\u001b[0m \u001b[0mself\u001b[0m\u001b[0;34m.\u001b[0m\u001b[0m_get_tick\u001b[0m\u001b[0;34m(\u001b[0m\u001b[0mmajor\u001b[0m\u001b[0;34m=\u001b[0m\u001b[0;32mTrue\u001b[0m\u001b[0;34m)\u001b[0m\u001b[0;34m\u001b[0m\u001b[0;34m\u001b[0m\u001b[0m\n\u001b[0m\u001b[1;32m   1436\u001b[0m             \u001b[0mself\u001b[0m\u001b[0;34m.\u001b[0m\u001b[0mmajorTicks\u001b[0m\u001b[0;34m.\u001b[0m\u001b[0mappend\u001b[0m\u001b[0;34m(\u001b[0m\u001b[0mtick\u001b[0m\u001b[0;34m)\u001b[0m\u001b[0;34m\u001b[0m\u001b[0;34m\u001b[0m\u001b[0m\n\u001b[1;32m   1437\u001b[0m             \u001b[0mtick\u001b[0m\u001b[0;34m.\u001b[0m\u001b[0mgridline\u001b[0m\u001b[0;34m.\u001b[0m\u001b[0mset_visible\u001b[0m\u001b[0;34m(\u001b[0m\u001b[0mself\u001b[0m\u001b[0;34m.\u001b[0m\u001b[0m_gridOnMajor\u001b[0m\u001b[0;34m)\u001b[0m\u001b[0;34m\u001b[0m\u001b[0;34m\u001b[0m\u001b[0m\n",
            "\u001b[0;32m/usr/local/lib/python3.7/dist-packages/matplotlib/axis.py\u001b[0m in \u001b[0;36m_get_tick\u001b[0;34m(self, major)\u001b[0m\n\u001b[1;32m   1941\u001b[0m         \u001b[0;32melse\u001b[0m\u001b[0;34m:\u001b[0m\u001b[0;34m\u001b[0m\u001b[0;34m\u001b[0m\u001b[0m\n\u001b[1;32m   1942\u001b[0m             \u001b[0mtick_kw\u001b[0m \u001b[0;34m=\u001b[0m \u001b[0mself\u001b[0m\u001b[0;34m.\u001b[0m\u001b[0m_minor_tick_kw\u001b[0m\u001b[0;34m\u001b[0m\u001b[0;34m\u001b[0m\u001b[0m\n\u001b[0;32m-> 1943\u001b[0;31m         \u001b[0;32mreturn\u001b[0m \u001b[0mXTick\u001b[0m\u001b[0;34m(\u001b[0m\u001b[0mself\u001b[0m\u001b[0;34m.\u001b[0m\u001b[0maxes\u001b[0m\u001b[0;34m,\u001b[0m \u001b[0;36m0\u001b[0m\u001b[0;34m,\u001b[0m \u001b[0;34m''\u001b[0m\u001b[0;34m,\u001b[0m \u001b[0mmajor\u001b[0m\u001b[0;34m=\u001b[0m\u001b[0mmajor\u001b[0m\u001b[0;34m,\u001b[0m \u001b[0;34m**\u001b[0m\u001b[0mtick_kw\u001b[0m\u001b[0;34m)\u001b[0m\u001b[0;34m\u001b[0m\u001b[0;34m\u001b[0m\u001b[0m\n\u001b[0m\u001b[1;32m   1944\u001b[0m \u001b[0;34m\u001b[0m\u001b[0m\n\u001b[1;32m   1945\u001b[0m     \u001b[0;32mdef\u001b[0m \u001b[0m_get_label\u001b[0m\u001b[0;34m(\u001b[0m\u001b[0mself\u001b[0m\u001b[0;34m)\u001b[0m\u001b[0;34m:\u001b[0m\u001b[0;34m\u001b[0m\u001b[0;34m\u001b[0m\u001b[0m\n",
            "\u001b[0;32m/usr/local/lib/python3.7/dist-packages/matplotlib/axis.py\u001b[0m in \u001b[0;36m__init__\u001b[0;34m(self, axes, loc, label, size, width, color, tickdir, pad, labelsize, labelcolor, zorder, gridOn, tick1On, tick2On, label1On, label2On, major, labelrotation, grid_color, grid_linestyle, grid_linewidth, grid_alpha, **kw)\u001b[0m\n\u001b[1;32m    155\u001b[0m         \u001b[0mself\u001b[0m\u001b[0;34m.\u001b[0m\u001b[0mapply_tickdir\u001b[0m\u001b[0;34m(\u001b[0m\u001b[0mtickdir\u001b[0m\u001b[0;34m)\u001b[0m\u001b[0;34m\u001b[0m\u001b[0;34m\u001b[0m\u001b[0m\n\u001b[1;32m    156\u001b[0m \u001b[0;34m\u001b[0m\u001b[0m\n\u001b[0;32m--> 157\u001b[0;31m         \u001b[0mself\u001b[0m\u001b[0;34m.\u001b[0m\u001b[0mtick1line\u001b[0m \u001b[0;34m=\u001b[0m \u001b[0mself\u001b[0m\u001b[0;34m.\u001b[0m\u001b[0m_get_tick1line\u001b[0m\u001b[0;34m(\u001b[0m\u001b[0;34m)\u001b[0m\u001b[0;34m\u001b[0m\u001b[0;34m\u001b[0m\u001b[0m\n\u001b[0m\u001b[1;32m    158\u001b[0m         \u001b[0mself\u001b[0m\u001b[0;34m.\u001b[0m\u001b[0mtick2line\u001b[0m \u001b[0;34m=\u001b[0m \u001b[0mself\u001b[0m\u001b[0;34m.\u001b[0m\u001b[0m_get_tick2line\u001b[0m\u001b[0;34m(\u001b[0m\u001b[0;34m)\u001b[0m\u001b[0;34m\u001b[0m\u001b[0;34m\u001b[0m\u001b[0m\n\u001b[1;32m    159\u001b[0m         \u001b[0mself\u001b[0m\u001b[0;34m.\u001b[0m\u001b[0mgridline\u001b[0m \u001b[0;34m=\u001b[0m \u001b[0mself\u001b[0m\u001b[0;34m.\u001b[0m\u001b[0m_get_gridline\u001b[0m\u001b[0;34m(\u001b[0m\u001b[0;34m)\u001b[0m\u001b[0;34m\u001b[0m\u001b[0;34m\u001b[0m\u001b[0m\n",
            "\u001b[0;32m/usr/local/lib/python3.7/dist-packages/matplotlib/axis.py\u001b[0m in \u001b[0;36m_get_tick1line\u001b[0;34m(self)\u001b[0m\n\u001b[1;32m    463\u001b[0m                           \u001b[0mlinestyle\u001b[0m\u001b[0;34m=\u001b[0m\u001b[0;34m'None'\u001b[0m\u001b[0;34m,\u001b[0m \u001b[0mmarker\u001b[0m\u001b[0;34m=\u001b[0m\u001b[0mself\u001b[0m\u001b[0;34m.\u001b[0m\u001b[0m_tickmarkers\u001b[0m\u001b[0;34m[\u001b[0m\u001b[0;36m0\u001b[0m\u001b[0;34m]\u001b[0m\u001b[0;34m,\u001b[0m\u001b[0;34m\u001b[0m\u001b[0;34m\u001b[0m\u001b[0m\n\u001b[1;32m    464\u001b[0m                           \u001b[0mmarkersize\u001b[0m\u001b[0;34m=\u001b[0m\u001b[0mself\u001b[0m\u001b[0;34m.\u001b[0m\u001b[0m_size\u001b[0m\u001b[0;34m,\u001b[0m\u001b[0;34m\u001b[0m\u001b[0;34m\u001b[0m\u001b[0m\n\u001b[0;32m--> 465\u001b[0;31m                           markeredgewidth=self._width, zorder=self._zorder)\n\u001b[0m\u001b[1;32m    466\u001b[0m         \u001b[0ml\u001b[0m\u001b[0;34m.\u001b[0m\u001b[0mset_transform\u001b[0m\u001b[0;34m(\u001b[0m\u001b[0mself\u001b[0m\u001b[0;34m.\u001b[0m\u001b[0maxes\u001b[0m\u001b[0;34m.\u001b[0m\u001b[0mget_xaxis_transform\u001b[0m\u001b[0;34m(\u001b[0m\u001b[0mwhich\u001b[0m\u001b[0;34m=\u001b[0m\u001b[0;34m'tick1'\u001b[0m\u001b[0;34m)\u001b[0m\u001b[0;34m)\u001b[0m\u001b[0;34m\u001b[0m\u001b[0;34m\u001b[0m\u001b[0m\n\u001b[1;32m    467\u001b[0m         \u001b[0mself\u001b[0m\u001b[0;34m.\u001b[0m\u001b[0m_set_artist_props\u001b[0m\u001b[0;34m(\u001b[0m\u001b[0ml\u001b[0m\u001b[0;34m)\u001b[0m\u001b[0;34m\u001b[0m\u001b[0;34m\u001b[0m\u001b[0m\n",
            "\u001b[0;32m/usr/local/lib/python3.7/dist-packages/matplotlib/lines.py\u001b[0m in \u001b[0;36m__init__\u001b[0;34m(self, xdata, ydata, linewidth, linestyle, color, marker, markersize, markeredgewidth, markeredgecolor, markerfacecolor, markerfacecoloralt, fillstyle, antialiased, dash_capstyle, solid_capstyle, dash_joinstyle, solid_joinstyle, pickradius, drawstyle, markevery, **kwargs)\u001b[0m\n\u001b[1;32m    404\u001b[0m             \u001b[0mself\u001b[0m\u001b[0;34m.\u001b[0m\u001b[0mpickradius\u001b[0m \u001b[0;34m=\u001b[0m \u001b[0mself\u001b[0m\u001b[0;34m.\u001b[0m\u001b[0m_picker\u001b[0m\u001b[0;34m\u001b[0m\u001b[0;34m\u001b[0m\u001b[0m\n\u001b[1;32m    405\u001b[0m \u001b[0;34m\u001b[0m\u001b[0m\n\u001b[0;32m--> 406\u001b[0;31m         \u001b[0mself\u001b[0m\u001b[0;34m.\u001b[0m\u001b[0m_xorig\u001b[0m \u001b[0;34m=\u001b[0m \u001b[0mnp\u001b[0m\u001b[0;34m.\u001b[0m\u001b[0masarray\u001b[0m\u001b[0;34m(\u001b[0m\u001b[0;34m[\u001b[0m\u001b[0;34m]\u001b[0m\u001b[0;34m)\u001b[0m\u001b[0;34m\u001b[0m\u001b[0;34m\u001b[0m\u001b[0m\n\u001b[0m\u001b[1;32m    407\u001b[0m         \u001b[0mself\u001b[0m\u001b[0;34m.\u001b[0m\u001b[0m_yorig\u001b[0m \u001b[0;34m=\u001b[0m \u001b[0mnp\u001b[0m\u001b[0;34m.\u001b[0m\u001b[0masarray\u001b[0m\u001b[0;34m(\u001b[0m\u001b[0;34m[\u001b[0m\u001b[0;34m]\u001b[0m\u001b[0;34m)\u001b[0m\u001b[0;34m\u001b[0m\u001b[0;34m\u001b[0m\u001b[0m\n\u001b[1;32m    408\u001b[0m         \u001b[0mself\u001b[0m\u001b[0;34m.\u001b[0m\u001b[0m_invalidx\u001b[0m \u001b[0;34m=\u001b[0m \u001b[0;32mTrue\u001b[0m\u001b[0;34m\u001b[0m\u001b[0;34m\u001b[0m\u001b[0m\n",
            "\u001b[0;32m/usr/local/lib/python3.7/dist-packages/numpy/core/_asarray.py\u001b[0m in \u001b[0;36masarray\u001b[0;34m(a, dtype, order)\u001b[0m\n\u001b[1;32m     81\u001b[0m \u001b[0;34m\u001b[0m\u001b[0m\n\u001b[1;32m     82\u001b[0m     \"\"\"\n\u001b[0;32m---> 83\u001b[0;31m     \u001b[0;32mreturn\u001b[0m \u001b[0marray\u001b[0m\u001b[0;34m(\u001b[0m\u001b[0ma\u001b[0m\u001b[0;34m,\u001b[0m \u001b[0mdtype\u001b[0m\u001b[0;34m,\u001b[0m \u001b[0mcopy\u001b[0m\u001b[0;34m=\u001b[0m\u001b[0;32mFalse\u001b[0m\u001b[0;34m,\u001b[0m \u001b[0morder\u001b[0m\u001b[0;34m=\u001b[0m\u001b[0morder\u001b[0m\u001b[0;34m)\u001b[0m\u001b[0;34m\u001b[0m\u001b[0;34m\u001b[0m\u001b[0m\n\u001b[0m\u001b[1;32m     84\u001b[0m \u001b[0;34m\u001b[0m\u001b[0m\n\u001b[1;32m     85\u001b[0m \u001b[0;34m\u001b[0m\u001b[0m\n",
            "\u001b[0;31mKeyboardInterrupt\u001b[0m: "
          ]
        }
      ]
    },
    {
      "cell_type": "code",
      "metadata": {
        "colab": {
          "base_uri": "https://localhost:8080/",
          "height": 435
        },
        "id": "BpQ2ShOXUd-X",
        "outputId": "f95833f4-52a6-4cf0-cfda-bd05c2f9a439"
      },
      "source": [
        "import missingno\r\n",
        "missingno.matrix(df, figsize = (30,10))"
      ],
      "execution_count": 4,
      "outputs": [
        {
          "output_type": "execute_result",
          "data": {
            "text/plain": [
              "<matplotlib.axes._subplots.AxesSubplot at 0x7fbc9ec37590>"
            ]
          },
          "metadata": {
            "tags": []
          },
          "execution_count": 4
        },
        {
          "output_type": "display_data",
          "data": {
            "image/png": "[encoded data removed]",
            "text/plain": [
              "<Figure size 2160x720 with 2 Axes>"
            ]
          },
          "metadata": {
            "tags": [],
            "needs_background": "light"
          }
        }
      ]
    },
    {
      "cell_type": "markdown",
      "metadata": {
        "id": "nqud-Qssw96q"
      },
      "source": [
        "## Checking for percentage (%) of missing values"
      ]
    },
    {
      "cell_type": "code",
      "metadata": {
        "colab": {
          "base_uri": "https://localhost:8080/",
          "height": 407
        },
        "id": "JKTHgrZ-YLEB",
        "outputId": "de4adb5c-c3f9-45de-b76c-5bd2e1a06979"
      },
      "source": [
        "nulls = {}\r\n",
        "\r\n",
        "for col in df.columns:\r\n",
        "    nulls[col] = (1-(len(df[df[col].isna()][col]) / df.shape[0]))\r\n",
        "\r\n",
        "labels = []\r\n",
        "vals = []\r\n",
        "\r\n",
        "for k, v in nulls.items():\r\n",
        "    if v < 1.0:\r\n",
        "        labels.append(k)\r\n",
        "        vals.append(v)\r\n",
        "\r\n",
        "_, ax = plt.subplots(figsize=(12,5))\r\n",
        "\r\n",
        "sns.barplot(y=vals, x=labels, color='lightskyblue')\r\n",
        "ax.set_xticklabels(labels=labels, rotation=45)\r\n",
        "plt.title('% non-null values by columns')\r\n",
        "ax.set_xlabel('columns')\r\n",
        "ax.set_ylabel('%')\r\n",
        "plt.show()"
      ],
      "execution_count": 13,
      "outputs": [
        {
          "output_type": "display_data",
          "data": {
            "image/png": "[encoded data removed]",
            "text/plain": [
              "<Figure size 864x360 with 1 Axes>"
            ]
          },
          "metadata": {
            "tags": []
          }
        }
      ]
    },
    {
      "cell_type": "code",
      "metadata": {
        "id": "TcYn16kAxFiO"
      },
      "source": [
        "# Dropped cols with more than 90% NAs > from 48 cols to 42\r\n",
        "# useless_cols = ['score_card_Desc','birthCountry','giinCode','lastUpdate','legal_Stat_desc','score_card_Desc']\r\n",
        "useless_cols = ['companyType']\r\n",
        "df = df.drop(columns=useless_cols)"
      ],
      "execution_count": 54,
      "outputs": []
    },
    {
      "cell_type": "markdown",
      "metadata": {
        "id": "4uifQbSY6k09"
      },
      "source": [
        "## Let's check each column with Nulls and how to address them"
      ]
    },
    {
      "cell_type": "code",
      "metadata": {
        "id": "MNM0v4T6zVoA"
      },
      "source": [
        "## could we predict here the missing values?!\r\n",
        "# df['profession'].value_counts()\r\n",
        "unique_prof = df['profession'].drop_duplicates()\r\n",
        "unique_prof;"
      ],
      "execution_count": 60,
      "outputs": []
    },
    {
      "cell_type": "code",
      "metadata": {
        "colab": {
          "base_uri": "https://localhost:8080/"
        },
        "id": "yC32dlqL1VAP",
        "outputId": "d799feea-c041-4b25-daac-e699f59342d6"
      },
      "source": [
        "## could we predict here the missing values?!\r\n",
        "df['GENDER'].value_counts()"
      ],
      "execution_count": 64,
      "outputs": [
        {
          "output_type": "execute_result",
          "data": {
            "text/plain": [
              "1.0    78166\n",
              "2.0    26191\n",
              "Name: GENDER, dtype: int64"
            ]
          },
          "metadata": {
            "tags": []
          },
          "execution_count": 64
        }
      ]
    },
    {
      "cell_type": "code",
      "metadata": {
        "id": "B4w2nVo92w19"
      },
      "source": [
        "# df['birthPlace']\r\n",
        "unique_birthplace = df['birthPlace'].drop_duplicates()\r\n",
        "unique_birthplace;"
      ],
      "execution_count": 67,
      "outputs": []
    },
    {
      "cell_type": "code",
      "metadata": {
        "colab": {
          "base_uri": "https://localhost:8080/"
        },
        "id": "ekOZ0BNi5CyA",
        "outputId": "33e82fc7-479c-4519-de80-4a8ae9ade1c1"
      },
      "source": [
        "#LETS TRY TO PREDICT THIS ONE\r\n",
        "# df['birthPlace']\r\n",
        "df['LEGAL_STA_CODE'].value_counts()\r\n"
      ],
      "execution_count": 80,
      "outputs": [
        {
          "output_type": "execute_result",
          "data": {
            "text/plain": [
              "1.0    191848\n",
              "2.0     18828\n",
              "3.0     10536\n",
              "4.0      1040\n",
              "Name: LEGAL_STA_CODE, dtype: int64"
            ]
          },
          "metadata": {
            "tags": []
          },
          "execution_count": 80
        }
      ]
    },
    {
      "cell_type": "code",
      "metadata": {
        "id": "EZnf7kE95BQI"
      },
      "source": [
        "#in this case because it follows a normal distribution, i think it makes sense to input the mean\r\n",
        "\r\n",
        "df['age_in_year'].value_counts();\r\n"
      ],
      "execution_count": 82,
      "outputs": []
    },
    {
      "cell_type": "code",
      "metadata": {
        "id": "dp3S0W4f5CB9"
      },
      "source": [
        ""
      ],
      "execution_count": null,
      "outputs": []
    },
    {
      "cell_type": "code",
      "metadata": {
        "colab": {
          "base_uri": "https://localhost:8080/"
        },
        "id": "qgybZLjj2qRE",
        "outputId": "f2ed903b-5477-455f-8dc3-6f83002b5c5d"
      },
      "source": [
        "## could we translate the ???\r\n",
        "df['birthPlace'].value_counts()"
      ],
      "execution_count": 65,
      "outputs": [
        {
          "output_type": "execute_result",
          "data": {
            "text/plain": [
              "????               76312\n",
              "?????              38740\n",
              "??????             29904\n",
              "???????            19465\n",
              "????????            7690\n",
              "                   ...  \n",
              "CALARASI               1\n",
              "Bucuresti              1\n",
              "KARAMAH                1\n",
              "torre del greco        1\n",
              "nagani                 1\n",
              "Name: birthPlace, Length: 1000, dtype: int64"
            ]
          },
          "metadata": {
            "tags": []
          },
          "execution_count": 65
        }
      ]
    },
    {
      "cell_type": "code",
      "metadata": {
        "id": "7ykX1jOy64JS"
      },
      "source": [
        "## change date_of_birth to date type\r\n",
        "## might be worth deleting the rest of the rows as they ar unpredictable and no mean\r\n",
        "df['dateOfBirth'] = pd.to_datetime(df['dateOfBirth'], format= '%Y-%m-%d')\r\n"
      ],
      "execution_count": 86,
      "outputs": []
    },
    {
      "cell_type": "code",
      "metadata": {
        "id": "snAhXD3t74qW"
      },
      "source": [
        "# df['nationalityOriginal']\r\n",
        "b = df['nationalityOriginal'].drop_duplicates()\r\n",
        "b;\r\n",
        "## might be worth deleting the rest of the rows as they ar unpredictable and no mean"
      ],
      "execution_count": 95,
      "outputs": []
    },
    {
      "cell_type": "code",
      "metadata": {
        "id": "TfWdZVCM86iW"
      },
      "source": [
        "# df['nationalityOriginal']\r\n",
        "c = df['residentCountry'].drop_duplicates()\r\n",
        "c;"
      ],
      "execution_count": 98,
      "outputs": []
    },
    {
      "cell_type": "code",
      "metadata": {
        "colab": {
          "base_uri": "https://localhost:8080/"
        },
        "id": "77AnvKV0YCHi",
        "outputId": "55951b26-e01f-45bc-fa02-27550767e91e"
      },
      "source": [
        "# find which columns are missing values, and how many\r\n",
        "def find_missing_values(df,columns):\r\n",
        "    missing_vals = {}\r\n",
        "    df_length = len(df)\r\n",
        "    for i in df.columns:\r\n",
        "        total_columns_values = df[i].value_counts().sum()\r\n",
        "        missing_vals[i] = df_length - total_columns_values\r\n",
        "    return missing_vals     \r\n",
        "\r\n",
        "missing_values = find_missing_values(df,columns = df.columns)\r\n",
        "missing_values"
      ],
      "execution_count": 31,
      "outputs": [
        {
          "output_type": "execute_result",
          "data": {
            "text/plain": [
              "{'CUS_CLASS': 0,\n",
              " 'ECO_SEC': 0,\n",
              " 'GENDER': 120511,\n",
              " 'IsBlackListed': 0,\n",
              " 'LEGAL_STA_CODE': 2616,\n",
              " 'Risk_Description': 0,\n",
              " 'TYPE_OF_DEP': 0,\n",
              " 'accountCurrency': 0,\n",
              " 'age_in_year': 4715,\n",
              " 'avg_cash_deposit_90_days': 0,\n",
              " 'avg_last_10_days': 0,\n",
              " 'avg_last_30_days': 0,\n",
              " 'avg_last_90_days': 0,\n",
              " 'avg_of_cash_wd_90_days': 0,\n",
              " 'avg_of_dep_90_days': 0,\n",
              " 'avg_of_wd_90_days': 0,\n",
              " 'birthCountry': 224868,\n",
              " 'birthPlace': 21842,\n",
              " 'branchCode': 0,\n",
              " 'companyType': 110294,\n",
              " 'creationDate': 0,\n",
              " 'creationDate_indays': 0,\n",
              " 'customerId': 0,\n",
              " 'customerType': 0,\n",
              " 'dateOfBirth': 4715,\n",
              " 'date_of_assessment': 0,\n",
              " 'extraNationality': 223075,\n",
              " 'fullaccount': 0,\n",
              " 'giinCode': 224856,\n",
              " 'jointAccount': 0,\n",
              " 'lastUpdate': 224868,\n",
              " 'ledgerCode': 0,\n",
              " 'legal_Stat_desc': 224868,\n",
              " 'nationalityOriginal': 3439,\n",
              " 'number_of_cash_dep_90_days': 0,\n",
              " 'number_of_cash_wd_90_days': 0,\n",
              " 'number_of_deposit_90_days': 0,\n",
              " 'number_of_wd_90_days': 0,\n",
              " 'onboarding': 0,\n",
              " 'org_code': 0,\n",
              " 'profession': 145120,\n",
              " 'rbaGradeAbrv': 0,\n",
              " 'rbaValue': 0,\n",
              " 'residentCountry': 596,\n",
              " 'residentStatus': 0,\n",
              " 'score_card': 0,\n",
              " 'score_card_Desc': 224868,\n",
              " 'status': 0}"
            ]
          },
          "metadata": {
            "tags": []
          },
          "execution_count": 31
        }
      ]
    },
    {
      "cell_type": "code",
      "metadata": {
        "colab": {
          "base_uri": "https://localhost:8080/"
        },
        "id": "O4r0l0OPZbtM",
        "outputId": "df2214a8-2a7f-4a10-ed78-c8b3b5d33784"
      },
      "source": [
        "type(missing_values)"
      ],
      "execution_count": 16,
      "outputs": [
        {
          "output_type": "execute_result",
          "data": {
            "text/plain": [
              "dict"
            ]
          },
          "metadata": {
            "tags": []
          },
          "execution_count": 16
        }
      ]
    },
    {
      "cell_type": "code",
      "metadata": {
        "colab": {
          "base_uri": "https://localhost:8080/"
        },
        "id": "vukyEFEeZuWJ",
        "outputId": "54cace6e-d8f3-4350-dd50-e58dc1716113"
      },
      "source": [
        "\r\n",
        "# list of columns wil nulls\r\n",
        "null_cols = [k for k,v in missing_values.items() if v > 0]\r\n",
        "null_cols"
      ],
      "execution_count": 28,
      "outputs": [
        {
          "output_type": "execute_result",
          "data": {
            "text/plain": [
              "['residentCountry',\n",
              " 'nationalityOriginal',\n",
              " 'extraNationality',\n",
              " 'dateOfBirth',\n",
              " 'age_in_year',\n",
              " 'birthCountry',\n",
              " 'birthPlace',\n",
              " 'profession',\n",
              " 'companyType',\n",
              " 'giinCode',\n",
              " 'lastUpdate',\n",
              " 'GENDER',\n",
              " 'LEGAL_STA_CODE',\n",
              " 'legal_Stat_desc',\n",
              " 'score_card_Desc']"
            ]
          },
          "metadata": {
            "tags": []
          },
          "execution_count": 28
        }
      ]
    },
    {
      "cell_type": "code",
      "metadata": {
        "id": "UoaRfFRLbh1t"
      },
      "source": [
        ""
      ],
      "execution_count": null,
      "outputs": []
    },
    {
      "cell_type": "markdown",
      "metadata": {
        "id": "RImAkoOBb0xO"
      },
      "source": [
        "## We will split columns according to their data type"
      ]
    },
    {
      "cell_type": "code",
      "metadata": {
        "colab": {
          "base_uri": "https://localhost:8080/"
        },
        "id": "tafDf-UMbv-h",
        "outputId": "7a7f4ce3-3015-4706-eab3-48d942e14f41"
      },
      "source": [
        "rows, cols = df.shape\r\n",
        "print(f'Training Dataset\\n-------\\ncolumns: {cols}\\nrows: {rows}')\r\n",
        "cat_cols = df.loc[:, df.columns != 'rbaValue'].select_dtypes(include=['object']).columns\r\n",
        "num_cols = df.loc[:, df.columns != 'rbaValue'].select_dtypes(exclude=['object']).columns\r\n",
        "print(f'categorical columns: {len(cat_cols)}\\nnumeric columns: {len(num_cols)}\\n\\n=================\\n')"
      ],
      "execution_count": 32,
      "outputs": [
        {
          "output_type": "stream",
          "text": [
            "Training Dataset\n",
            "-------\n",
            "columns: 48\n",
            "rows: 224868\n",
            "categorical columns: 15\n",
            "numeric columns: 32\n",
            "\n",
            "=================\n",
            "\n"
          ],
          "name": "stdout"
        }
      ]
    },
    {
      "cell_type": "code",
      "metadata": {
        "colab": {
          "base_uri": "https://localhost:8080/"
        },
        "id": "jXG0VLNBvlkZ",
        "outputId": "d3fc876a-ec48-4889-f903-92a453e7ecbb"
      },
      "source": [
        "cat_cols"
      ],
      "execution_count": 37,
      "outputs": [
        {
          "output_type": "execute_result",
          "data": {
            "text/plain": [
              "Index(['fullaccount', 'creationDate', 'onboarding', 'residentCountry',\n",
              "       'nationalityOriginal', 'extraNationality', 'dateOfBirth', 'birthPlace',\n",
              "       'giinCode', 'status', 'accountCurrency', 'date_of_assessment',\n",
              "       'rbaGradeAbrv', 'score_card', 'Risk_Description'],\n",
              "      dtype='object')"
            ]
          },
          "metadata": {
            "tags": []
          },
          "execution_count": 37
        }
      ]
    },
    {
      "cell_type": "code",
      "metadata": {
        "id": "K0WVC3Plb0Ba"
      },
      "source": [
        ""
      ],
      "execution_count": null,
      "outputs": []
    },
    {
      "cell_type": "code",
      "metadata": {
        "id": "hRcvgM0kbnoc"
      },
      "source": [
        ""
      ],
      "execution_count": null,
      "outputs": []
    },
    {
      "cell_type": "code",
      "metadata": {
        "id": "0hpD6GzUbhzD"
      },
      "source": [
        ""
      ],
      "execution_count": null,
      "outputs": []
    },
    {
      "cell_type": "code",
      "metadata": {
        "id": "JEz4V_iKbhwb"
      },
      "source": [
        ""
      ],
      "execution_count": null,
      "outputs": []
    },
    {
      "cell_type": "code",
      "metadata": {
        "id": "3tVmYND8bht4"
      },
      "source": [
        ""
      ],
      "execution_count": null,
      "outputs": []
    },
    {
      "cell_type": "code",
      "metadata": {
        "id": "pc_i36VDbhsC"
      },
      "source": [
        ""
      ],
      "execution_count": null,
      "outputs": []
    },
    {
      "cell_type": "code",
      "metadata": {
        "id": "h7FcySsEbhp6"
      },
      "source": [
        ""
      ],
      "execution_count": null,
      "outputs": []
    },
    {
      "cell_type": "code",
      "metadata": {
        "id": "2hEXJtTHbhmY"
      },
      "source": [
        ""
      ],
      "execution_count": null,
      "outputs": []
    },
    {
      "cell_type": "code",
      "metadata": {
        "id": "HcnESqSxbhiu"
      },
      "source": [
        ""
      ],
      "execution_count": null,
      "outputs": []
    },
    {
      "cell_type": "code",
      "metadata": {
        "id": "nsPJibj9bhaQ"
      },
      "source": [
        ""
      ],
      "execution_count": null,
      "outputs": []
    },
    {
      "cell_type": "markdown",
      "metadata": {
        "id": "J_XNdK27w96r"
      },
      "source": [
        "## Making some histograms"
      ]
    },
    {
      "cell_type": "code",
      "metadata": {
        "id": "kKu-hFzPw96r",
        "colab": {
          "base_uri": "https://localhost:8080/",
          "height": 922
        },
        "outputId": "08006352-cd07-4649-a5cd-f221473c8109"
      },
      "source": [
        "%matplotlib inline\n",
        "import matplotlib.pylab as plt\n",
        "attribute_columns = list(df.columns)\n",
        "if True:\n",
        "    fontsize = 8\n",
        "    fig = df[attribute_columns].hist(bins = 20, figsize = (16, 16),\n",
        "                                       xlabelsize=fontsize,\n",
        "                                       ylabelsize=fontsize)\n",
        "    for x in fig.ravel():\n",
        "        x.title.set_size(fontsize)\n",
        "else:\n",
        "    nrows = (len(attribute_columns)+1) // 2\n",
        "    plt.figure(figsize=(12,25))\n",
        "    for i in range(len(attribute_columns)):\n",
        "        name = attribute_columns[i]\n",
        "        plt.subplot(nrows,2,i+1)\n",
        "        data[name].hist()\n",
        "        plt.title(name, fontsize=14)\n",
        "    \n",
        "plt.show()"
      ],
      "execution_count": 36,
      "outputs": [
        {
          "output_type": "display_data",
          "data": {
            "image/png": "[encoded data removed]",
            "text/plain": [
              "<Figure size 1152x1152 with 36 Axes>"
            ]
          },
          "metadata": {
            "tags": [],
            "needs_background": "light"
          }
        }
      ]
    },
    {
      "cell_type": "code",
      "metadata": {
        "id": "Qxf_I7xct155"
      },
      "source": [
        "dichotomous (0-1) = 'orgcode','customerType'.'residentStatus','isBlackListed','gender','jointAccount'\r\n",
        "continuous = 'branchCode','customerId','age_in_year','profession','companyType','ledgerCode','CUS_CLASS','ECO_SEC','TYPE_OF_DEP','number_of_cash_wd_90_days'\r\n",
        "discrete = 'LEGAL_STA_CODE'\r\n",
        "categorical = 'fullaccount', 'creationDate', 'onboarding', 'residentCountry',\r\n",
        "       'nationalityOriginal', 'extraNationality', 'dateOfBirth', 'birthPlace',\r\n",
        "       'giinCode', 'status', 'accountCurrency', 'date_of_assessment',\r\n",
        "       'rbaGradeAbrv', 'score_card', 'Risk_Description'"
      ],
      "execution_count": null,
      "outputs": []
    },
    {
      "cell_type": "markdown",
      "metadata": {
        "id": "Dbaj_Iyuw96s"
      },
      "source": [
        "### Now, is your group turn: \n",
        "..."
      ]
    },
    {
      "cell_type": "code",
      "metadata": {
        "scrolled": true,
        "id": "P80Ecmvjw96s",
        "outputId": "b166dcfd-d1b2-429e-f6fc-c22617dc6af9"
      },
      "source": [
        "df.info()"
      ],
      "execution_count": null,
      "outputs": [
        {
          "output_type": "stream",
          "text": [
            "<class 'pandas.core.frame.DataFrame'>\n",
            "RangeIndex: 224868 entries, 0 to 224867\n",
            "Data columns (total 48 columns):\n",
            " #   Column                      Non-Null Count   Dtype          \n",
            "---  ------                      --------------   -----          \n",
            " 0   org_code                    224868 non-null  int64          \n",
            " 1   branchCode                  224868 non-null  int64          \n",
            " 2   customerId                  224868 non-null  int64          \n",
            " 3   fullaccount                 224868 non-null  object         \n",
            " 4   customerType                224868 non-null  int64          \n",
            " 5   creationDate                224868 non-null  object         \n",
            " 6   onboarding                  224868 non-null  object         \n",
            " 7   residentStatus              224868 non-null  int64          \n",
            " 8   residentCountry             224272 non-null  object         \n",
            " 9   nationalityOriginal         221429 non-null  object         \n",
            " 10  extraNationality            1793 non-null    object         \n",
            " 11  dateOfBirth                 220153 non-null  object         \n",
            " 12  age_in_year                 220153 non-null  float64        \n",
            " 13  birthCountry                0 non-null       float64        \n",
            " 14  birthPlace                  203026 non-null  object         \n",
            " 15  profession                  79748 non-null   float64        \n",
            " 16  companyType                 114574 non-null  float64        \n",
            " 17  giinCode                    12 non-null      object         \n",
            " 18  lastUpdate                  0 non-null       float64        \n",
            " 19  status                      224868 non-null  object         \n",
            " 20  ledgerCode                  224868 non-null  int64          \n",
            " 21  accountCurrency             224868 non-null  object         \n",
            " 22  jointAccount                224868 non-null  int64          \n",
            " 23  IsBlackListed               224868 non-null  int64          \n",
            " 24  CUS_CLASS                   224868 non-null  int64          \n",
            " 25  ECO_SEC                     224868 non-null  int64          \n",
            " 26  TYPE_OF_DEP                 224868 non-null  int64          \n",
            " 27  GENDER                      104357 non-null  float64        \n",
            " 28  LEGAL_STA_CODE              222252 non-null  float64        \n",
            " 29  legal_Stat_desc             0 non-null       float64        \n",
            " 30  avg_last_10_days            224868 non-null  float64        \n",
            " 31  avg_last_30_days            224868 non-null  float64        \n",
            " 32  avg_last_90_days            224868 non-null  float64        \n",
            " 33  number_of_cash_dep_90_days  224868 non-null  int64          \n",
            " 34  avg_cash_deposit_90_days    224868 non-null  float64        \n",
            " 35  number_of_deposit_90_days   224868 non-null  int64          \n",
            " 36  avg_of_dep_90_days          224868 non-null  float64        \n",
            " 37  number_of_cash_wd_90_days   224868 non-null  int64          \n",
            " 38  avg_of_cash_wd_90_days      224868 non-null  float64        \n",
            " 39  number_of_wd_90_days        224868 non-null  int64          \n",
            " 40  avg_of_wd_90_days           224868 non-null  float64        \n",
            " 41  date_of_assessment          224868 non-null  object         \n",
            " 42  rbaGradeAbrv                224868 non-null  object         \n",
            " 43  score_card                  224868 non-null  object         \n",
            " 44  score_card_Desc             0 non-null       float64        \n",
            " 45  rbaValue                    224868 non-null  float64        \n",
            " 46  Risk_Description            224868 non-null  object         \n",
            " 47  creationDate_indays         224868 non-null  timedelta64[ns]\n",
            "dtypes: float64(17), int64(15), object(15), timedelta64[ns](1)\n",
            "memory usage: 82.3+ MB\n"
          ],
          "name": "stdout"
        }
      ]
    },
    {
      "cell_type": "code",
      "metadata": {
        "id": "0KpN_SUrw96t",
        "outputId": "3c053c6c-71b2-4954-b3d4-df67fff27892"
      },
      "source": [
        "for i in list(df):\n",
        "    print(df[i].value_counts())"
      ],
      "execution_count": null,
      "outputs": [
        {
          "output_type": "stream",
          "text": [
            "1    224868\n",
            "Name: org_code, dtype: int64\n",
            "202    19684\n",
            "208    15974\n",
            "704    12882\n",
            "701    11332\n",
            "805    10428\n",
            "801     9262\n",
            "502     8870\n",
            "206     8598\n",
            "207     8458\n",
            "403     7673\n",
            "501     7556\n",
            "354     7483\n",
            "209     7453\n",
            "402     7339\n",
            "702     6985\n",
            "205     6674\n",
            "401     6653\n",
            "601     6046\n",
            "351     5958\n",
            "802     5782\n",
            "302     5716\n",
            "803     5494\n",
            "356     5376\n",
            "203     5097\n",
            "204     5083\n",
            "804     4525\n",
            "357     4355\n",
            "603     4245\n",
            "404     3691\n",
            "201      196\n",
            "Name: branchCode, dtype: int64\n",
            "30205511090005696    943\n",
            "35108255290001427    723\n",
            "20702061400001087    700\n",
            "2060022929           513\n",
            "20600229290003418    513\n",
            "                    ... \n",
            "35100754940002032      1\n",
            "60300417980001162      1\n",
            "20300468800002406      1\n",
            "40300684080003153      1\n",
            "35400449070002754      1\n",
            "Name: customerId, Length: 75339, dtype: int64\n",
            "020902507770010010000    26\n",
            "020301298000011306000    23\n",
            "020301298000011930000    23\n",
            "020301298000012957000    23\n",
            "020301298000011316000    23\n",
            "                         ..\n",
            "070124003000010020000     1\n",
            "020200508700011389000     1\n",
            "040400688590010020000     1\n",
            "020401305390011308000     1\n",
            "020200929200010010000     1\n",
            "Name: fullaccount, Length: 220434, dtype: int64\n",
            "1    199139\n",
            "2     25729\n",
            "Name: customerType, dtype: int64\n",
            "2013-11-20    1079\n",
            "1994-05-18     951\n",
            "2014-12-31     889\n",
            "2010-07-28     714\n",
            "2016-08-04     600\n",
            "              ... \n",
            "1989-08-28       1\n",
            "1999-10-21       1\n",
            "1995-04-29       1\n",
            "1985-04-23       1\n",
            "1985-03-23       1\n",
            "Name: creationDate, Length: 7041, dtype: int64\n",
            "N    219791\n",
            "Y      5077\n",
            "Name: onboarding, dtype: int64\n",
            "1    220096\n",
            "2      4772\n",
            "Name: residentStatus, dtype: int64\n",
            "JO    219253\n",
            "OM       985\n",
            "IQ       981\n",
            "SA       657\n",
            "US       358\n",
            "       ...  \n",
            "BG         2\n",
            "AF         1\n",
            "LR         1\n",
            "SO         1\n",
            "NG         1\n",
            "Name: residentCountry, Length: 62, dtype: int64\n",
            "JO    213141\n",
            "IQ      3206\n",
            "EG      1349\n",
            "SY      1215\n",
            "LY       433\n",
            "       ...  \n",
            "KP         1\n",
            "SO         1\n",
            "TH         1\n",
            "BG         1\n",
            "IO         1\n",
            "Name: nationalityOriginal, Length: 67, dtype: int64\n",
            "US    1028\n",
            "XK     435\n",
            "CA      45\n",
            "GB      42\n",
            "JO      34\n",
            "CO      20\n",
            "AU      17\n",
            "FR      15\n",
            "BA      15\n",
            "IQ      14\n",
            "EG      14\n",
            "IT      12\n",
            "SE      12\n",
            "UA      11\n",
            "RO      10\n",
            "ES       8\n",
            "TR       6\n",
            "PL       5\n",
            "GR       5\n",
            "CH       5\n",
            "SA       4\n",
            "NL       4\n",
            "BG       4\n",
            "BR       4\n",
            "LY       3\n",
            "SY       3\n",
            "CL       3\n",
            "BH       3\n",
            "NO       3\n",
            "CY       3\n",
            "RU       2\n",
            "BE       1\n",
            "IO       1\n",
            "VE       1\n",
            "LB       1\n",
            "Name: extraNationality, dtype: int64\n",
            "1992-07-22    1035\n",
            "1994-05-16     944\n",
            "1996-06-15     727\n",
            "1973-06-13     710\n",
            "1946-01-01     541\n",
            "              ... \n",
            "1997-01-05       1\n",
            "2007-07-31       1\n",
            "2005-09-22       1\n",
            "1952-10-18       1\n",
            "2016-11-03       1\n",
            "Name: dateOfBirth, Length: 21457, dtype: int64\n",
            "36.0     6064\n",
            "38.0     6027\n",
            "40.0     5788\n",
            "39.0     5714\n",
            "35.0     5627\n",
            "         ... \n",
            "108.0       1\n",
            "102.0       1\n",
            "97.0        1\n",
            "100.0       1\n",
            "99.0        1\n",
            "Name: age_in_year, Length: 106, dtype: int64\n",
            "Series([], Name: birthCountry, dtype: int64)\n",
            "????                76312\n",
            "?????               38740\n",
            "??????              29904\n",
            "???????             19465\n",
            "????????             7690\n",
            "                    ...  \n",
            "LAKSHMIPUR              1\n",
            "SEOUL KOREA             1\n",
            "amos can                1\n",
            "???????/??? ????        1\n",
            "????? -?????            1\n",
            "Name: birthPlace, Length: 1000, dtype: int64\n",
            "20.0    30334\n",
            "21.0    13155\n",
            "25.0     6987\n",
            "23.0     4571\n",
            "10.0     4100\n",
            "3.0      3468\n",
            "17.0     2919\n",
            "2.0      2078\n",
            "26.0     1708\n",
            "15.0     1620\n",
            "1.0      1278\n",
            "27.0     1071\n",
            "8.0      1028\n",
            "29.0      967\n",
            "22.0      940\n",
            "4.0       674\n",
            "5.0       658\n",
            "9.0       464\n",
            "11.0      427\n",
            "24.0      308\n",
            "12.0      273\n",
            "6.0       142\n",
            "7.0       126\n",
            "28.0      125\n",
            "16.0      125\n",
            "18.0       84\n",
            "13.0       50\n",
            "14.0       32\n",
            "33.0       17\n",
            "19.0       14\n",
            "31.0        3\n",
            "39.0        2\n",
            "Name: profession, dtype: int64\n",
            "51.0     89314\n",
            "54.0     10041\n",
            "52.0      6150\n",
            "37.0      3830\n",
            "35.0      1151\n",
            "53.0      1011\n",
            "1.0        955\n",
            "36.0       819\n",
            "15.0       419\n",
            "14.0       251\n",
            "64.0        81\n",
            "4.0         67\n",
            "17.0        63\n",
            "2.0         51\n",
            "5.0         47\n",
            "58.0        45\n",
            "50.0        33\n",
            "13.0        31\n",
            "6.0         26\n",
            "56.0        26\n",
            "57.0        25\n",
            "100.0       22\n",
            "16.0        20\n",
            "10.0        16\n",
            "11.0        15\n",
            "7.0         12\n",
            "49.0        11\n",
            "55.0        10\n",
            "3.0         10\n",
            "60.0         9\n",
            "12.0         7\n",
            "46.0         4\n",
            "61.0         2\n",
            "Name: companyType, dtype: int64\n",
            "ZLVK2E.99999.SL.400    12\n",
            "Name: giinCode, dtype: int64\n",
            "Series([], Name: lastUpdate, dtype: int64)\n",
            "Active    224868\n",
            "Name: status, dtype: int64\n",
            "10      49473\n",
            "60      45284\n",
            "1355    16839\n",
            "1389     9480\n",
            "20       9218\n",
            "        ...  \n",
            "1354        1\n",
            "1371        1\n",
            "2906        1\n",
            "2971        1\n",
            "8700        1\n",
            "Name: ledgerCode, Length: 227, dtype: int64\n",
            "JOD    214657\n",
            "USD      8478\n",
            "EUR      1079\n",
            "GBP       254\n",
            "AED        93\n",
            "CAD        81\n",
            "SAR        60\n",
            "JPY        41\n",
            "CHF        40\n",
            "AUD        37\n",
            "XAG        15\n",
            "XAU        11\n",
            "SEK         9\n",
            "QAR         4\n",
            "NZD         3\n",
            "DKK         2\n",
            "ESP         1\n",
            "LBP         1\n",
            "KWD         1\n",
            "BHD         1\n",
            "Name: accountCurrency, dtype: int64\n",
            "0    219999\n",
            "1      4869\n",
            "Name: jointAccount, dtype: int64\n",
            "0    224868\n",
            "Name: IsBlackListed, dtype: int64\n",
            "2     158856\n",
            "15     28020\n",
            "4      20526\n",
            "1      10740\n",
            "3       4605\n",
            "0       1858\n",
            "6        228\n",
            "5         22\n",
            "51        10\n",
            "7          3\n",
            "Name: CUS_CLASS, dtype: int64\n",
            "90     199270\n",
            "99       1718\n",
            "51       1583\n",
            "42       1527\n",
            "40       1492\n",
            "        ...  \n",
            "305         1\n",
            "287         1\n",
            "226         1\n",
            "138         1\n",
            "349         1\n",
            "Name: ECO_SEC, Length: 206, dtype: int64\n",
            "20     98819\n",
            "51     89314\n",
            "54     10041\n",
            "52      6150\n",
            "28      5578\n",
            "23      3910\n",
            "37      3830\n",
            "35      1151\n",
            "53      1011\n",
            "1        955\n",
            "36       819\n",
            "22       510\n",
            "15       419\n",
            "32       321\n",
            "14       251\n",
            "29       189\n",
            "24       189\n",
            "25       177\n",
            "26       168\n",
            "0        161\n",
            "27       109\n",
            "64        81\n",
            "4         67\n",
            "17        63\n",
            "2         51\n",
            "31        47\n",
            "5         47\n",
            "58        45\n",
            "21        42\n",
            "50        33\n",
            "13        31\n",
            "56        26\n",
            "6         26\n",
            "30        25\n",
            "57        25\n",
            "100       22\n",
            "16        20\n",
            "99        17\n",
            "63        16\n",
            "10        16\n",
            "11        15\n",
            "7         12\n",
            "49        11\n",
            "55        10\n",
            "3         10\n",
            "40        10\n",
            "60         9\n",
            "12         7\n",
            "90         6\n",
            "46         4\n",
            "61         2\n",
            "Name: TYPE_OF_DEP, dtype: int64\n",
            "1.0    78166\n",
            "2.0    26191\n",
            "Name: GENDER, dtype: int64\n",
            "1.0    191848\n",
            "2.0     18828\n",
            "3.0     10536\n",
            "4.0      1040\n",
            "Name: LEGAL_STA_CODE, dtype: int64\n",
            "Series([], Name: legal_Stat_desc, dtype: int64)\n",
            " 0.00         94127\n",
            " 820.00        1207\n",
            " 1640.00        375\n",
            "-15.00          335\n",
            " 1230.00        234\n",
            "              ...  \n",
            "-210.79           1\n",
            "-102212.29        1\n",
            " 498.74           1\n",
            " 719.33           1\n",
            " 13691.36         1\n",
            "Name: avg_last_10_days, Length: 106519, dtype: int64\n",
            " 0.00        95736\n",
            " 206.67       1211\n",
            " 413.33        375\n",
            "-5.00          345\n",
            " 310.00        232\n",
            "             ...  \n",
            " 22031.61        1\n",
            " 119.10          1\n",
            "-14.70           1\n",
            " 515.43          1\n",
            "-32726.79        1\n",
            "Name: avg_last_30_days, Length: 94287, dtype: int64\n",
            " 0.00      114028\n",
            " 0.01        2335\n",
            " 0.02        1796\n",
            " 2.22        1464\n",
            " 0.03         940\n",
            "            ...  \n",
            "-399.69         1\n",
            "-796.62         1\n",
            "-64.76          1\n",
            "-266.60         1\n",
            " 190.47         1\n",
            "Name: avg_last_90_days, Length: 37665, dtype: int64\n",
            "0      200841\n",
            "1       10433\n",
            "2        4411\n",
            "3        3088\n",
            "4        1757\n",
            "        ...  \n",
            "193         1\n",
            "68          1\n",
            "198         1\n",
            "199         1\n",
            "180         1\n",
            "Name: number_of_cash_dep_90_days, Length: 151, dtype: int64\n",
            " 0.000        200841\n",
            "-100.000        1041\n",
            "-200.000         670\n",
            "-500.000         621\n",
            "-50.000          531\n",
            "               ...  \n",
            "-7.227             1\n",
            "-2641.000          1\n",
            "-86940.000         1\n",
            "-1832.750          1\n",
            "-20266.000         1\n",
            "Name: avg_cash_deposit_90_days, Length: 5780, dtype: int64\n",
            "0       194594\n",
            "1        10952\n",
            "2         5039\n",
            "3         4298\n",
            "4         2774\n",
            "         ...  \n",
            "112          1\n",
            "415          1\n",
            "448          1\n",
            "160          1\n",
            "1151         1\n",
            "Name: number_of_deposit_90_days, Length: 293, dtype: int64\n",
            " 0.000        194845\n",
            "-100.000         996\n",
            "-200.000         655\n",
            "-500.000         598\n",
            "-1000.000        505\n",
            "               ...  \n",
            "-6573.450          1\n",
            "-25696.000         1\n",
            "-2426.898          1\n",
            "-3390.134          1\n",
            "-81560.000         1\n",
            "Name: avg_of_dep_90_days, Length: 11215, dtype: int64\n",
            "0     203531\n",
            "1       9376\n",
            "2       3693\n",
            "3       3163\n",
            "4       2283\n",
            "5        913\n",
            "6        561\n",
            "7        492\n",
            "8        256\n",
            "9        141\n",
            "10        94\n",
            "11        70\n",
            "12        53\n",
            "13        47\n",
            "15        31\n",
            "14        27\n",
            "16        22\n",
            "17        17\n",
            "20        12\n",
            "24        10\n",
            "23        10\n",
            "21        10\n",
            "19         8\n",
            "27         7\n",
            "28         5\n",
            "26         5\n",
            "18         5\n",
            "25         4\n",
            "22         2\n",
            "29         2\n",
            "42         2\n",
            "43         2\n",
            "58         2\n",
            "65         1\n",
            "30         1\n",
            "31         1\n",
            "32         1\n",
            "34         1\n",
            "37         1\n",
            "40         1\n",
            "48         1\n",
            "54         1\n",
            "55         1\n",
            "56         1\n",
            "78         1\n",
            "Name: number_of_cash_wd_90_days, dtype: int64\n",
            "0.000        203531\n",
            "100.000         712\n",
            "200.000         411\n",
            "500.000         342\n",
            "300.000         336\n",
            "              ...  \n",
            "3.889             1\n",
            "985.692           1\n",
            "3945.000          1\n",
            "77117.028         1\n",
            "1290.500          1\n",
            "Name: avg_of_cash_wd_90_days, Length: 5348, dtype: int64\n",
            "0      199578\n",
            "1        9224\n",
            "2        3837\n",
            "3        3455\n",
            "4        2537\n",
            "        ...  \n",
            "477         1\n",
            "169         1\n",
            "170         1\n",
            "171         1\n",
            "733         1\n",
            "Name: number_of_wd_90_days, Length: 259, dtype: int64\n",
            "0.000         199578\n",
            "100.000          710\n",
            "200.000          395\n",
            "300.000          346\n",
            "500.000          342\n",
            "               ...  \n",
            "1321.947           1\n",
            "293.563            1\n",
            "29497.000          1\n",
            "340895.000         1\n",
            "20321.000          1\n",
            "Name: avg_of_wd_90_days, Length: 8674, dtype: int64\n",
            "2019-01-24    224868\n",
            "Name: date_of_assessment, dtype: int64\n",
            "L    159680\n",
            "M     65099\n",
            "H        89\n",
            "Name: rbaGradeAbrv, dtype: int64\n",
            "I-Existing    178495\n",
            "E-Existing     25114\n",
            "I-New          20649\n",
            "E-NEW            610\n",
            "Name: score_card, dtype: int64\n",
            "Series([], Name: score_card_Desc, dtype: int64)\n",
            "16.53    29341\n",
            "14.53    25608\n",
            "5.33     10844\n",
            "7.33      9787\n",
            "15.28     7648\n",
            "         ...  \n",
            "46.05        1\n",
            "41.44        1\n",
            "25.03        1\n",
            "50.05        1\n",
            "20.64        1\n",
            "Name: rbaValue, Length: 692, dtype: int64\n",
            "Low       159680\n",
            "Medium     65099\n",
            "High          89\n",
            "Name: Risk_Description, dtype: int64\n",
            "1796 days     1079\n",
            "8922 days      951\n",
            "1390 days      889\n",
            "3007 days      714\n",
            "808 days       600\n",
            "              ... \n",
            "12155 days       1\n",
            "10487 days       1\n",
            "3338 days        1\n",
            "9034 days        1\n",
            "7291 days        1\n",
            "Name: creationDate_indays, Length: 7041, dtype: int64\n",
            "0    224868\n",
            "Name: age, dtype: int64\n"
          ],
          "name": "stdout"
        }
      ]
    },
    {
      "cell_type": "markdown",
      "metadata": {
        "id": "cAwuRfYOw96t"
      },
      "source": [
        "---"
      ]
    },
    {
      "cell_type": "code",
      "metadata": {
        "id": "Dg7L13inw96t"
      },
      "source": [
        "import matplotlib.pyplot as plt\n",
        "import seaborn as sns\n",
        "%matplotlib inline"
      ],
      "execution_count": null,
      "outputs": []
    },
    {
      "cell_type": "code",
      "metadata": {
        "id": "gcSvDeLTw96u"
      },
      "source": [
        "missing = (df.isnull().sum()/df.isnull().count()*100).sort_values(ascending = False)"
      ],
      "execution_count": null,
      "outputs": []
    },
    {
      "cell_type": "code",
      "metadata": {
        "id": "iGbJdZT1w96u",
        "outputId": "450c0170-624c-459e-8971-2d0d0625d2d7"
      },
      "source": [
        "plt.figure(figsize=(10,10))\n",
        "sns.barplot(missing.index,missing)\n",
        "plt.xticks(rotation=90);"
      ],
      "execution_count": null,
      "outputs": [
        {
          "output_type": "stream",
          "text": [
            "C:\\Users\\nunom\\anaconda3\\lib\\site-packages\\seaborn\\_decorators.py:36: FutureWarning: Pass the following variables as keyword args: x, y. From version 0.12, the only valid positional argument will be `data`, and passing other arguments without an explicit keyword will result in an error or misinterpretation.\n",
            "  warnings.warn(\n"
          ],
          "name": "stderr"
        },
        {
          "output_type": "display_data",
          "data": {
            "image/png": "[encoded data removed]",
            "text/plain": [
              "<Figure size 720x720 with 1 Axes>"
            ]
          },
          "metadata": {
            "tags": [],
            "needs_background": "light"
          }
        }
      ]
    },
    {
      "cell_type": "markdown",
      "metadata": {
        "id": "3lTFjb3Ew96u"
      },
      "source": [
        "### 1. Drop **org_code** since it only has 1 distinct value\n"
      ]
    },
    {
      "cell_type": "code",
      "metadata": {
        "id": "o01c7VwNw96v",
        "outputId": "ca748c2c-be1f-440a-a3e2-7ddeab185c20"
      },
      "source": [
        "df.drop(['org_code'], axis = 1)"
      ],
      "execution_count": null,
      "outputs": [
        {
          "output_type": "execute_result",
          "data": {
            "text/html": [
              "<div>\n",
              "<style scoped>\n",
              "    .dataframe tbody tr th:only-of-type {\n",
              "        vertical-align: middle;\n",
              "    }\n",
              "\n",
              "    .dataframe tbody tr th {\n",
              "        vertical-align: top;\n",
              "    }\n",
              "\n",
              "    .dataframe thead th {\n",
              "        text-align: right;\n",
              "    }\n",
              "</style>\n",
              "<table border=\"1\" class=\"dataframe\">\n",
              "  <thead>\n",
              "    <tr style=\"text-align: right;\">\n",
              "      <th></th>\n",
              "      <th>branchCode</th>\n",
              "      <th>customerId</th>\n",
              "      <th>fullaccount</th>\n",
              "      <th>customerType</th>\n",
              "      <th>creationDate</th>\n",
              "      <th>onboarding</th>\n",
              "      <th>residentStatus</th>\n",
              "      <th>residentCountry</th>\n",
              "      <th>nationalityOriginal</th>\n",
              "      <th>extraNationality</th>\n",
              "      <th>...</th>\n",
              "      <th>number_of_wd_90_days</th>\n",
              "      <th>avg_of_wd_90_days</th>\n",
              "      <th>date_of_assessment</th>\n",
              "      <th>rbaGradeAbrv</th>\n",
              "      <th>score_card</th>\n",
              "      <th>score_card_Desc</th>\n",
              "      <th>rbaValue</th>\n",
              "      <th>Risk_Description</th>\n",
              "      <th>creationDate_indays</th>\n",
              "      <th>age</th>\n",
              "    </tr>\n",
              "  </thead>\n",
              "  <tbody>\n",
              "    <tr>\n",
              "      <th>0</th>\n",
              "      <td>201</td>\n",
              "      <td>20100400550000072</td>\n",
              "      <td>020100400550015817000</td>\n",
              "      <td>2</td>\n",
              "      <td>2015-04-05</td>\n",
              "      <td>N</td>\n",
              "      <td>1</td>\n",
              "      <td>JO</td>\n",
              "      <td>JO</td>\n",
              "      <td>NaN</td>\n",
              "      <td>...</td>\n",
              "      <td>0</td>\n",
              "      <td>0.0</td>\n",
              "      <td>2019-01-24</td>\n",
              "      <td>L</td>\n",
              "      <td>E-Existing</td>\n",
              "      <td>NaN</td>\n",
              "      <td>13.20</td>\n",
              "      <td>Low</td>\n",
              "      <td>1295 days</td>\n",
              "      <td>0</td>\n",
              "    </tr>\n",
              "    <tr>\n",
              "      <th>1</th>\n",
              "      <td>202</td>\n",
              "      <td>20200207860000638</td>\n",
              "      <td>020200207860011330000</td>\n",
              "      <td>1</td>\n",
              "      <td>2013-09-17</td>\n",
              "      <td>N</td>\n",
              "      <td>1</td>\n",
              "      <td>JO</td>\n",
              "      <td>JO</td>\n",
              "      <td>NaN</td>\n",
              "      <td>...</td>\n",
              "      <td>0</td>\n",
              "      <td>0.0</td>\n",
              "      <td>2019-01-24</td>\n",
              "      <td>L</td>\n",
              "      <td>I-Existing</td>\n",
              "      <td>NaN</td>\n",
              "      <td>16.93</td>\n",
              "      <td>Low</td>\n",
              "      <td>1860 days</td>\n",
              "      <td>0</td>\n",
              "    </tr>\n",
              "    <tr>\n",
              "      <th>2</th>\n",
              "      <td>202</td>\n",
              "      <td>20200207860000638</td>\n",
              "      <td>020200207860011389002</td>\n",
              "      <td>1</td>\n",
              "      <td>2013-09-17</td>\n",
              "      <td>N</td>\n",
              "      <td>1</td>\n",
              "      <td>JO</td>\n",
              "      <td>JO</td>\n",
              "      <td>NaN</td>\n",
              "      <td>...</td>\n",
              "      <td>0</td>\n",
              "      <td>0.0</td>\n",
              "      <td>2019-01-24</td>\n",
              "      <td>L</td>\n",
              "      <td>I-Existing</td>\n",
              "      <td>NaN</td>\n",
              "      <td>16.93</td>\n",
              "      <td>Low</td>\n",
              "      <td>1860 days</td>\n",
              "      <td>0</td>\n",
              "    </tr>\n",
              "    <tr>\n",
              "      <th>3</th>\n",
              "      <td>202</td>\n",
              "      <td>20200207860000638</td>\n",
              "      <td>020200207860010060000</td>\n",
              "      <td>1</td>\n",
              "      <td>2013-09-17</td>\n",
              "      <td>N</td>\n",
              "      <td>1</td>\n",
              "      <td>JO</td>\n",
              "      <td>JO</td>\n",
              "      <td>NaN</td>\n",
              "      <td>...</td>\n",
              "      <td>1</td>\n",
              "      <td>50.0</td>\n",
              "      <td>2019-01-24</td>\n",
              "      <td>L</td>\n",
              "      <td>I-Existing</td>\n",
              "      <td>NaN</td>\n",
              "      <td>16.93</td>\n",
              "      <td>Low</td>\n",
              "      <td>1860 days</td>\n",
              "      <td>0</td>\n",
              "    </tr>\n",
              "    <tr>\n",
              "      <th>4</th>\n",
              "      <td>202</td>\n",
              "      <td>20200207860000638</td>\n",
              "      <td>020200207860010010000</td>\n",
              "      <td>1</td>\n",
              "      <td>2013-09-17</td>\n",
              "      <td>N</td>\n",
              "      <td>1</td>\n",
              "      <td>JO</td>\n",
              "      <td>JO</td>\n",
              "      <td>NaN</td>\n",
              "      <td>...</td>\n",
              "      <td>1</td>\n",
              "      <td>56.0</td>\n",
              "      <td>2019-01-24</td>\n",
              "      <td>L</td>\n",
              "      <td>I-Existing</td>\n",
              "      <td>NaN</td>\n",
              "      <td>16.93</td>\n",
              "      <td>Low</td>\n",
              "      <td>1860 days</td>\n",
              "      <td>0</td>\n",
              "    </tr>\n",
              "    <tr>\n",
              "      <th>...</th>\n",
              "      <td>...</td>\n",
              "      <td>...</td>\n",
              "      <td>...</td>\n",
              "      <td>...</td>\n",
              "      <td>...</td>\n",
              "      <td>...</td>\n",
              "      <td>...</td>\n",
              "      <td>...</td>\n",
              "      <td>...</td>\n",
              "      <td>...</td>\n",
              "      <td>...</td>\n",
              "      <td>...</td>\n",
              "      <td>...</td>\n",
              "      <td>...</td>\n",
              "      <td>...</td>\n",
              "      <td>...</td>\n",
              "      <td>...</td>\n",
              "      <td>...</td>\n",
              "      <td>...</td>\n",
              "      <td>...</td>\n",
              "      <td>...</td>\n",
              "    </tr>\n",
              "    <tr>\n",
              "      <th>224863</th>\n",
              "      <td>404</td>\n",
              "      <td>40400811920003507</td>\n",
              "      <td>040400811920010020000</td>\n",
              "      <td>1</td>\n",
              "      <td>2017-10-22</td>\n",
              "      <td>N</td>\n",
              "      <td>1</td>\n",
              "      <td>JO</td>\n",
              "      <td>JO</td>\n",
              "      <td>NaN</td>\n",
              "      <td>...</td>\n",
              "      <td>0</td>\n",
              "      <td>0.0</td>\n",
              "      <td>2019-01-24</td>\n",
              "      <td>L</td>\n",
              "      <td>I-Existing</td>\n",
              "      <td>NaN</td>\n",
              "      <td>16.53</td>\n",
              "      <td>Low</td>\n",
              "      <td>364 days</td>\n",
              "      <td>0</td>\n",
              "    </tr>\n",
              "    <tr>\n",
              "      <th>224864</th>\n",
              "      <td>202</td>\n",
              "      <td>20200577640010547</td>\n",
              "      <td>020200577640015300042</td>\n",
              "      <td>2</td>\n",
              "      <td>2004-07-27</td>\n",
              "      <td>N</td>\n",
              "      <td>1</td>\n",
              "      <td>JO</td>\n",
              "      <td>JO</td>\n",
              "      <td>NaN</td>\n",
              "      <td>...</td>\n",
              "      <td>0</td>\n",
              "      <td>0.0</td>\n",
              "      <td>2019-01-24</td>\n",
              "      <td>M</td>\n",
              "      <td>E-Existing</td>\n",
              "      <td>NaN</td>\n",
              "      <td>57.60</td>\n",
              "      <td>Medium</td>\n",
              "      <td>5199 days</td>\n",
              "      <td>0</td>\n",
              "    </tr>\n",
              "    <tr>\n",
              "      <th>224865</th>\n",
              "      <td>502</td>\n",
              "      <td>50220271300005255</td>\n",
              "      <td>050220271300012980002</td>\n",
              "      <td>1</td>\n",
              "      <td>2000-08-23</td>\n",
              "      <td>N</td>\n",
              "      <td>1</td>\n",
              "      <td>JO</td>\n",
              "      <td>JO</td>\n",
              "      <td>NaN</td>\n",
              "      <td>...</td>\n",
              "      <td>0</td>\n",
              "      <td>0.0</td>\n",
              "      <td>2019-01-24</td>\n",
              "      <td>L</td>\n",
              "      <td>I-Existing</td>\n",
              "      <td>NaN</td>\n",
              "      <td>14.53</td>\n",
              "      <td>Low</td>\n",
              "      <td>6633 days</td>\n",
              "      <td>0</td>\n",
              "    </tr>\n",
              "    <tr>\n",
              "      <th>224866</th>\n",
              "      <td>704</td>\n",
              "      <td>70424500690004664</td>\n",
              "      <td>070424500690011396000</td>\n",
              "      <td>1</td>\n",
              "      <td>2008-01-16</td>\n",
              "      <td>N</td>\n",
              "      <td>1</td>\n",
              "      <td>JO</td>\n",
              "      <td>JO</td>\n",
              "      <td>NaN</td>\n",
              "      <td>...</td>\n",
              "      <td>0</td>\n",
              "      <td>0.0</td>\n",
              "      <td>2019-01-24</td>\n",
              "      <td>M</td>\n",
              "      <td>I-Existing</td>\n",
              "      <td>NaN</td>\n",
              "      <td>24.53</td>\n",
              "      <td>Medium</td>\n",
              "      <td>3931 days</td>\n",
              "      <td>0</td>\n",
              "    </tr>\n",
              "    <tr>\n",
              "      <th>224867</th>\n",
              "      <td>209</td>\n",
              "      <td>20900444790003021</td>\n",
              "      <td>020900444790011396000</td>\n",
              "      <td>1</td>\n",
              "      <td>2015-10-14</td>\n",
              "      <td>N</td>\n",
              "      <td>1</td>\n",
              "      <td>JO</td>\n",
              "      <td>JO</td>\n",
              "      <td>NaN</td>\n",
              "      <td>...</td>\n",
              "      <td>0</td>\n",
              "      <td>0.0</td>\n",
              "      <td>2019-01-24</td>\n",
              "      <td>M</td>\n",
              "      <td>I-Existing</td>\n",
              "      <td>NaN</td>\n",
              "      <td>22.88</td>\n",
              "      <td>Medium</td>\n",
              "      <td>1103 days</td>\n",
              "      <td>0</td>\n",
              "    </tr>\n",
              "  </tbody>\n",
              "</table>\n",
              "<p>224868 rows × 48 columns</p>\n",
              "</div>"
            ],
            "text/plain": [
              "        branchCode         customerId            fullaccount  customerType  \\\n",
              "0              201  20100400550000072  020100400550015817000             2   \n",
              "1              202  20200207860000638  020200207860011330000             1   \n",
              "2              202  20200207860000638  020200207860011389002             1   \n",
              "3              202  20200207860000638  020200207860010060000             1   \n",
              "4              202  20200207860000638  020200207860010010000             1   \n",
              "...            ...                ...                    ...           ...   \n",
              "224863         404  40400811920003507  040400811920010020000             1   \n",
              "224864         202  20200577640010547  020200577640015300042             2   \n",
              "224865         502  50220271300005255  050220271300012980002             1   \n",
              "224866         704  70424500690004664  070424500690011396000             1   \n",
              "224867         209  20900444790003021  020900444790011396000             1   \n",
              "\n",
              "       creationDate onboarding  residentStatus residentCountry  \\\n",
              "0        2015-04-05          N               1              JO   \n",
              "1        2013-09-17          N               1              JO   \n",
              "2        2013-09-17          N               1              JO   \n",
              "3        2013-09-17          N               1              JO   \n",
              "4        2013-09-17          N               1              JO   \n",
              "...             ...        ...             ...             ...   \n",
              "224863   2017-10-22          N               1              JO   \n",
              "224864   2004-07-27          N               1              JO   \n",
              "224865   2000-08-23          N               1              JO   \n",
              "224866   2008-01-16          N               1              JO   \n",
              "224867   2015-10-14          N               1              JO   \n",
              "\n",
              "       nationalityOriginal extraNationality  ... number_of_wd_90_days  \\\n",
              "0                       JO              NaN  ...                    0   \n",
              "1                       JO              NaN  ...                    0   \n",
              "2                       JO              NaN  ...                    0   \n",
              "3                       JO              NaN  ...                    1   \n",
              "4                       JO              NaN  ...                    1   \n",
              "...                    ...              ...  ...                  ...   \n",
              "224863                  JO              NaN  ...                    0   \n",
              "224864                  JO              NaN  ...                    0   \n",
              "224865                  JO              NaN  ...                    0   \n",
              "224866                  JO              NaN  ...                    0   \n",
              "224867                  JO              NaN  ...                    0   \n",
              "\n",
              "        avg_of_wd_90_days  date_of_assessment rbaGradeAbrv  score_card  \\\n",
              "0                     0.0          2019-01-24            L  E-Existing   \n",
              "1                     0.0          2019-01-24            L  I-Existing   \n",
              "2                     0.0          2019-01-24            L  I-Existing   \n",
              "3                    50.0          2019-01-24            L  I-Existing   \n",
              "4                    56.0          2019-01-24            L  I-Existing   \n",
              "...                   ...                 ...          ...         ...   \n",
              "224863                0.0          2019-01-24            L  I-Existing   \n",
              "224864                0.0          2019-01-24            M  E-Existing   \n",
              "224865                0.0          2019-01-24            L  I-Existing   \n",
              "224866                0.0          2019-01-24            M  I-Existing   \n",
              "224867                0.0          2019-01-24            M  I-Existing   \n",
              "\n",
              "        score_card_Desc rbaValue  Risk_Description creationDate_indays  age  \n",
              "0                   NaN    13.20               Low           1295 days    0  \n",
              "1                   NaN    16.93               Low           1860 days    0  \n",
              "2                   NaN    16.93               Low           1860 days    0  \n",
              "3                   NaN    16.93               Low           1860 days    0  \n",
              "4                   NaN    16.93               Low           1860 days    0  \n",
              "...                 ...      ...               ...                 ...  ...  \n",
              "224863              NaN    16.53               Low            364 days    0  \n",
              "224864              NaN    57.60            Medium           5199 days    0  \n",
              "224865              NaN    14.53               Low           6633 days    0  \n",
              "224866              NaN    24.53            Medium           3931 days    0  \n",
              "224867              NaN    22.88            Medium           1103 days    0  \n",
              "\n",
              "[224868 rows x 48 columns]"
            ]
          },
          "metadata": {
            "tags": []
          },
          "execution_count": 38
        }
      ]
    },
    {
      "cell_type": "markdown",
      "metadata": {
        "id": "Zs9gfh1Lw96v"
      },
      "source": [
        "# how to filter all the non numeric values in a column? (1)\n",
        "\n",
        "### in the code/categorical columns there needs to be created lists to check for values that are not in the list - 2\n",
        "customerId: 1\n",
        "\n",
        "full account: repeated values would mean duplicates, there should not be repeated full account numbers\n",
        "\n",
        "creationDate: need to check all non date values\n",
        "\n",
        "residentCountry: 2\n",
        "nationalityOriginal: 2\n",
        "\n",
        "dateOfBirth: need to check all non date values\n",
        "\n",
        "birthPlace: check all values that are not places\n",
        "\n",
        "profession: 2\n",
        "\n",
        "companyType: 1\n",
        "\n",
        "giincode: might just drop it, since it only has one code\n",
        "\n",
        "status: might drop it since they are all \"active\"\n",
        "\n",
        "ledgerCode: 2\n",
        "\n",
        "accountCurrency: check for values that are not in the currency list\n",
        "\n",
        "jointAccount: 2\n",
        "\n",
        "IsBlackListed: might just drop it, since it only has 0's\n",
        "\n",
        "CUS_CLASS: 2\n",
        "ECO_SEC: 2\n",
        "TYPE_OF_DEP: 2\n",
        "GENDER: 2\n",
        "LEGAL_STA_CODE: 2\n",
        "\n",
        "avg_last_10_days:1\n",
        "avg_last_30_days:1\n",
        "avg_last_90_days:1\n",
        "...\n",
        "avg_of_wd_90_days:1\n",
        "\n",
        "date_of_assessment: drop it since there is only one date\n",
        "\n",
        "rbaGradeAbrv: 2\n",
        "score_card:2\n",
        "\n",
        "rbaValue: 1\n",
        "\n",
        "Risk_Description:2"
      ]
    },
    {
      "cell_type": "markdown",
      "metadata": {
        "id": "LaOVm0Fjw96w"
      },
      "source": [
        "## Creating lists for all the categoric variables"
      ]
    },
    {
      "cell_type": "code",
      "metadata": {
        "id": "ToI_6bybw96w",
        "outputId": "ee1261e6-a3b9-4456-f175-72db37365ea7"
      },
      "source": [
        "metadata_countries = pd.read_excel('RBA Metadata.xlsx', sheet_name='COUNTRIES')\n",
        "countries_list = list(metadata_countries['value'])\n",
        "print (countries_list)"
      ],
      "execution_count": null,
      "outputs": [
        {
          "output_type": "stream",
          "text": [
            "['AD', 'AF', 'AG', 'AN', 'AO', 'AQ', 'AR', 'AS', 'AW', 'BA', 'BB', 'BH', 'BM', 'BN', 'BS', 'BV', 'BZ', 'CC', 'CD', 'CI', 'CK', 'CO', 'CU', 'CX', 'CY', 'DZ', 'ET', 'FJ', 'FK', 'FM', 'FO', 'GL', 'GN', 'GP', 'GQ', 'GT', 'GU', 'GW', 'GY', 'HK', 'HM', 'HN', 'HT', 'IO', 'IQ', 'JM', 'KE', 'KH', 'KI', 'KN', 'KY', 'LA', 'LB', 'LC', 'LT', 'LY', 'MD', 'ME', 'MH', 'ML', 'MM', 'MN', 'MP', 'MS', 'MU', 'MV', 'MZ', nan, 'NC', 'NF', 'NP', 'NR', 'NT', 'NU', 'PA', 'PE', 'PG', 'PK', 'PM', 'PN', 'PW', 'RE', 'RU', 'RW', 'SB', 'SC', 'SD', 'SG', 'SH', 'SJ', 'SL', 'SN', 'SO', 'SR', 'ST', 'SY', 'TC', 'TK', 'TL', 'TN', 'TO', 'TR', 'TV', 'TZ', 'UA', 'UG', 'UM', 'VC', 'VG', 'VI', 'VU', 'WF', 'WS', 'YE', 'ZM', 'ZW', 'AM', 'AT', 'AU', 'AZ', 'BE', 'BF', 'BG', 'BW', 'CA', 'CF', 'CG', 'CL', 'CM', 'CR', 'CV', 'CZ', 'DD', 'DE', 'DK', 'DM', 'DO', 'EC', 'EE', 'ES', 'FI', 'FR', 'GA', 'GB', 'GE', 'GF', 'GI', 'GM', 'HR', 'HU', 'ID', 'IE', 'IL', 'IN', 'IS', 'IT', 'JO', 'JP', 'KR', 'LI', 'LK', 'LR', 'LU', 'MK', 'MO', 'MQ', 'MR', 'NI', 'NL', 'NO', 'NZ', 'PF', 'PL', 'PR', 'PT', 'RO', 'SA', 'SE', 'SI', 'SM', 'SV', 'TF', 'TH', 'TW', 'VA', 'YU', 'AE', 'AI', 'AL', 'BD', 'BI', 'BJ', 'BO', 'BR', 'BT', 'CH', 'CN', 'DJ', 'EG', 'EH', 'GH', 'GR', 'KM', 'KW', 'LS', 'LV', 'MA', 'MC', 'MG', 'MT', 'MW', 'MX', 'MY', 'NE', 'NG', 'OM', 'PH', 'PS', 'PY', 'QA', 'SZ', 'TD', 'TG', 'TT', 'US', 'UY', 'VE', 'VN', 'ZA', 'IR', 'KP']\n"
          ],
          "name": "stdout"
        }
      ]
    },
    {
      "cell_type": "code",
      "metadata": {
        "id": "hkvt4CFCw96w",
        "outputId": "e5b8c757-b140-4775-aa0c-c8d80899e207"
      },
      "source": [
        "metadata_currencies = pd.read_excel('RBA Metadata.xlsx', sheet_name='Currencies')\n",
        "currencies_list = list(metadata_currencies['value'])\n",
        "print (currencies_list)"
      ],
      "execution_count": null,
      "outputs": [
        {
          "output_type": "stream",
          "text": [
            "['COP', 'IQD', 'IRR', 'LBP', 'PKR', 'QAR', 'RUS', 'SYP', 'TRL', 'Try', 'XAG', 'XAU', 'XPD', 'XPT', 'JOD', 'AED', 'ATS', 'AUD', 'BBD', 'BEF', 'BHD', 'CAD', 'CHF', 'CHN', 'COF', 'COP', 'CYP', 'DEM', 'DKK', 'EGP', 'ESP', 'EUR', 'FIM', 'FRF', 'GBP', 'GRD', 'HKD', 'IDR', 'IEP', 'ILS', 'INR', 'ITL', 'JPY', 'KWD', 'MAD', 'NLG', 'NOK', 'NZD', 'OMR', 'PLN', 'ROL', 'SAR', 'SEK', 'SGD', 'SKK', 'THB', 'TND', 'TWD', 'USD']\n"
          ],
          "name": "stdout"
        }
      ]
    },
    {
      "cell_type": "code",
      "metadata": {
        "id": "WfVGiZXgw96x",
        "outputId": "3b6fd8b4-e738-4b31-efd2-50e906de44c3"
      },
      "source": [
        "metadata_Legal_STA = pd.read_excel('RBA Metadata.xlsx', sheet_name='Legal_STA_Code')\n",
        "Legal_STA_list = list(metadata_Legal_STA['value'])\n",
        "print (Legal_STA_list)"
      ],
      "execution_count": null,
      "outputs": [
        {
          "output_type": "stream",
          "text": [
            "[100, 12, 13, 2, 27, 5, 57, 60, 63, 90, 91, 99, 1, 10, 20, 21, 22, 23, 24, 25, 26, 28, 29, 3, 30, 31, 35, 40, 41, 42, 43, 45, 46, 47, 48, 49, 51, 59, 6, 64, 7, 0, 11, 1234, 14, 15, 16, 17, 32, 36, 37, 4, 50, 52, 53, 54, 55, 56, 58, 61, 62, 44]\n"
          ],
          "name": "stdout"
        }
      ]
    },
    {
      "cell_type": "code",
      "metadata": {
        "id": "YOI2cb9aw96y",
        "outputId": "0222da69-9d14-49be-fbca-d0d1c96ef4f6"
      },
      "source": [
        "metadata_Type_of_DEP = pd.read_excel('RBA Metadata.xlsx', sheet_name='Type_Of_DEP')\n",
        "Departments_list = list(metadata_Type_of_DEP['value'])\n",
        "print (Departments_list)"
      ],
      "execution_count": null,
      "outputs": [
        {
          "output_type": "stream",
          "text": [
            "[100, 12, 13, 44, 62, 63, 90, 91, 99, 0, 1, 10, 11, 1234, 14, 15, 16, 17, 2, 20, 21, 22, 23, 24, 25, 26, 27, 28, 29, 3, 30, 31, 32, 33, 4, 40, 41, 42, 43, 45, 46, 51, 52, 53, 54, 58, 59, 6, 64, 7, 35, 36, 37, 47, 48, 49, 5, 50, 55, 56, 57, 60, 61]\n"
          ],
          "name": "stdout"
        }
      ]
    },
    {
      "cell_type": "code",
      "metadata": {
        "id": "7EKdsPHIw96y",
        "outputId": "97e1d94e-024b-4c57-a168-da37220b5bda"
      },
      "source": [
        "metadata_ECO_SEC = pd.read_excel('RBA Metadata.xlsx', sheet_name='ECO_SEC')\n",
        "eco_sec_list = list(metadata_ECO_SEC['value'])\n",
        "print (eco_sec_list)"
      ],
      "execution_count": null,
      "outputs": [
        {
          "output_type": "stream",
          "text": [
            "[124, 148, 150, 197, 219, 321, 322, 323, 324, 325, 326, 327, 328, 337, 348, 388, 390, 391, 392, 395, 397, 42, 48, 65, 72, 73, 74, 0, 1, 10, 11, 12, 123, 125, 126, 127, 128, 129, 13, 130, 131, 132, 133, 134, 135, 136, 137, 138, 139, 14, 140, 141, 142, 143, 144, 146, 147, 149, 15, 151, 152, 153, 154, 155, 156, 157, 158, 159, 16, 160, 161, 162, 163, 164, 165, 166, 167, 168, 169, 17, 170, 171, 172, 173, 174, 175, 176, 177, 178, 179, 180, 181, 182, 183, 184, 185, 186, 187, 189, 190, 191, 192, 193, 194, 195, 196, 198, 199, 2, 20, 200, 201, 202, 203, 204, 205, 206, 207, 208, 209, 210, 211, 212, 213, 214, 215, 216, 217, 218, 220, 221, 222, 223, 224, 225, 226, 227, 228, 229, 230, 231, 233, 234, 235, 237, 238, 239, 24, 240, 241, 242, 243, 244, 245, 246, 247, 248, 249, 25, 250, 251, 252, 253, 254, 256, 257, 258, 259, 26, 260, 261, 262, 263, 264, 265, 266, 267, 268, 269, 27, 270, 271, 272, 273, 274, 275, 276, 277, 278, 279, 28, 280, 281, 282, 283, 284, 285, 286, 287, 288, 289, 29, 290, 291, 292, 293, 294, 295, 296, 297, 298, 299, 30, 300, 301, 302, 303, 304, 305, 306, 307, 308, 309, 31, 310, 311, 312, 313, 314, 315, 316, 317, 318, 319, 32, 320, 329, 33, 330, 331, 332, 333, 334, 335, 336, 338, 339, 34, 340, 341, 342, 343, 344, 345, 346, 347, 349, 35, 350, 351, 352, 353, 354, 355, 356, 357, 358, 359, 36, 360, 361, 362, 363, 364, 365, 366, 367, 368, 369, 37, 370, 371, 372, 373, 374, 375, 376, 377, 378, 379, 380, 381, 382, 383, 384, 385, 386, 387, 389, 39, 393, 394, 396, 398, 399, 40, 400, 401, 402, 403, 404, 405, 406, 407, 408, 409, 410, 411, 43, 44, 45, 46, 47, 49, 5, 50, 51, 52, 53, 54, 55, 56, 57, 58, 59, 6, 60, 61, 62, 63, 64, 66, 67, 68, 7, 70, 71, 75, 76, 77, 78, 79, 8, 80, 81, 82, 83, 84, 85, 86, 87, 88, 90, 91, 92, 94, 95, 96, 97, 98, 99, 145, 149, 200, 201, 205, 23, 236, 359, 373, 38, 41, 69]\n"
          ],
          "name": "stdout"
        }
      ]
    },
    {
      "cell_type": "code",
      "metadata": {
        "id": "4bFXCqEAw96z",
        "outputId": "b757f803-89c4-4869-f25e-fd2c029c5f79"
      },
      "source": [
        "metadata_Cus_Class = pd.read_excel('RBA Metadata.xlsx', sheet_name='Cus_Class')\n",
        "Cus_Class_list = list(metadata_Cus_Class['value'])\n",
        "print (Cus_Class_list)"
      ],
      "execution_count": null,
      "outputs": [
        {
          "output_type": "stream",
          "text": [
            "[0, 1, 15, 2, 3, 4, 5, 50, 51, 52, 54, 6, 60, 61, 62, 63, 64, 65, 7, 90, 91, 92, 93, 94, 95, 96]\n"
          ],
          "name": "stdout"
        }
      ]
    },
    {
      "cell_type": "code",
      "metadata": {
        "id": "QL4y_tRQw96z",
        "outputId": "6ccb56b1-635d-49d2-9d20-88eab139d406"
      },
      "source": [
        "metadata_Ledgers = pd.read_excel('RBA Metadata.xlsx', sheet_name='Ledgers')\n",
        "Ledgers_list = list(metadata_Ledgers['value'])\n",
        "print (Ledgers_list)"
      ],
      "execution_count": null,
      "outputs": [
        {
          "output_type": "stream",
          "text": [
            "[1041, 1050, 1120, 1121, 1122, 1125, 1130, 1211, 1372, 1403, 1404, 1405, 1408, 1858, 1897, 1923, 1926, 1931, 1995, 1996, 1997, 2000, 2010, 2011, 2012, 2013, 2070, 2501, 2821, 2825, 3202, 3284, 3323, 3324, 3326, 4000, 4001, 4002, 4010, 4011, 4020, 4021, 4022, 4023, 4024, 4025, 4026, 4027, 4028, 4029, 4030, 4032, 4033, 4034, 4035, 4036, 4037, 4100, 4101, 4110, 4111, 4112, 4200, 4220, 4221, 4222, 4303, 4305, 4320, 4330, 4331, 4410, 4500, 4501, 4502, 4503, 4504, 4510, 4511, 4512, 4513, 4514, 4520, 4521, 4522, 4523, 4524, 4530, 4531, 4532, 4533, 4534, 4540, 4541, 4542, 4543, 4544, 4550, 4551, 4552, 4553, 4554, 4560, 4561, 4562, 4563, 4564, 4570, 4571, 4572, 4573, 4574, 4811, 4818, 4820, 4821, 5000, 5001, 5002, 5010, 5011, 5020, 5021, 5022, 5023, 5024, 5025, 5026, 5027, 5028, 5029, 5030, 5032, 5033, 5034, 5035, 5036, 5037, 5100, 5101, 5110, 5111, 5112, 5200, 5220, 5221, 5303, 5305, 5320, 5330, 5331, 5500, 5501, 5502, 5503, 5504, 5510, 5511, 5512, 5513, 5514, 5520, 5521, 5522, 5523, 5524, 5530, 5531, 5532, 5533, 5534, 5540, 5541, 5542, 5543, 5544, 5550, 5551, 5552, 5553, 5554, 5560, 5561, 5562, 5563, 5564, 5570, 5571, 5572, 5573, 5574, 5818, 5819, 5821, 5822, 8130, 10, 1023, 11, 1111, 1200, 1210, 1214, 1215, 1250, 1251, 1252, 1253, 1255, 1257, 1258, 1259, 1260, 1261, 1262, 1263, 1264, 1265, 1266, 1267, 1268, 1269, 1270, 1272, 1273, 1274, 1275, 1277, 1300, 1301, 1302, 1303, 1304, 1305, 1306, 1308, 1309, 1310, 1311, 1312, 1313, 1314, 1315, 1316, 1317, 1318, 1319, 1325, 1326, 1328, 1330, 1332, 1333, 1335, 1336, 1337, 1338, 1339, 1340, 1341, 1342, 1343, 1344, 1345, 1348, 1349, 1350, 1351, 1353, 1354, 1355, 1356, 1358, 1361, 1363, 1364, 1365, 1366, 1368, 1369, 1370, 1371, 1373, 1374, 1375, 1376, 1377, 1378, 1379, 1380, 1381, 1382, 1384, 1385, 1386, 1387, 1388, 1389, 1390, 1391, 1392, 1393, 1394, 1395, 1396, 1397, 1398, 1399, 1400, 1401, 1402, 1406, 1412, 1413, 1900, 1924, 1928, 1929, 20, 21, 2610, 2611, 2700, 2730, 3200, 3208, 3209, 3210, 3211, 3212, 3216, 3264, 3265, 3296, 3305, 4300, 4301, 4306, 50, 51, 5301, 5306, 5410, 60, 61, 8700, 1203, 1204, 1213, 1802, 1922, 2071, 2229, 2601, 2612, 2613, 2614, 2615, 2621, 2622, 2630, 2631, 2632, 2633, 2634, 2706, 2800, 2801, 2802, 2803, 2804, 2805, 2806, 2807, 2808, 2809, 2810, 2811, 2812, 2813, 2814, 2815, 2820, 31, 32, 40, 41, 43, 4304, 4311, 45, 46, 47, 48, 4813, 4817, 5304, 54, 55, 5817, 71, 72]\n"
          ],
          "name": "stdout"
        }
      ]
    },
    {
      "cell_type": "code",
      "metadata": {
        "id": "66I08cUsw96z",
        "outputId": "bcb033d2-6f4c-4e60-ca17-cd23b3333020"
      },
      "source": [
        "metadata_Profession = pd.read_excel('RBA Metadata.xlsx', sheet_name='Profession')\n",
        "Professions_list = list(metadata_Profession['Value'])\n",
        "print (Professions_list)"
      ],
      "execution_count": null,
      "outputs": [
        {
          "output_type": "stream",
          "text": [
            "[12, 13, 14, 15, 16, 27, 29, 30, 31, 32, 33, 34, 35, 36, 37, 38, 39, 40, 41, 42, 5, 8, 11, 18, 19, 20, 21, 22, 23, 24, 26, 28, 3, 4, 6, 7, 9, 1, 10, 17, 2, 25, ' ']\n"
          ],
          "name": "stdout"
        }
      ]
    },
    {
      "cell_type": "code",
      "metadata": {
        "id": "sDnPm3q7w960",
        "outputId": "fc9bdcce-b777-4b2b-cd79-8f42b83ea043"
      },
      "source": [
        "company_type_list = list(df['companyType'].unique())\n",
        "print (company_type_list)"
      ],
      "execution_count": null,
      "outputs": [
        {
          "output_type": "stream",
          "text": [
            "[35.0, nan, 51.0, 2.0, 49.0, 1.0, 37.0, 54.0, 5.0, 36.0, 13.0, 52.0, 57.0, 14.0, 17.0, 53.0, 10.0, 11.0, 15.0, 58.0, 56.0, 16.0, 50.0, 64.0, 12.0, 100.0, 4.0, 55.0, 6.0, 61.0, 60.0, 7.0, 3.0, 46.0]\n"
          ],
          "name": "stdout"
        }
      ]
    },
    {
      "cell_type": "code",
      "metadata": {
        "id": "ef8hRvBgw961",
        "outputId": "06edd33b-133e-40af-8c82-c82a3e8bee21"
      },
      "source": [
        "branch_list = list(df['branchCode'].unique())\n",
        "print (branch_list)"
      ],
      "execution_count": null,
      "outputs": [
        {
          "output_type": "stream",
          "text": [
            "[201, 202, 203, 204, 205, 206, 357, 207, 208, 209, 302, 351, 354, 356, 401, 402, 403, 404, 501, 502, 601, 603, 701, 702, 704, 801, 802, 803, 804, 805]\n"
          ],
          "name": "stdout"
        }
      ]
    },
    {
      "cell_type": "markdown",
      "metadata": {
        "id": "kiRtb4Z2w961"
      },
      "source": [
        "## Column lists"
      ]
    },
    {
      "cell_type": "code",
      "metadata": {
        "id": "c6M4IGG3w962",
        "outputId": "25d944ae-44e9-44e6-f9b2-28c95c50fa42"
      },
      "source": [
        "df.info()"
      ],
      "execution_count": null,
      "outputs": [
        {
          "output_type": "stream",
          "text": [
            "<class 'pandas.core.frame.DataFrame'>\n",
            "RangeIndex: 224868 entries, 0 to 224867\n",
            "Data columns (total 48 columns):\n",
            " #   Column                      Non-Null Count   Dtype          \n",
            "---  ------                      --------------   -----          \n",
            " 0   org_code                    224868 non-null  int64          \n",
            " 1   branchCode                  224868 non-null  int64          \n",
            " 2   customerId                  224868 non-null  int64          \n",
            " 3   fullaccount                 224868 non-null  object         \n",
            " 4   customerType                224868 non-null  int64          \n",
            " 5   creationDate                224868 non-null  object         \n",
            " 6   onboarding                  224868 non-null  object         \n",
            " 7   residentStatus              224868 non-null  int64          \n",
            " 8   residentCountry             224272 non-null  object         \n",
            " 9   nationalityOriginal         221429 non-null  object         \n",
            " 10  extraNationality            1793 non-null    object         \n",
            " 11  dateOfBirth                 220153 non-null  object         \n",
            " 12  age_in_year                 220153 non-null  float64        \n",
            " 13  birthCountry                0 non-null       float64        \n",
            " 14  birthPlace                  203026 non-null  object         \n",
            " 15  profession                  79748 non-null   float64        \n",
            " 16  companyType                 114574 non-null  float64        \n",
            " 17  giinCode                    12 non-null      object         \n",
            " 18  lastUpdate                  0 non-null       float64        \n",
            " 19  status                      224868 non-null  object         \n",
            " 20  ledgerCode                  224868 non-null  int64          \n",
            " 21  accountCurrency             224868 non-null  object         \n",
            " 22  jointAccount                224868 non-null  int64          \n",
            " 23  IsBlackListed               224868 non-null  int64          \n",
            " 24  CUS_CLASS                   224868 non-null  int64          \n",
            " 25  ECO_SEC                     224868 non-null  int64          \n",
            " 26  TYPE_OF_DEP                 224868 non-null  int64          \n",
            " 27  GENDER                      104357 non-null  float64        \n",
            " 28  LEGAL_STA_CODE              222252 non-null  float64        \n",
            " 29  legal_Stat_desc             0 non-null       float64        \n",
            " 30  avg_last_10_days            224868 non-null  float64        \n",
            " 31  avg_last_30_days            224868 non-null  float64        \n",
            " 32  avg_last_90_days            224868 non-null  float64        \n",
            " 33  number_of_cash_dep_90_days  224868 non-null  int64          \n",
            " 34  avg_cash_deposit_90_days    224868 non-null  float64        \n",
            " 35  number_of_deposit_90_days   224868 non-null  int64          \n",
            " 36  avg_of_dep_90_days          224868 non-null  float64        \n",
            " 37  number_of_cash_wd_90_days   224868 non-null  int64          \n",
            " 38  avg_of_cash_wd_90_days      224868 non-null  float64        \n",
            " 39  number_of_wd_90_days        224868 non-null  int64          \n",
            " 40  avg_of_wd_90_days           224868 non-null  float64        \n",
            " 41  date_of_assessment          224868 non-null  object         \n",
            " 42  rbaGradeAbrv                224868 non-null  object         \n",
            " 43  score_card                  224868 non-null  object         \n",
            " 44  score_card_Desc             0 non-null       float64        \n",
            " 45  rbaValue                    224868 non-null  float64        \n",
            " 46  Risk_Description            224868 non-null  object         \n",
            " 47  creationDate_indays         224868 non-null  timedelta64[ns]\n",
            "dtypes: float64(17), int64(15), object(15), timedelta64[ns](1)\n",
            "memory usage: 82.3+ MB\n"
          ],
          "name": "stdout"
        }
      ]
    },
    {
      "cell_type": "code",
      "metadata": {
        "id": "K5MD5BQ5w962",
        "outputId": "50be4088-8d9b-4f89-ef22-837fc877ce11"
      },
      "source": [
        "for i in list(df):\n",
        "    print(df[i].value_counts())"
      ],
      "execution_count": null,
      "outputs": [
        {
          "output_type": "stream",
          "text": [
            "1    224868\n",
            "Name: org_code, dtype: int64\n",
            "202    19684\n",
            "208    15974\n",
            "704    12882\n",
            "701    11332\n",
            "805    10428\n",
            "801     9262\n",
            "502     8870\n",
            "206     8598\n",
            "207     8458\n",
            "403     7673\n",
            "501     7556\n",
            "354     7483\n",
            "209     7453\n",
            "402     7339\n",
            "702     6985\n",
            "205     6674\n",
            "401     6653\n",
            "601     6046\n",
            "351     5958\n",
            "802     5782\n",
            "302     5716\n",
            "803     5494\n",
            "356     5376\n",
            "203     5097\n",
            "204     5083\n",
            "804     4525\n",
            "357     4355\n",
            "603     4245\n",
            "404     3691\n",
            "201      196\n",
            "Name: branchCode, dtype: int64\n",
            "30205511090005696    943\n",
            "35108255290001427    723\n",
            "20702061400001087    700\n",
            "2060022929           513\n",
            "20600229290003418    513\n",
            "                    ... \n",
            "35100754940002032      1\n",
            "60300417980001162      1\n",
            "20300468800002406      1\n",
            "40300684080003153      1\n",
            "35400449070002754      1\n",
            "Name: customerId, Length: 75339, dtype: int64\n",
            "020902507770010010000    26\n",
            "020301298000011316000    23\n",
            "020301298000011306000    23\n",
            "020301298000012957000    23\n",
            "020301298000011930001    23\n",
            "                         ..\n",
            "040312554530012968000     1\n",
            "070424503890011406010     1\n",
            "020200221280011406010     1\n",
            "035400266510011396000     1\n",
            "020301313130011316003     1\n",
            "Name: fullaccount, Length: 220434, dtype: int64\n",
            "1    199139\n",
            "2     25729\n",
            "Name: customerType, dtype: int64\n",
            "2013-11-20    1079\n",
            "1994-05-18     951\n",
            "2014-12-31     889\n",
            "2010-07-28     714\n",
            "2016-08-04     600\n",
            "              ... \n",
            "1984-05-24       1\n",
            "1994-12-26       1\n",
            "1990-05-26       1\n",
            "1986-03-25       1\n",
            "1996-01-27       1\n",
            "Name: creationDate, Length: 7041, dtype: int64\n",
            "N    219791\n",
            "Y      5077\n",
            "Name: onboarding, dtype: int64\n",
            "1    220096\n",
            "2      4772\n",
            "Name: residentStatus, dtype: int64\n",
            "JO    219253\n",
            "OM       985\n",
            "IQ       981\n",
            "SA       657\n",
            "US       358\n",
            "       ...  \n",
            "AS         2\n",
            "AF         1\n",
            "NG         1\n",
            "SO         1\n",
            "LR         1\n",
            "Name: residentCountry, Length: 62, dtype: int64\n",
            "JO    213141\n",
            "IQ      3206\n",
            "EG      1349\n",
            "SY      1215\n",
            "LY       433\n",
            "       ...  \n",
            "SO         1\n",
            "TH         1\n",
            "LR         1\n",
            "KP         1\n",
            "BG         1\n",
            "Name: nationalityOriginal, Length: 67, dtype: int64\n",
            "US    1028\n",
            "XK     435\n",
            "CA      45\n",
            "GB      42\n",
            "JO      34\n",
            "CO      20\n",
            "AU      17\n",
            "FR      15\n",
            "BA      15\n",
            "IQ      14\n",
            "EG      14\n",
            "SE      12\n",
            "IT      12\n",
            "UA      11\n",
            "RO      10\n",
            "ES       8\n",
            "TR       6\n",
            "CH       5\n",
            "PL       5\n",
            "GR       5\n",
            "BR       4\n",
            "BG       4\n",
            "NL       4\n",
            "SA       4\n",
            "BH       3\n",
            "LY       3\n",
            "CL       3\n",
            "CY       3\n",
            "NO       3\n",
            "SY       3\n",
            "RU       2\n",
            "BE       1\n",
            "VE       1\n",
            "IO       1\n",
            "LB       1\n",
            "Name: extraNationality, dtype: int64\n",
            "1992-07-22    1035\n",
            "1994-05-16     944\n",
            "1996-06-15     727\n",
            "1973-06-13     710\n",
            "1946-01-01     541\n",
            "              ... \n",
            "1937-11-05       1\n",
            "2009-11-13       1\n",
            "1952-04-25       1\n",
            "1997-05-04       1\n",
            "1977-09-17       1\n",
            "Name: dateOfBirth, Length: 21457, dtype: int64\n",
            "36.0     6064\n",
            "38.0     6027\n",
            "40.0     5788\n",
            "39.0     5714\n",
            "35.0     5627\n",
            "         ... \n",
            "108.0       1\n",
            "102.0       1\n",
            "97.0        1\n",
            "100.0       1\n",
            "99.0        1\n",
            "Name: age_in_year, Length: 106, dtype: int64\n",
            "Series([], Name: birthCountry, dtype: int64)\n",
            "????           76312\n",
            "?????          38740\n",
            "??????         29904\n",
            "???????        19465\n",
            "????????        7690\n",
            "               ...  \n",
            "PHILLAUR           1\n",
            "arpacay            1\n",
            "KAB NEG OCC        1\n",
            "Bagdad             1\n",
            "KISHOREGANJ        1\n",
            "Name: birthPlace, Length: 1000, dtype: int64\n",
            "20.0    30334\n",
            "21.0    13155\n",
            "25.0     6987\n",
            "23.0     4571\n",
            "10.0     4100\n",
            "3.0      3468\n",
            "17.0     2919\n",
            "2.0      2078\n",
            "26.0     1708\n",
            "15.0     1620\n",
            "1.0      1278\n",
            "27.0     1071\n",
            "8.0      1028\n",
            "29.0      967\n",
            "22.0      940\n",
            "4.0       674\n",
            "5.0       658\n",
            "9.0       464\n",
            "11.0      427\n",
            "24.0      308\n",
            "12.0      273\n",
            "6.0       142\n",
            "7.0       126\n",
            "28.0      125\n",
            "16.0      125\n",
            "18.0       84\n",
            "13.0       50\n",
            "14.0       32\n",
            "33.0       17\n",
            "19.0       14\n",
            "31.0        3\n",
            "39.0        2\n",
            "Name: profession, dtype: int64\n",
            "51.0     89314\n",
            "54.0     10041\n",
            "52.0      6150\n",
            "37.0      3830\n",
            "35.0      1151\n",
            "53.0      1011\n",
            "1.0        955\n",
            "36.0       819\n",
            "15.0       419\n",
            "14.0       251\n",
            "64.0        81\n",
            "4.0         67\n",
            "17.0        63\n",
            "2.0         51\n",
            "5.0         47\n",
            "58.0        45\n",
            "50.0        33\n",
            "13.0        31\n",
            "6.0         26\n",
            "56.0        26\n",
            "57.0        25\n",
            "100.0       22\n",
            "16.0        20\n",
            "10.0        16\n",
            "11.0        15\n",
            "7.0         12\n",
            "49.0        11\n",
            "55.0        10\n",
            "3.0         10\n",
            "60.0         9\n",
            "12.0         7\n",
            "46.0         4\n",
            "61.0         2\n",
            "Name: companyType, dtype: int64\n",
            "ZLVK2E.99999.SL.400    12\n",
            "Name: giinCode, dtype: int64\n",
            "Series([], Name: lastUpdate, dtype: int64)\n",
            "Active    224868\n",
            "Name: status, dtype: int64\n",
            "10      49473\n",
            "60      45284\n",
            "1355    16839\n",
            "1389     9480\n",
            "20       9218\n",
            "        ...  \n",
            "1354        1\n",
            "1371        1\n",
            "2906        1\n",
            "2971        1\n",
            "8700        1\n",
            "Name: ledgerCode, Length: 227, dtype: int64\n",
            "JOD    214657\n",
            "USD      8478\n",
            "EUR      1079\n",
            "GBP       254\n",
            "AED        93\n",
            "CAD        81\n",
            "SAR        60\n",
            "JPY        41\n",
            "CHF        40\n",
            "AUD        37\n",
            "XAG        15\n",
            "XAU        11\n",
            "SEK         9\n",
            "QAR         4\n",
            "NZD         3\n",
            "DKK         2\n",
            "BHD         1\n",
            "ESP         1\n",
            "LBP         1\n",
            "KWD         1\n",
            "Name: accountCurrency, dtype: int64\n",
            "0    219999\n",
            "1      4869\n",
            "Name: jointAccount, dtype: int64\n",
            "0    224868\n",
            "Name: IsBlackListed, dtype: int64\n",
            "2     158856\n",
            "15     28020\n",
            "4      20526\n",
            "1      10740\n",
            "3       4605\n",
            "0       1858\n",
            "6        228\n",
            "5         22\n",
            "51        10\n",
            "7          3\n",
            "Name: CUS_CLASS, dtype: int64\n",
            "90     199270\n",
            "99       1718\n",
            "51       1583\n",
            "42       1527\n",
            "40       1492\n",
            "        ...  \n",
            "305         1\n",
            "287         1\n",
            "226         1\n",
            "138         1\n",
            "349         1\n",
            "Name: ECO_SEC, Length: 206, dtype: int64\n",
            "20     98819\n",
            "51     89314\n",
            "54     10041\n",
            "52      6150\n",
            "28      5578\n",
            "23      3910\n",
            "37      3830\n",
            "35      1151\n",
            "53      1011\n",
            "1        955\n",
            "36       819\n",
            "22       510\n",
            "15       419\n",
            "32       321\n",
            "14       251\n",
            "29       189\n",
            "24       189\n",
            "25       177\n",
            "26       168\n",
            "0        161\n",
            "27       109\n",
            "64        81\n",
            "4         67\n",
            "17        63\n",
            "2         51\n",
            "31        47\n",
            "5         47\n",
            "58        45\n",
            "21        42\n",
            "50        33\n",
            "13        31\n",
            "56        26\n",
            "6         26\n",
            "30        25\n",
            "57        25\n",
            "100       22\n",
            "16        20\n",
            "99        17\n",
            "63        16\n",
            "10        16\n",
            "11        15\n",
            "7         12\n",
            "49        11\n",
            "55        10\n",
            "3         10\n",
            "40        10\n",
            "60         9\n",
            "12         7\n",
            "90         6\n",
            "46         4\n",
            "61         2\n",
            "Name: TYPE_OF_DEP, dtype: int64\n",
            "1.0    78166\n",
            "2.0    26191\n",
            "Name: GENDER, dtype: int64\n",
            "1.0    191848\n",
            "2.0     18828\n",
            "3.0     10536\n",
            "4.0      1040\n",
            "Name: LEGAL_STA_CODE, dtype: int64\n",
            "Series([], Name: legal_Stat_desc, dtype: int64)\n",
            " 0.00         94127\n",
            " 820.00        1207\n",
            " 1640.00        375\n",
            "-15.00          335\n",
            " 1230.00        234\n",
            "              ...  \n",
            "-210.79           1\n",
            "-102212.29        1\n",
            " 498.74           1\n",
            " 719.33           1\n",
            " 13691.36         1\n",
            "Name: avg_last_10_days, Length: 106519, dtype: int64\n",
            " 0.00        95736\n",
            " 206.67       1211\n",
            " 413.33        375\n",
            "-5.00          345\n",
            " 310.00        232\n",
            "             ...  \n",
            " 22031.61        1\n",
            " 119.10          1\n",
            "-14.70           1\n",
            " 515.43          1\n",
            "-32726.79        1\n",
            "Name: avg_last_30_days, Length: 94287, dtype: int64\n",
            " 0.00      114028\n",
            " 0.01        2335\n",
            " 0.02        1796\n",
            " 2.22        1464\n",
            " 0.03         940\n",
            "            ...  \n",
            "-399.69         1\n",
            "-796.62         1\n",
            "-64.76          1\n",
            "-266.60         1\n",
            " 190.47         1\n",
            "Name: avg_last_90_days, Length: 37665, dtype: int64\n",
            "0      200841\n",
            "1       10433\n",
            "2        4411\n",
            "3        3088\n",
            "4        1757\n",
            "        ...  \n",
            "193         1\n",
            "68          1\n",
            "198         1\n",
            "199         1\n",
            "180         1\n",
            "Name: number_of_cash_dep_90_days, Length: 151, dtype: int64\n",
            " 0.000        200841\n",
            "-100.000        1041\n",
            "-200.000         670\n",
            "-500.000         621\n",
            "-50.000          531\n",
            "               ...  \n",
            "-7.227             1\n",
            "-2641.000          1\n",
            "-86940.000         1\n",
            "-1832.750          1\n",
            "-20266.000         1\n",
            "Name: avg_cash_deposit_90_days, Length: 5780, dtype: int64\n",
            "0       194594\n",
            "1        10952\n",
            "2         5039\n",
            "3         4298\n",
            "4         2774\n",
            "         ...  \n",
            "112          1\n",
            "415          1\n",
            "448          1\n",
            "160          1\n",
            "1151         1\n",
            "Name: number_of_deposit_90_days, Length: 293, dtype: int64\n",
            " 0.000        194845\n",
            "-100.000         996\n",
            "-200.000         655\n",
            "-500.000         598\n",
            "-1000.000        505\n",
            "               ...  \n",
            "-6573.450          1\n",
            "-25696.000         1\n",
            "-2426.898          1\n",
            "-3390.134          1\n",
            "-81560.000         1\n",
            "Name: avg_of_dep_90_days, Length: 11215, dtype: int64\n",
            "0     203531\n",
            "1       9376\n",
            "2       3693\n",
            "3       3163\n",
            "4       2283\n",
            "5        913\n",
            "6        561\n",
            "7        492\n",
            "8        256\n",
            "9        141\n",
            "10        94\n",
            "11        70\n",
            "12        53\n",
            "13        47\n",
            "15        31\n",
            "14        27\n",
            "16        22\n",
            "17        17\n",
            "20        12\n",
            "24        10\n",
            "23        10\n",
            "21        10\n",
            "19         8\n",
            "27         7\n",
            "28         5\n",
            "26         5\n",
            "18         5\n",
            "25         4\n",
            "22         2\n",
            "29         2\n",
            "42         2\n",
            "43         2\n",
            "58         2\n",
            "65         1\n",
            "30         1\n",
            "31         1\n",
            "32         1\n",
            "34         1\n",
            "37         1\n",
            "40         1\n",
            "48         1\n",
            "54         1\n",
            "55         1\n",
            "56         1\n",
            "78         1\n",
            "Name: number_of_cash_wd_90_days, dtype: int64\n",
            "0.000        203531\n",
            "100.000         712\n",
            "200.000         411\n",
            "500.000         342\n",
            "300.000         336\n",
            "              ...  \n",
            "3.889             1\n",
            "985.692           1\n",
            "3945.000          1\n",
            "77117.028         1\n",
            "1290.500          1\n",
            "Name: avg_of_cash_wd_90_days, Length: 5348, dtype: int64\n",
            "0      199578\n",
            "1        9224\n",
            "2        3837\n",
            "3        3455\n",
            "4        2537\n",
            "        ...  \n",
            "477         1\n",
            "169         1\n",
            "170         1\n",
            "171         1\n",
            "733         1\n",
            "Name: number_of_wd_90_days, Length: 259, dtype: int64\n",
            "0.000         199578\n",
            "100.000          710\n",
            "200.000          395\n",
            "300.000          346\n",
            "500.000          342\n",
            "               ...  \n",
            "1321.947           1\n",
            "293.563            1\n",
            "29497.000          1\n",
            "340895.000         1\n",
            "20321.000          1\n",
            "Name: avg_of_wd_90_days, Length: 8674, dtype: int64\n",
            "2019-01-24    224868\n",
            "Name: date_of_assessment, dtype: int64\n",
            "L    159680\n",
            "M     65099\n",
            "H        89\n",
            "Name: rbaGradeAbrv, dtype: int64\n",
            "I-Existing    178495\n",
            "E-Existing     25114\n",
            "I-New          20649\n",
            "E-NEW            610\n",
            "Name: score_card, dtype: int64\n",
            "Series([], Name: score_card_Desc, dtype: int64)\n",
            "16.53    29341\n",
            "14.53    25608\n",
            "5.33     10844\n",
            "7.33      9787\n",
            "15.28     7648\n",
            "         ...  \n",
            "46.05        1\n",
            "41.44        1\n",
            "25.03        1\n",
            "50.05        1\n",
            "20.64        1\n",
            "Name: rbaValue, Length: 692, dtype: int64\n",
            "Low       159680\n",
            "Medium     65099\n",
            "High          89\n",
            "Name: Risk_Description, dtype: int64\n",
            "1796 days     1079\n",
            "8922 days      951\n",
            "1390 days      889\n",
            "3007 days      714\n",
            "808 days       600\n",
            "              ... \n",
            "12155 days       1\n",
            "10487 days       1\n",
            "3338 days        1\n",
            "9034 days        1\n",
            "7291 days        1\n",
            "Name: creationDate_indays, Length: 7041, dtype: int64\n"
          ],
          "name": "stdout"
        }
      ]
    },
    {
      "cell_type": "code",
      "metadata": {
        "id": "rEp1frB_w963"
      },
      "source": [
        "categorical_columns_list = ['branchCode','customerType','onboarding','residentStatus','profession','companyType',\n",
        "                            'ledgerCode','accountCurrency','jointAccount','CUS_CLASS','ECO_SEC','TYPE_OF_DEP',\n",
        "                            'GENDER','LEGAL_STA_CODE','rbaGradeAbrv', 'score_card','Risk_Description',\n",
        "                            'residentCountry','nationalityOriginal','extraNationality']\n",
        "\n",
        "numeric_columns=['customerId','fullaccount','age_in_year','avg_last_10_days','avg_last_30_days','avg_last_90_days',\n",
        "                 'number_of_cash_dep_90_days','avg_cash_deposit_90_days','number_of_deposit_90_days','avg_of_dep_90_days',\n",
        "                 ' avg_of_cash_wd_90_days','avg_of_wd_90_days','rbaValue','number_of_cash_wd_90_days','number_of_wd_90_days']\n",
        "                            \n",
        "date_columns=['creationDate','dateOfBirth']\n",
        "                            \n",
        "# birthPlace, giinCode,status, IsBlackListed, creation date"
      ],
      "execution_count": null,
      "outputs": []
    },
    {
      "cell_type": "code",
      "metadata": {
        "id": "OWcR56iF2zME"
      },
      "source": [
        "# file path\r\n",
        "\"/content/gdrive/My Drive/Pythoin_Group_Assignment/RBA_KYC_Accounts_ALL_Ids.xlsx\"\r\n"
      ],
      "execution_count": null,
      "outputs": []
    },
    {
      "cell_type": "code",
      "metadata": {
        "id": "vcC42d-j6ijV"
      },
      "source": [
        ""
      ],
      "execution_count": null,
      "outputs": []
    },
    {
      "cell_type": "code",
      "metadata": {
        "id": "LATvdDk969b9"
      },
      "source": [
        ""
      ],
      "execution_count": null,
      "outputs": []
    },
    {
      "cell_type": "code",
      "metadata": {
        "id": "SxePh6C6HSKU"
      },
      "source": [
        ""
      ],
      "execution_count": null,
      "outputs": []
    },
    {
      "cell_type": "code",
      "metadata": {
        "id": "1IIwP8RDX4LG"
      },
      "source": [
        "rows, cols = df_train.shape\r\n",
        "print(f'Training Dataset\\n-------\\ncolumns: {cols}\\nrows: {rows}')\r\n",
        "cat_cols = df_train.loc[:, df_train.columns != 'price'].select_dtypes(include=['object']).columns\r\n",
        "num_cols = df_train.loc[:, df_train.columns != 'price'].select_dtypes(exclude=['object']).columns\r\n",
        "print(f'categorical columns: {len(cat_cols)}\\nnumeric columns: {len(num_cols)}\\n\\n=================\\n')"
      ],
      "execution_count": null,
      "outputs": []
    },
    {
      "cell_type": "code",
      "metadata": {
        "id": "MzFIX2nwX_xu"
      },
      "source": [
        ""
      ],
      "execution_count": null,
      "outputs": []
    },
    {
      "cell_type": "code",
      "metadata": {
        "id": "vPS7I_b8YnS1"
      },
      "source": [
        ""
      ],
      "execution_count": null,
      "outputs": []
    },
    {
      "cell_type": "code",
      "metadata": {
        "id": "G0SHunVa2h84"
      },
      "source": [
        ""
      ],
      "execution_count": null,
      "outputs": []
    },
    {
      "cell_type": "code",
      "metadata": {
        "id": "T1V-td5W2kCV"
      },
      "source": [
        ""
      ],
      "execution_count": null,
      "outputs": []
    },
    {
      "cell_type": "code",
      "metadata": {
        "id": "nq27Cj4Q2mfZ"
      },
      "source": [
        ""
      ],
      "execution_count": null,
      "outputs": []
    },
    {
      "cell_type": "code",
      "metadata": {
        "id": "SPQm7ELs2ngF"
      },
      "source": [
        "b"
      ],
      "execution_count": null,
      "outputs": []
    },
    {
      "cell_type": "code",
      "metadata": {
        "id": "iA6E9KPW5Zj9"
      },
      "source": [
        ""
      ],
      "execution_count": null,
      "outputs": []
    }
  ]
}